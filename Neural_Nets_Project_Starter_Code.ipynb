{
 "cells": [
  {
   "cell_type": "markdown",
   "metadata": {},
   "source": [
    "# Gesture Recognition\n",
    "In this group project, you are going to build a 3D Conv model that will be able to predict the 5 gestures correctly. Please import the following libraries to get started."
   ]
  },
  {
   "cell_type": "code",
   "execution_count": 2,
   "metadata": {},
   "outputs": [],
   "source": [
    "from imageio import imread"
   ]
  },
  {
   "cell_type": "code",
   "execution_count": 3,
   "metadata": {},
   "outputs": [],
   "source": [
    "# Doing the required imports :\n",
    "from keras.models import Sequential, Model\n",
    "from keras.layers import Dense, GRU, Flatten, TimeDistributed, Flatten, BatchNormalization, Activation, Dropout\n",
    "from keras.layers.convolutional import Conv3D, MaxPooling3D\n",
    "from keras.callbacks import ModelCheckpoint, ReduceLROnPlateau\n",
    "from keras import optimizers\n",
    "from keras.losses import categorical_crossentropy\n",
    "#from keras.optimizers import Adam,SGD\n",
    "from keras.layers.convolutional import Conv2D, MaxPooling3D, Conv3D, MaxPooling2D\n",
    "from keras.layers.recurrent import GRU\n",
    "from keras.layers import Activation, Dropout, ZeroPadding3D\n",
    "from keras.layers.recurrent import LSTM\n",
    "from tensorflow.keras.optimizers import Adam"
   ]
  },
  {
   "cell_type": "code",
   "execution_count": 4,
   "metadata": {},
   "outputs": [],
   "source": [
    "import numpy as np\n",
    "import os\n",
    "#from scipy.misc import imread, imresize\n",
    "import datetime\n",
    "import os\n",
    "# Importing additional libraries which might be needed for image pre-processing :\n",
    "\n",
    "#import resize as imresize\n",
    "#import sckikit-image as skimage\n",
    "import cv2\n",
    "import imageio as imio\n",
    "from PIL import Image"
   ]
  },
  {
   "cell_type": "markdown",
   "metadata": {},
   "source": [
    "We set the random seed so that the results don't vary drastically."
   ]
  },
  {
   "cell_type": "code",
   "execution_count": 5,
   "metadata": {},
   "outputs": [],
   "source": [
    "np.random.seed(30)\n",
    "import random as rn\n",
    "rn.seed(30)\n",
    "\n",
    "import tensorflow as tf\n",
    "from keras import backend as K\n",
    "\n",
    "#tf.set_random_seed(30)\n",
    "import matplotlib.pyplot as plt\n",
    "\n",
    "# Set the random seed\n",
    "tf.random.set_seed(30)"
   ]
  },
  {
   "cell_type": "code",
   "execution_count": 7,
   "metadata": {},
   "outputs": [],
   "source": []
  },
  {
   "cell_type": "markdown",
   "metadata": {},
   "source": [
    "In this block, you read the folder names for training and validation. You also set the `batch_size` here. Note that you set the batch size in such a way that you are able to use the GPU in full capacity. You keep increasing the batch size until the machine throws an error."
   ]
  },
  {
   "cell_type": "code",
   "execution_count": 10,
   "metadata": {},
   "outputs": [],
   "source": [
    "#train_doc = np.random.permutation(open('/notebooks/storage/Final_data/Collated_training/train.csv').readlines())\n",
    "train_doc = np.random.permutation(open('/datasets/Project_data/train.csv').readlines())\n",
    "#val_doc = np.random.permutation(open('/notebooks/storage/Final_data/Collated_training/val.csv').readlines())\n",
    "val_doc = np.random.permutation(open('/datasets/Project_data/val.csv').readlines())\n",
    "#experiment with the batch size\n",
    "batch_size =25"
   ]
  },
  {
   "cell_type": "code",
   "execution_count": 11,
   "metadata": {},
   "outputs": [
    {
     "name": "stdout",
     "output_type": "stream",
     "text": [
      "Number of documents in train_doc: 663\n"
     ]
    }
   ],
   "source": [
    "# Print the number of documents read to check\n",
    "print(\"Number of documents in train_doc:\", len(train_doc))"
   ]
  },
  {
   "cell_type": "code",
   "execution_count": 12,
   "metadata": {},
   "outputs": [
    {
     "name": "stdout",
     "output_type": "stream",
     "text": [
      "Number of documents in train_doc: 100\n"
     ]
    }
   ],
   "source": [
    "# Print the number of documents read to check\n",
    "print(\"Number of documents in train_doc:\", len(val_doc))"
   ]
  },
  {
   "cell_type": "code",
   "execution_count": 6,
   "metadata": {},
   "outputs": [],
   "source": [
    "# Custom function to crop image :\n",
    "\n",
    "def crop_img(img, scale=1.0):\n",
    "    center_x, center_y = img.shape[1] / 2, img.shape[0] / 2\n",
    "    width_scaled, height_scaled = img.shape[1] * scale, img.shape[0] * scale\n",
    "    left_x, right_x = center_x - width_scaled / 2, center_x + width_scaled / 2\n",
    "    top_y, bottom_y = center_y - height_scaled / 2, center_y + height_scaled / 2\n",
    "    img_cropped = img[int(top_y):int(bottom_y), int(left_x):int(right_x)]\n",
    "    return img_cropped"
   ]
  },
  {
   "cell_type": "markdown",
   "metadata": {},
   "source": [
    "## Generator\n",
    "This is one of the most important part of the code. The overall structure of the generator has been given. In the generator, you are going to preprocess the images as you have images of 2 different dimensions as well as create a batch of video frames. You have to experiment with `img_idx`, `y`,`z` and normalization such that you get high accuracy."
   ]
  },
  {
   "cell_type": "code",
   "execution_count": 14,
   "metadata": {},
   "outputs": [],
   "source": [
    "def generator(source_path, folder_list, batch_size):\n",
    "    print( 'Source path = ', source_path, '; batch size =', batch_size)\n",
    "    #create a list of image numbers you want to use for a particular video\n",
    "    #list(range(0,29,2))\n",
    "    img_idx = [0,1,2,4,6,8,10,12,14,16,18,20,22,24,26,27,28,29]\n",
    "    while True:\n",
    "        t = np.random.permutation(folder_list)\n",
    "        # calculate the number of batches\n",
    "        num_batches = int(len(t)/batch_size)\n",
    "        # we iterate over the number of batches\n",
    "        for batch in range(num_batches): \n",
    "            batch_data = np.zeros((batch_size,18,64,64,3)) # x is the number of images you use for each video, (y,z) is the final size of the input images and 3 is the number of channels RGB\n",
    "            batch_labels = np.zeros((batch_size,5)) # batch_labels is the one hot representation of the output\n",
    "            for folder in range(batch_size): # iterate over the batch_size\n",
    "                imgs = os.listdir(source_path+'/'+ t[folder + (batch*batch_size)].split(';')[0]) # read all the images in the folder\n",
    "                for idx,item in enumerate(img_idx): #  Iterate iver the frames/images of a folder to read them in\n",
    "                    image = cv2.imread(source_path+'/'+ t[folder + (batch*batch_size)].strip().split(';')[0]+'/'+imgs[item],cv2.IMREAD_UNCHANGED).astype(np.float32)\n",
    "                    \n",
    "                    #crop the images and resize them. Note that the images are of 2 different shape \n",
    "                    #and the conv3D will throw error if the inputs in a batch have different shapes\n",
    "                    # Cropping image by 10 % of original size :\n",
    "                    image = crop_img(image, 0.10)\n",
    "                    # Resizing the image :\n",
    "                    if image.shape[1] == 160:\n",
    "                        image = cv2.resize(image[:,20:140,:],(64,64),interpolation = cv2.INTER_AREA).astype(np.float32)\n",
    "                    else:\n",
    "                        image = cv2.resize(image,(64,64),interpolation = cv2.INTER_AREA).astype(np.float32)\n",
    "                    #normalise and feed in the image\n",
    "                    batch_data[folder,idx,:,:,0] = (image[:,:,0])/255#normalise and feed in the image\n",
    "                    batch_data[folder,idx,:,:,1] = (image[:,:,1])/255#normalise and feed in the image\n",
    "                    batch_data[folder,idx,:,:,2] = (image[:,:,0])/255#normalise and feed in the image\n",
    "                    \n",
    "                batch_labels[folder, int(t[folder + (batch*batch_size)].strip().split(';')[2])] = 1\n",
    "            yield batch_data, batch_labels #you yield the batch_data and the batch_labels, remember what does yield do\n",
    "\n",
    "        \n",
    "        # write the code for the remaining data points which are left after full batches\n",
    "        if (len(t)%batch_size) != 0:\n",
    "            batch_data = np.zeros((len(t)%batch_size,18,64,64,3))\n",
    "            batch_labels = np.zeros((len(t)%batch_size,5))\n",
    "            for folder in range(len(t)%batch_size):\n",
    "                imgs = os.listdir(source_path+'/'+ t[folder + (num_batches*batch_size)].split(';')[0])\n",
    "                for idx,item in enumerate(img_idx):\n",
    "                    image = cv2.imread(source_path+'/'+ t[folder + (num_batches*batch_size)].strip().split(';')[0]+'/'+imgs[item],cv2.IMREAD_UNCHANGED).astype(np.float32)\n",
    "                    \n",
    "                    # Cropping image by 10 % of original size :\n",
    "                    image = crop_img(image, 0.10)\n",
    "\n",
    "                    # Resizing the image :\n",
    "                    if image.shape[1] == 160:\n",
    "                        image = cv2.resize(image[:,20:140,:],(64,64),interpolation = cv2.INTER_AREA).astype(np.float32)\n",
    "                    else:\n",
    "                        image = cv2.resize(image,(64,64),interpolation = cv2.INTER_AREA).astype(np.float32)\n",
    "\n",
    "                    # Perform normalization on images\n",
    "                    batch_data[folder,idx,:,:,0] = (image[:,:,0])/255\n",
    "                    batch_data[folder,idx,:,:,1] = (image[:,:,1])/255\n",
    "                    batch_data[folder,idx,:,:,2] = (image[:,:,2])/255\n",
    "\n",
    "                batch_labels[folder, int(t[folder + (num_batches*batch_size)].strip().split(';')[2])] = 1\n",
    "\n",
    "            yield batch_data, batch_labels"
   ]
  },
  {
   "cell_type": "markdown",
   "metadata": {},
   "source": [
    "Note here that a video is represented above in the generator as (number of images, height, width, number of channels). Take this into consideration while creating the model architecture."
   ]
  },
  {
   "cell_type": "code",
   "execution_count": 15,
   "metadata": {},
   "outputs": [
    {
     "name": "stdout",
     "output_type": "stream",
     "text": [
      "# training sequences = 663\n",
      "# validation sequences = 100\n",
      "# epochs = 5\n"
     ]
    }
   ],
   "source": [
    "curr_dt_time = datetime.datetime.now()\n",
    "train_path = '/datasets/Project_data/train'\n",
    "val_path = '/datasets/Project_data/val'\n",
    "num_train_sequences = len(train_doc)\n",
    "print('# training sequences =', num_train_sequences)\n",
    "num_val_sequences = len(val_doc)\n",
    "print('# validation sequences =', num_val_sequences)\n",
    "num_epochs = 5 # choose the number of epochs\n",
    "print ('# epochs =', num_epochs)"
   ]
  },
  {
   "cell_type": "markdown",
   "metadata": {},
   "source": [
    "## Model\n",
    "Here you make the model using different functionalities that Keras provides. Remember to use `Conv3D` and `MaxPooling3D` and not `Conv2D` and `Maxpooling2D` for a 3D convolution model. You would want to use `TimeDistributed` while building a Conv2D + RNN model. Also remember that the last layer is the softmax. Design the network in such a way that the model is able to give good accuracy on the least number of parameters so that it can fit in the memory of the webcam."
   ]
  },
  {
   "cell_type": "code",
   "execution_count": 16,
   "metadata": {},
   "outputs": [],
   "source": [
    "from keras.models import Sequential, Model\n",
    "from keras.layers import Dense, GRU, Flatten, TimeDistributed, Flatten, BatchNormalization, Activation\n",
    "from keras.layers.convolutional import Conv3D, MaxPooling3D\n",
    "from keras.callbacks import ModelCheckpoint, ReduceLROnPlateau\n",
    "from keras import optimizers\n",
    "\n",
    "#write your model here"
   ]
  },
  {
   "cell_type": "markdown",
   "metadata": {},
   "source": [
    "# Model 1.\n",
    "## Conv 3D Model with 5 epochs, 25 batch size\n",
    "### Without dropouts in Conv layer and with batch normalization:\n",
    "#### Input image size 64X64\n",
    "#### adam optimiser \n",
    "#### learning rate 0.0002 with decay\n",
    "#### 18 images as input out of 30"
   ]
  },
  {
   "cell_type": "code",
   "execution_count": 17,
   "metadata": {},
   "outputs": [
    {
     "name": "stdout",
     "output_type": "stream",
     "text": [
      "Model: \"sequential\"\n",
      "_________________________________________________________________\n",
      " Layer (type)                Output Shape              Param #   \n",
      "=================================================================\n",
      " conv3d (Conv3D)             (None, 18, 64, 64, 8)     656       \n",
      "                                                                 \n",
      " activation (Activation)     (None, 18, 64, 64, 8)     0         \n",
      "                                                                 \n",
      " batch_normalization (BatchN  (None, 18, 64, 64, 8)    32        \n",
      " ormalization)                                                   \n",
      "                                                                 \n",
      " max_pooling3d (MaxPooling3D  (None, 9, 32, 32, 8)     0         \n",
      " )                                                               \n",
      "                                                                 \n",
      " conv3d_1 (Conv3D)           (None, 9, 32, 32, 16)     3472      \n",
      "                                                                 \n",
      " activation_1 (Activation)   (None, 9, 32, 32, 16)     0         \n",
      "                                                                 \n",
      " batch_normalization_1 (Batc  (None, 9, 32, 32, 16)    64        \n",
      " hNormalization)                                                 \n",
      "                                                                 \n",
      " max_pooling3d_1 (MaxPooling  (None, 4, 16, 16, 16)    0         \n",
      " 3D)                                                             \n",
      "                                                                 \n",
      " conv3d_2 (Conv3D)           (None, 4, 16, 16, 32)     13856     \n",
      "                                                                 \n",
      " batch_normalization_2 (Batc  (None, 4, 16, 16, 32)    128       \n",
      " hNormalization)                                                 \n",
      "                                                                 \n",
      " activation_2 (Activation)   (None, 4, 16, 16, 32)     0         \n",
      "                                                                 \n",
      " max_pooling3d_2 (MaxPooling  (None, 2, 8, 8, 32)      0         \n",
      " 3D)                                                             \n",
      "                                                                 \n",
      " conv3d_3 (Conv3D)           (None, 2, 8, 8, 64)       55360     \n",
      "                                                                 \n",
      " activation_3 (Activation)   (None, 2, 8, 8, 64)       0         \n",
      "                                                                 \n",
      " batch_normalization_3 (Batc  (None, 2, 8, 8, 64)      256       \n",
      " hNormalization)                                                 \n",
      "                                                                 \n",
      " max_pooling3d_3 (MaxPooling  (None, 1, 4, 4, 64)      0         \n",
      " 3D)                                                             \n",
      "                                                                 \n",
      " flatten (Flatten)           (None, 1024)              0         \n",
      "                                                                 \n",
      " dense (Dense)               (None, 64)                65600     \n",
      "                                                                 \n",
      " batch_normalization_4 (Batc  (None, 64)               256       \n",
      " hNormalization)                                                 \n",
      "                                                                 \n",
      " dropout (Dropout)           (None, 64)                0         \n",
      "                                                                 \n",
      " dense_1 (Dense)             (None, 64)                4160      \n",
      "                                                                 \n",
      " batch_normalization_5 (Batc  (None, 64)               256       \n",
      " hNormalization)                                                 \n",
      "                                                                 \n",
      " dropout_1 (Dropout)         (None, 64)                0         \n",
      "                                                                 \n",
      " dense_2 (Dense)             (None, 5)                 325       \n",
      "                                                                 \n",
      "=================================================================\n",
      "Total params: 144,421\n",
      "Trainable params: 143,925\n",
      "Non-trainable params: 496\n",
      "_________________________________________________________________\n",
      "None\n"
     ]
    },
    {
     "name": "stderr",
     "output_type": "stream",
     "text": [
      "2024-11-04 18:31:00.138084: W tensorflow/core/common_runtime/gpu/gpu_bfc_allocator.cc:39] Overriding allow_growth setting because the TF_FORCE_GPU_ALLOW_GROWTH environment variable is set. Original config value was 0.\n",
      "2024-11-04 18:31:00.138144: I tensorflow/core/common_runtime/gpu/gpu_device.cc:1525] Created device /job:localhost/replica:0/task:0/device:GPU:0 with 14800 MB memory:  -> device: 0, name: Quadro RTX 5000, pci bus id: 0000:3d:00.0, compute capability: 7.5\n",
      "/usr/local/lib/python3.8/dist-packages/keras/optimizer_v2/adam.py:105: UserWarning: The `lr` argument is deprecated, use `learning_rate` instead.\n",
      "  super(Adam, self).__init__(name, **kwargs)\n"
     ]
    }
   ],
   "source": [
    "# Building the first model which is 3D Conv model:\n",
    "\n",
    "modelConv3D_1 = Sequential()\n",
    "\n",
    "modelConv3D_1.add(Conv3D(8, (3,3,3), padding='same', input_shape=(18,64,64,3)))\n",
    "modelConv3D_1.add(Activation('relu'))\n",
    "modelConv3D_1.add(BatchNormalization())\n",
    "modelConv3D_1.add(MaxPooling3D(pool_size=(2,2,2)))\n",
    "\n",
    "\n",
    "modelConv3D_1.add(Conv3D(16, (3,3,3), padding='same'))\n",
    "modelConv3D_1.add(Activation('relu'))\n",
    "modelConv3D_1.add(BatchNormalization())\n",
    "modelConv3D_1.add(MaxPooling3D(pool_size=(2,2,2)))\n",
    "\n",
    "\n",
    "modelConv3D_1.add(Conv3D(32, (3,3,3), padding='same'))\n",
    "modelConv3D_1.add(BatchNormalization())\n",
    "modelConv3D_1.add(Activation('relu'))\n",
    "modelConv3D_1.add(MaxPooling3D(pool_size=(2,2,2)))\n",
    "\n",
    "\n",
    "modelConv3D_1.add(Conv3D(64, (3,3,3), padding='same'))\n",
    "modelConv3D_1.add(Activation('relu'))\n",
    "modelConv3D_1.add(BatchNormalization())\n",
    "modelConv3D_1.add(MaxPooling3D(pool_size=(2,2,2)))\n",
    "\n",
    "\n",
    "modelConv3D_1.add(Flatten())\n",
    "modelConv3D_1.add(Dense(64, activation='relu'))\n",
    "modelConv3D_1.add(BatchNormalization())\n",
    "modelConv3D_1.add(Dropout(0.25))\n",
    "\n",
    "modelConv3D_1.add(Dense(64, activation='relu'))\n",
    "modelConv3D_1.add(BatchNormalization())\n",
    "modelConv3D_1.add(Dropout(0.25))\n",
    "\n",
    "modelConv3D_1.add(Dense(5, activation='softmax'))\n",
    "\n",
    "#write your optimizer\n",
    "optimiser = tf.keras.optimizers.Adam(lr=0.0002, decay=1e-6)\n",
    "\n",
    "# compile model :\n",
    "modelConv3D_1.compile(optimizer=optimiser, loss='categorical_crossentropy', metrics=['categorical_accuracy'])\n",
    "\n",
    "# Print the model summary :\n",
    "print (modelConv3D_1.summary())"
   ]
  },
  {
   "cell_type": "code",
   "execution_count": 18,
   "metadata": {},
   "outputs": [
    {
     "name": "stdout",
     "output_type": "stream",
     "text": [
      "Total Params in model: 144421\n"
     ]
    }
   ],
   "source": [
    "print(\"Total Params in model:\", modelConv3D_1.count_params())"
   ]
  },
  {
   "cell_type": "markdown",
   "metadata": {},
   "source": [
    "Now that you have written the model, the next step is to `compile` the model. When you print the `summary` of the model, you'll see the total number of parameters you have to train."
   ]
  },
  {
   "cell_type": "code",
   "execution_count": 26,
   "metadata": {
    "scrolled": true
   },
   "outputs": [],
   "source": [
    "#Completed this step during model creation only\n",
    "#optimiser = #write your optimizer\n",
    "#model.compile(optimizer=optimiser, loss='categorical_crossentropy', metrics=['categorical_accuracy'])\n",
    "#print (model.summary())"
   ]
  },
  {
   "cell_type": "markdown",
   "metadata": {},
   "source": [
    "Let us create the `train_generator` and the `val_generator` which will be used in `.fit_generator`."
   ]
  },
  {
   "cell_type": "code",
   "execution_count": 19,
   "metadata": {},
   "outputs": [],
   "source": [
    "train_generator = generator(train_path, train_doc, batch_size)\n",
    "val_generator = generator(val_path, val_doc, batch_size)"
   ]
  },
  {
   "cell_type": "code",
   "execution_count": 20,
   "metadata": {},
   "outputs": [
    {
     "name": "stdout",
     "output_type": "stream",
     "text": [
      "WARNING:tensorflow:`period` argument is deprecated. Please use `save_freq` to specify the frequency in number of batches seen.\n"
     ]
    }
   ],
   "source": [
    "model_name = 'model_init' + '_' + str(curr_dt_time).replace(' ','').replace(':','_') + '/'\n",
    "    \n",
    "if not os.path.exists(model_name):\n",
    "    os.mkdir(model_name)\n",
    "        \n",
    "filepath = model_name + 'model-{epoch:05d}-{loss:.5f}-{categorical_accuracy:.5f}-{val_loss:.5f}-{val_categorical_accuracy:.5f}.h5'\n",
    "\n",
    "checkpoint = ModelCheckpoint(filepath, monitor='val_loss', verbose=1, save_best_only=False, save_weights_only=False, mode='auto', period=1)\n",
    "\n",
    "LR = ReduceLROnPlateau(monitor='val_loss', factor=0.2, patience=3, verbose=1)# write the REducelronplateau code here\n",
    "callbacks_list = [checkpoint, LR]"
   ]
  },
  {
   "cell_type": "markdown",
   "metadata": {},
   "source": [
    "The `steps_per_epoch` and `validation_steps` are used by `fit_generator` to decide the number of next() calls it need to make."
   ]
  },
  {
   "cell_type": "code",
   "execution_count": 21,
   "metadata": {},
   "outputs": [],
   "source": [
    "if (num_train_sequences%batch_size) == 0:\n",
    "    steps_per_epoch = int(num_train_sequences/batch_size)\n",
    "else:\n",
    "    steps_per_epoch = (num_train_sequences//batch_size) + 1\n",
    "\n",
    "if (num_val_sequences%batch_size) == 0:\n",
    "    validation_steps = int(num_val_sequences/batch_size)\n",
    "else:\n",
    "    validation_steps = (num_val_sequences//batch_size) + 1"
   ]
  },
  {
   "cell_type": "markdown",
   "metadata": {},
   "source": [
    "Let us now fit the model. This will start training the model and with the help of the checkpoints, you'll be able to save the model at the end of each epoch."
   ]
  },
  {
   "cell_type": "code",
   "execution_count": 22,
   "metadata": {},
   "outputs": [
    {
     "name": "stderr",
     "output_type": "stream",
     "text": [
      "/tmp/ipykernel_202/404589656.py:3: UserWarning: `Model.fit_generator` is deprecated and will be removed in a future version. Please use `Model.fit`, which supports generators.\n",
      "  history = modelConv3D_1.fit_generator(train_generator, steps_per_epoch=steps_per_epoch, epochs=num_epochs, verbose=1,\n"
     ]
    },
    {
     "name": "stdout",
     "output_type": "stream",
     "text": [
      "Source path =  /datasets/Project_data/train ; batch size = 25\n",
      "Epoch 1/5\n"
     ]
    },
    {
     "name": "stderr",
     "output_type": "stream",
     "text": [
      "2024-11-04 18:31:33.585952: I tensorflow/stream_executor/cuda/cuda_dnn.cc:377] Loaded cuDNN version 8302\n"
     ]
    },
    {
     "name": "stdout",
     "output_type": "stream",
     "text": [
      "27/27 [==============================] - ETA: 0s - loss: 2.1787 - categorical_accuracy: 0.2172Source path =  /datasets/Project_data/val ; batch size = 25\n",
      "\n",
      "Epoch 00001: saving model to model_init_2024-11-0418_30_52.131293/model-00001-2.17871-0.21719-1.61952-0.20000.h5\n",
      "27/27 [==============================] - 27s 911ms/step - loss: 2.1787 - categorical_accuracy: 0.2172 - val_loss: 1.6195 - val_categorical_accuracy: 0.2000 - lr: 2.0000e-04\n",
      "Epoch 2/5\n",
      "27/27 [==============================] - ETA: 0s - loss: 1.8337 - categorical_accuracy: 0.3198\n",
      "Epoch 00002: saving model to model_init_2024-11-0418_30_52.131293/model-00002-1.83370-0.31976-1.66034-0.20000.h5\n",
      "27/27 [==============================] - 24s 913ms/step - loss: 1.8337 - categorical_accuracy: 0.3198 - val_loss: 1.6603 - val_categorical_accuracy: 0.2000 - lr: 2.0000e-04\n",
      "Epoch 3/5\n",
      "27/27 [==============================] - ETA: 0s - loss: 1.7857 - categorical_accuracy: 0.3318\n",
      "Epoch 00003: saving model to model_init_2024-11-0418_30_52.131293/model-00003-1.78571-0.33183-1.69620-0.24000.h5\n",
      "27/27 [==============================] - 22s 851ms/step - loss: 1.7857 - categorical_accuracy: 0.3318 - val_loss: 1.6962 - val_categorical_accuracy: 0.2400 - lr: 2.0000e-04\n",
      "Epoch 4/5\n",
      "27/27 [==============================] - ETA: 0s - loss: 1.6238 - categorical_accuracy: 0.3831\n",
      "Epoch 00004: saving model to model_init_2024-11-0418_30_52.131293/model-00004-1.62384-0.38311-1.76770-0.23000.h5\n",
      "\n",
      "Epoch 00004: ReduceLROnPlateau reducing learning rate to 3.9999998989515007e-05.\n",
      "27/27 [==============================] - 23s 866ms/step - loss: 1.6238 - categorical_accuracy: 0.3831 - val_loss: 1.7677 - val_categorical_accuracy: 0.2300 - lr: 2.0000e-04\n",
      "Epoch 5/5\n",
      "27/27 [==============================] - ETA: 0s - loss: 1.5756 - categorical_accuracy: 0.3922\n",
      "Epoch 00005: saving model to model_init_2024-11-0418_30_52.131293/model-00005-1.57559-0.39216-1.85356-0.21000.h5\n",
      "27/27 [==============================] - 22s 863ms/step - loss: 1.5756 - categorical_accuracy: 0.3922 - val_loss: 1.8536 - val_categorical_accuracy: 0.2100 - lr: 4.0000e-05\n"
     ]
    }
   ],
   "source": [
    "# Modified the fit generator to use multiproessing to improve the training time :\n",
    "# This is for first model 3D Conv model: (modelConv3D_1)\n",
    "history = modelConv3D_1.fit_generator(train_generator, steps_per_epoch=steps_per_epoch, epochs=num_epochs, verbose=1, \n",
    "                    callbacks=callbacks_list, validation_data=val_generator, \n",
    "                    validation_steps=validation_steps, class_weight=None, workers=1, initial_epoch=0)"
   ]
  },
  {
   "cell_type": "code",
   "execution_count": 23,
   "metadata": {},
   "outputs": [
    {
     "data": {
      "image/png": "[encoded data removed]",
      "text/plain": [
       "<Figure size 432x288 with 1 Axes>"
      ]
     },
     "metadata": {
      "needs_background": "light"
     },
     "output_type": "display_data"
    },
    {
     "data": {
      "image/png": "[encoded data removed]",
      "text/plain": [
       "<Figure size 432x288 with 1 Axes>"
      ]
     },
     "metadata": {
      "needs_background": "light"
     },
     "output_type": "display_data"
    }
   ],
   "source": [
    "# Plotting the result of Model 1 :\n",
    "\n",
    "# summarize history for accuracy\n",
    "plt.plot(history.history['categorical_accuracy'])\n",
    "plt.plot(history.history['val_categorical_accuracy'])\n",
    "plt.title('model accuracy')\n",
    "plt.ylabel('accuracy')\n",
    "plt.xlabel('epoch')\n",
    "plt.legend(['train', 'test'], loc='upper left')\n",
    "plt.show()\n",
    "\n",
    "# summarize history for loss\n",
    "plt.plot(history.history['loss'])\n",
    "plt.plot(history.history['val_loss'])\n",
    "plt.title('model loss')\n",
    "plt.ylabel('loss')\n",
    "plt.xlabel('epoch')\n",
    "plt.legend(['train', 'test'], loc='upper left')\n",
    "plt.show()"
   ]
  },
  {
   "cell_type": "markdown",
   "metadata": {},
   "source": [
    "### We have got the training accuarcy of 39.22 % and validation accuracy of 21 % in the base model"
   ]
  },
  {
   "cell_type": "markdown",
   "metadata": {},
   "source": [
    "# Model 2.\n",
    "## Conv 3D Model with 20 epochs, 30 batch size"
   ]
  },
  {
   "cell_type": "markdown",
   "metadata": {},
   "source": [
    "Without dropouts in Conv layer and with batch normalization. Input image size 64X64 , adam optimiser with learning rate 0.0002 without decay, 18 images as input out of 30 Changed droput to 0.50 from 0.25 in 1st dense layer"
   ]
  },
  {
   "cell_type": "code",
   "execution_count": 24,
   "metadata": {},
   "outputs": [],
   "source": [
    "batch_size = 30\n",
    "num_epochs = 20"
   ]
  },
  {
   "cell_type": "code",
   "execution_count": 25,
   "metadata": {},
   "outputs": [
    {
     "name": "stdout",
     "output_type": "stream",
     "text": [
      "Model: \"sequential_1\"\n",
      "_________________________________________________________________\n",
      " Layer (type)                Output Shape              Param #   \n",
      "=================================================================\n",
      " conv3d_4 (Conv3D)           (None, 18, 64, 64, 8)     656       \n",
      "                                                                 \n",
      " activation_4 (Activation)   (None, 18, 64, 64, 8)     0         \n",
      "                                                                 \n",
      " batch_normalization_6 (Batc  (None, 18, 64, 64, 8)    32        \n",
      " hNormalization)                                                 \n",
      "                                                                 \n",
      " max_pooling3d_4 (MaxPooling  (None, 9, 32, 32, 8)     0         \n",
      " 3D)                                                             \n",
      "                                                                 \n",
      " conv3d_5 (Conv3D)           (None, 9, 32, 32, 16)     3472      \n",
      "                                                                 \n",
      " activation_5 (Activation)   (None, 9, 32, 32, 16)     0         \n",
      "                                                                 \n",
      " batch_normalization_7 (Batc  (None, 9, 32, 32, 16)    64        \n",
      " hNormalization)                                                 \n",
      "                                                                 \n",
      " max_pooling3d_5 (MaxPooling  (None, 4, 16, 16, 16)    0         \n",
      " 3D)                                                             \n",
      "                                                                 \n",
      " conv3d_6 (Conv3D)           (None, 4, 16, 16, 32)     13856     \n",
      "                                                                 \n",
      " batch_normalization_8 (Batc  (None, 4, 16, 16, 32)    128       \n",
      " hNormalization)                                                 \n",
      "                                                                 \n",
      " activation_6 (Activation)   (None, 4, 16, 16, 32)     0         \n",
      "                                                                 \n",
      " max_pooling3d_6 (MaxPooling  (None, 2, 8, 8, 32)      0         \n",
      " 3D)                                                             \n",
      "                                                                 \n",
      " conv3d_7 (Conv3D)           (None, 2, 8, 8, 64)       55360     \n",
      "                                                                 \n",
      " activation_7 (Activation)   (None, 2, 8, 8, 64)       0         \n",
      "                                                                 \n",
      " batch_normalization_9 (Batc  (None, 2, 8, 8, 64)      256       \n",
      " hNormalization)                                                 \n",
      "                                                                 \n",
      " max_pooling3d_7 (MaxPooling  (None, 1, 4, 4, 64)      0         \n",
      " 3D)                                                             \n",
      "                                                                 \n",
      " flatten_1 (Flatten)         (None, 1024)              0         \n",
      "                                                                 \n",
      " dense_3 (Dense)             (None, 64)                65600     \n",
      "                                                                 \n",
      " batch_normalization_10 (Bat  (None, 64)               256       \n",
      " chNormalization)                                                \n",
      "                                                                 \n",
      " dropout_2 (Dropout)         (None, 64)                0         \n",
      "                                                                 \n",
      " dense_4 (Dense)             (None, 64)                4160      \n",
      "                                                                 \n",
      " batch_normalization_11 (Bat  (None, 64)               256       \n",
      " chNormalization)                                                \n",
      "                                                                 \n",
      " dropout_3 (Dropout)         (None, 64)                0         \n",
      "                                                                 \n",
      " dense_5 (Dense)             (None, 5)                 325       \n",
      "                                                                 \n",
      "=================================================================\n",
      "Total params: 144,421\n",
      "Trainable params: 143,925\n",
      "Non-trainable params: 496\n",
      "_________________________________________________________________\n",
      "None\n"
     ]
    }
   ],
   "source": [
    "# Building the second model which is 3D Conv model:\n",
    "\n",
    "modelConv3D_2 = Sequential()\n",
    "\n",
    "modelConv3D_2.add(Conv3D(8, (3,3,3), padding='same', input_shape=(18,64,64,3)))\n",
    "modelConv3D_2.add(Activation('relu'))\n",
    "modelConv3D_2.add(BatchNormalization())\n",
    "modelConv3D_2.add(MaxPooling3D(pool_size=(2,2,2)))\n",
    "\n",
    "\n",
    "modelConv3D_2.add(Conv3D(16, (3,3,3), padding='same'))\n",
    "modelConv3D_2.add(Activation('relu'))\n",
    "modelConv3D_2.add(BatchNormalization())\n",
    "modelConv3D_2.add(MaxPooling3D(pool_size=(2,2,2)))\n",
    "\n",
    "\n",
    "modelConv3D_2.add(Conv3D(32, (3,3,3), padding='same'))\n",
    "modelConv3D_2.add(BatchNormalization())\n",
    "modelConv3D_2.add(Activation('relu'))\n",
    "modelConv3D_2.add(MaxPooling3D(pool_size=(2,2,2)))\n",
    "\n",
    "\n",
    "modelConv3D_2.add(Conv3D(64, (3,3,3), padding='same'))\n",
    "modelConv3D_2.add(Activation('relu'))\n",
    "modelConv3D_2.add(BatchNormalization())\n",
    "modelConv3D_2.add(MaxPooling3D(pool_size=(2,2,2)))\n",
    "\n",
    "\n",
    "modelConv3D_2.add(Flatten())\n",
    "modelConv3D_2.add(Dense(64, activation='relu'))\n",
    "modelConv3D_2.add(BatchNormalization())\n",
    "modelConv3D_2.add(Dropout(0.50))\n",
    "\n",
    "modelConv3D_2.add(Dense(64, activation='relu'))\n",
    "modelConv3D_2.add(BatchNormalization())\n",
    "modelConv3D_2.add(Dropout(0.25))\n",
    "\n",
    "modelConv3D_2.add(Dense(5, activation='softmax'))\n",
    "\n",
    "#write your optimizer\n",
    "optimiser = tf.keras.optimizers.Adam(lr=0.0002)\n",
    "\n",
    "\n",
    "# compile model :\n",
    "modelConv3D_2.compile(optimizer=optimiser, loss='categorical_crossentropy', metrics=['categorical_accuracy'])\n",
    "\n",
    "# Print the model summary :\n",
    "print (modelConv3D_2.summary())"
   ]
  },
  {
   "cell_type": "code",
   "execution_count": 26,
   "metadata": {},
   "outputs": [
    {
     "name": "stdout",
     "output_type": "stream",
     "text": [
      "Total Params in model: 144421\n"
     ]
    }
   ],
   "source": [
    "print(\"Total Params in model:\", modelConv3D_2.count_params())"
   ]
  },
  {
   "cell_type": "code",
   "execution_count": 27,
   "metadata": {},
   "outputs": [
    {
     "name": "stdout",
     "output_type": "stream",
     "text": [
      "WARNING:tensorflow:`period` argument is deprecated. Please use `save_freq` to specify the frequency in number of batches seen.\n"
     ]
    }
   ],
   "source": [
    "train_generator = generator(train_path, train_doc, batch_size)\n",
    "val_generator = generator(val_path, val_doc, batch_size)\n",
    "\n",
    "model_name = 'model_init' + '_' + str(curr_dt_time).replace(' ','').replace(':','_') + '/'\n",
    "    \n",
    "if not os.path.exists(model_name):\n",
    "    os.mkdir(model_name)\n",
    "        \n",
    "filepath = model_name + 'model-{epoch:05d}-{loss:.5f}-{categorical_accuracy:.5f}-{val_loss:.5f}-{val_categorical_accuracy:.5f}.h5'\n",
    "\n",
    "checkpoint = ModelCheckpoint(filepath, monitor='val_loss', verbose=1, save_best_only=False, save_weights_only=False, mode='auto', period=1)\n",
    "\n",
    "# write the REducelronplateau code here\n",
    "LR = ReduceLROnPlateau(monitor='val_loss', factor=0.2, patience=4, verbose =1 )\n",
    "\n",
    "callbacks_list = [checkpoint, LR]\n",
    "\n",
    "if (num_train_sequences%batch_size) == 0:\n",
    "    steps_per_epoch = int(num_train_sequences/batch_size)\n",
    "else:\n",
    "    steps_per_epoch = (num_train_sequences//batch_size) + 1\n",
    "\n",
    "if (num_val_sequences%batch_size) == 0:\n",
    "    validation_steps = int(num_val_sequences/batch_size)\n",
    "else:\n",
    "    validation_steps = (num_val_sequences//batch_size) + 1"
   ]
  },
  {
   "cell_type": "code",
   "execution_count": 29,
   "metadata": {},
   "outputs": [
    {
     "name": "stderr",
     "output_type": "stream",
     "text": [
      "/tmp/ipykernel_202/3088767934.py:5: UserWarning: `Model.fit_generator` is deprecated and will be removed in a future version. Please use `Model.fit`, which supports generators.\n",
      "  history = modelConv3D_2.fit_generator(train_generator, steps_per_epoch=steps_per_epoch, epochs=num_epochs, verbose=1,\n"
     ]
    },
    {
     "name": "stdout",
     "output_type": "stream",
     "text": [
      "Epoch 1/20\n",
      "23/23 [==============================] - ETA: 0s - loss: 2.1600 - categorical_accuracy: 0.2383Source path =  /datasets/Project_data/val ; batch size = 30\n",
      "\n",
      "Epoch 00001: saving model to model_init_2024-11-0418_30_52.131293/model-00001-2.15995-0.23831-1.63600-0.21000.h5\n",
      "23/23 [==============================] - 23s 1s/step - loss: 2.1600 - categorical_accuracy: 0.2383 - val_loss: 1.6360 - val_categorical_accuracy: 0.2100 - lr: 2.0000e-04\n",
      "Epoch 2/20\n",
      "23/23 [==============================] - ETA: 0s - loss: 2.0240 - categorical_accuracy: 0.3077\n",
      "Epoch 00002: saving model to model_init_2024-11-0418_30_52.131293/model-00002-2.02401-0.30769-1.64620-0.22000.h5\n",
      "23/23 [==============================] - 22s 1s/step - loss: 2.0240 - categorical_accuracy: 0.3077 - val_loss: 1.6462 - val_categorical_accuracy: 0.2200 - lr: 2.0000e-04\n",
      "Epoch 3/20\n",
      "23/23 [==============================] - ETA: 0s - loss: 1.9265 - categorical_accuracy: 0.3152\n",
      "Epoch 00003: saving model to model_init_2024-11-0418_30_52.131293/model-00003-1.92651-0.31523-1.70931-0.18000.h5\n",
      "23/23 [==============================] - 23s 1s/step - loss: 1.9265 - categorical_accuracy: 0.3152 - val_loss: 1.7093 - val_categorical_accuracy: 0.1800 - lr: 2.0000e-04\n",
      "Epoch 4/20\n",
      "23/23 [==============================] - ETA: 0s - loss: 1.8542 - categorical_accuracy: 0.3092\n",
      "Epoch 00004: saving model to model_init_2024-11-0418_30_52.131293/model-00004-1.85415-0.30920-1.74038-0.17000.h5\n",
      "23/23 [==============================] - 21s 966ms/step - loss: 1.8542 - categorical_accuracy: 0.3092 - val_loss: 1.7404 - val_categorical_accuracy: 0.1700 - lr: 2.0000e-04\n",
      "Epoch 5/20\n",
      "23/23 [==============================] - ETA: 0s - loss: 1.8429 - categorical_accuracy: 0.3002\n",
      "Epoch 00005: saving model to model_init_2024-11-0418_30_52.131293/model-00005-1.84291-0.30015-1.80455-0.16000.h5\n",
      "\n",
      "Epoch 00005: ReduceLROnPlateau reducing learning rate to 3.9999998989515007e-05.\n",
      "23/23 [==============================] - 22s 1s/step - loss: 1.8429 - categorical_accuracy: 0.3002 - val_loss: 1.8046 - val_categorical_accuracy: 0.1600 - lr: 2.0000e-04\n",
      "Epoch 6/20\n",
      "23/23 [==============================] - ETA: 0s - loss: 1.7810 - categorical_accuracy: 0.3394\n",
      "Epoch 00006: saving model to model_init_2024-11-0418_30_52.131293/model-00006-1.78101-0.33937-1.88685-0.19000.h5\n",
      "23/23 [==============================] - 23s 1s/step - loss: 1.7810 - categorical_accuracy: 0.3394 - val_loss: 1.8868 - val_categorical_accuracy: 0.1900 - lr: 4.0000e-05\n",
      "Epoch 7/20\n",
      "23/23 [==============================] - ETA: 0s - loss: 1.8257 - categorical_accuracy: 0.3303\n",
      "Epoch 00007: saving model to model_init_2024-11-0418_30_52.131293/model-00007-1.82567-0.33032-1.81675-0.14000.h5\n",
      "23/23 [==============================] - 22s 1s/step - loss: 1.8257 - categorical_accuracy: 0.3303 - val_loss: 1.8168 - val_categorical_accuracy: 0.1400 - lr: 4.0000e-05\n",
      "Epoch 8/20\n",
      "23/23 [==============================] - ETA: 0s - loss: 1.8123 - categorical_accuracy: 0.3243\n",
      "Epoch 00008: saving model to model_init_2024-11-0418_30_52.131293/model-00008-1.81229-0.32428-1.80143-0.18000.h5\n",
      "23/23 [==============================] - 22s 999ms/step - loss: 1.8123 - categorical_accuracy: 0.3243 - val_loss: 1.8014 - val_categorical_accuracy: 0.1800 - lr: 4.0000e-05\n",
      "Epoch 9/20\n",
      "23/23 [==============================] - ETA: 0s - loss: 1.7488 - categorical_accuracy: 0.3771\n",
      "Epoch 00009: saving model to model_init_2024-11-0418_30_52.131293/model-00009-1.74884-0.37707-1.87430-0.17000.h5\n",
      "\n",
      "Epoch 00009: ReduceLROnPlateau reducing learning rate to 7.999999797903002e-06.\n",
      "23/23 [==============================] - 23s 1s/step - loss: 1.7488 - categorical_accuracy: 0.3771 - val_loss: 1.8743 - val_categorical_accuracy: 0.1700 - lr: 4.0000e-05\n",
      "Epoch 10/20\n",
      "23/23 [==============================] - ETA: 0s - loss: 1.7297 - categorical_accuracy: 0.3303\n",
      "Epoch 00010: saving model to model_init_2024-11-0418_30_52.131293/model-00010-1.72970-0.33032-1.80523-0.17000.h5\n",
      "23/23 [==============================] - 23s 1s/step - loss: 1.7297 - categorical_accuracy: 0.3303 - val_loss: 1.8052 - val_categorical_accuracy: 0.1700 - lr: 8.0000e-06\n",
      "Epoch 11/20\n",
      "23/23 [==============================] - ETA: 0s - loss: 1.6820 - categorical_accuracy: 0.3605\n",
      "Epoch 00011: saving model to model_init_2024-11-0418_30_52.131293/model-00011-1.68198-0.36048-1.88141-0.18000.h5\n",
      "23/23 [==============================] - 22s 1s/step - loss: 1.6820 - categorical_accuracy: 0.3605 - val_loss: 1.8814 - val_categorical_accuracy: 0.1800 - lr: 8.0000e-06\n",
      "Epoch 12/20\n",
      "23/23 [==============================] - ETA: 0s - loss: 1.7196 - categorical_accuracy: 0.3424\n",
      "Epoch 00012: saving model to model_init_2024-11-0418_30_52.131293/model-00012-1.71960-0.34238-1.85987-0.20000.h5\n",
      "23/23 [==============================] - 22s 1s/step - loss: 1.7196 - categorical_accuracy: 0.3424 - val_loss: 1.8599 - val_categorical_accuracy: 0.2000 - lr: 8.0000e-06\n",
      "Epoch 13/20\n",
      "23/23 [==============================] - ETA: 0s - loss: 1.7643 - categorical_accuracy: 0.3439\n",
      "Epoch 00013: saving model to model_init_2024-11-0418_30_52.131293/model-00013-1.76430-0.34389-1.84054-0.24000.h5\n",
      "\n",
      "Epoch 00013: ReduceLROnPlateau reducing learning rate to 1.5999999959603884e-06.\n",
      "23/23 [==============================] - 23s 1s/step - loss: 1.7643 - categorical_accuracy: 0.3439 - val_loss: 1.8405 - val_categorical_accuracy: 0.2400 - lr: 8.0000e-06\n",
      "Epoch 14/20\n",
      "23/23 [==============================] - ETA: 0s - loss: 1.7561 - categorical_accuracy: 0.3379\n",
      "Epoch 00014: saving model to model_init_2024-11-0418_30_52.131293/model-00014-1.75612-0.33786-1.79656-0.26000.h5\n",
      "23/23 [==============================] - 22s 1s/step - loss: 1.7561 - categorical_accuracy: 0.3379 - val_loss: 1.7966 - val_categorical_accuracy: 0.2600 - lr: 1.6000e-06\n",
      "Epoch 15/20\n",
      "23/23 [==============================] - ETA: 0s - loss: 1.7682 - categorical_accuracy: 0.3183\n",
      "Epoch 00015: saving model to model_init_2024-11-0418_30_52.131293/model-00015-1.76819-0.31825-1.77734-0.24000.h5\n",
      "23/23 [==============================] - 23s 1s/step - loss: 1.7682 - categorical_accuracy: 0.3183 - val_loss: 1.7773 - val_categorical_accuracy: 0.2400 - lr: 1.6000e-06\n",
      "Epoch 16/20\n",
      "23/23 [==============================] - ETA: 0s - loss: 1.7253 - categorical_accuracy: 0.3454\n",
      "Epoch 00016: saving model to model_init_2024-11-0418_30_52.131293/model-00016-1.72531-0.34540-1.76978-0.28000.h5\n",
      "23/23 [==============================] - 22s 1000ms/step - loss: 1.7253 - categorical_accuracy: 0.3454 - val_loss: 1.7698 - val_categorical_accuracy: 0.2800 - lr: 1.6000e-06\n",
      "Epoch 17/20\n",
      "23/23 [==============================] - ETA: 0s - loss: 1.7583 - categorical_accuracy: 0.3333\n",
      "Epoch 00017: saving model to model_init_2024-11-0418_30_52.131293/model-00017-1.75827-0.33333-1.73089-0.30000.h5\n",
      "\n",
      "Epoch 00017: ReduceLROnPlateau reducing learning rate to 3.200000037395512e-07.\n",
      "23/23 [==============================] - 23s 1s/step - loss: 1.7583 - categorical_accuracy: 0.3333 - val_loss: 1.7309 - val_categorical_accuracy: 0.3000 - lr: 1.6000e-06\n",
      "Epoch 18/20\n",
      "23/23 [==============================] - ETA: 0s - loss: 1.7523 - categorical_accuracy: 0.3575\n",
      "Epoch 00018: saving model to model_init_2024-11-0418_30_52.131293/model-00018-1.75229-0.35747-1.70251-0.30000.h5\n",
      "23/23 [==============================] - 24s 1s/step - loss: 1.7523 - categorical_accuracy: 0.3575 - val_loss: 1.7025 - val_categorical_accuracy: 0.3000 - lr: 3.2000e-07\n",
      "Epoch 19/20\n",
      "23/23 [==============================] - ETA: 0s - loss: 1.7451 - categorical_accuracy: 0.3695\n",
      "Epoch 00019: saving model to model_init_2024-11-0418_30_52.131293/model-00019-1.74510-0.36953-1.68589-0.28000.h5\n",
      "23/23 [==============================] - 24s 1s/step - loss: 1.7451 - categorical_accuracy: 0.3695 - val_loss: 1.6859 - val_categorical_accuracy: 0.2800 - lr: 3.2000e-07\n",
      "Epoch 20/20\n",
      "23/23 [==============================] - ETA: 0s - loss: 1.7422 - categorical_accuracy: 0.3424\n",
      "Epoch 00020: saving model to model_init_2024-11-0418_30_52.131293/model-00020-1.74225-0.34238-1.60537-0.32000.h5\n",
      "23/23 [==============================] - 23s 1s/step - loss: 1.7422 - categorical_accuracy: 0.3424 - val_loss: 1.6054 - val_categorical_accuracy: 0.3200 - lr: 3.2000e-07\n"
     ]
    }
   ],
   "source": [
    "# Modified the fit generator to use multiple worker without the multiprocessing training time :\n",
    "\n",
    "# This is for second model 3D Conv model: )\n",
    "\n",
    "history = modelConv3D_2.fit_generator(train_generator, steps_per_epoch=steps_per_epoch, epochs=num_epochs, verbose=1, \n",
    "                    callbacks=callbacks_list, validation_data=val_generator, \n",
    "                    validation_steps=validation_steps, class_weight=None,use_multiprocessing=False,\n",
    "                    workers=1, initial_epoch=0)"
   ]
  },
  {
   "cell_type": "code",
   "execution_count": 30,
   "metadata": {},
   "outputs": [
    {
     "name": "stdout",
     "output_type": "stream",
     "text": [
      "Total Params in model: 144421\n"
     ]
    }
   ],
   "source": [
    "print(\"Total Params in model:\", modelConv3D_2.count_params())"
   ]
  },
  {
   "cell_type": "code",
   "execution_count": 31,
   "metadata": {},
   "outputs": [
    {
     "data": {
      "image/png": "[encoded data removed]",
      "text/plain": [
       "<Figure size 432x288 with 1 Axes>"
      ]
     },
     "metadata": {
      "needs_background": "light"
     },
     "output_type": "display_data"
    },
    {
     "data": {
      "image/png": "[encoded data removed]",
      "text/plain": [
       "<Figure size 432x288 with 1 Axes>"
      ]
     },
     "metadata": {
      "needs_background": "light"
     },
     "output_type": "display_data"
    }
   ],
   "source": [
    "# Plotting the result of Model 2 :\n",
    "\n",
    "# summarize history for accuracy\n",
    "plt.plot(history.history['categorical_accuracy'])\n",
    "plt.plot(history.history['val_categorical_accuracy'])\n",
    "plt.title('model accuracy')\n",
    "plt.ylabel('accuracy')\n",
    "plt.xlabel('epoch')\n",
    "plt.legend(['train', 'test'], loc='upper left')\n",
    "plt.show()\n",
    "\n",
    "# summarize history for loss\n",
    "plt.plot(history.history['loss'])\n",
    "plt.plot(history.history['val_loss'])\n",
    "plt.title('model loss')\n",
    "plt.ylabel('loss')\n",
    "plt.xlabel('epoch')\n",
    "plt.legend(['train', 'test'], loc='upper left')\n",
    "plt.show()"
   ]
  },
  {
   "cell_type": "markdown",
   "metadata": {},
   "source": [
    " So we have got accuracy as 34.24% and validation accuracy of 32 % from this model."
   ]
  },
  {
   "cell_type": "markdown",
   "metadata": {},
   "source": [
    "# Model 3.\n",
    "## Conv 3D Model with 20 epochs and 30 batch size\n",
    "## image size increaed to 84X84\n",
    "## reduced cropping to 3 % from 10 %"
   ]
  },
  {
   "cell_type": "markdown",
   "metadata": {},
   "source": [
    "Without dropouts in Conv layer and with batch normalization. adam optimiser with learning rate 0.0002 without decay, 18 images as input out of 30 Reverted back dropout from 0.50 to 0.25 in 1st dense layer"
   ]
  },
  {
   "cell_type": "code",
   "execution_count": 32,
   "metadata": {},
   "outputs": [],
   "source": [
    "# Modified generator function :\n",
    "\n",
    "def generator_modified(source_path, folder_list, batch_size):\n",
    "    print( 'Source path = ', source_path, '; batch size =', batch_size)\n",
    "    \n",
    "    #create a list of image numbers you want to use for a particular video\n",
    "    img_idx = [1,2,4,6,7,8,10,12,14,16,18,20,21,22,24,26,27,29]\n",
    "    #list(range(0,29,2))\n",
    "    \n",
    "    while True:\n",
    "        t = np.random.permutation(folder_list)\n",
    "        \n",
    "# calculate the number of batches\n",
    "        num_batches = int(len(t)/batch_size)\n",
    "        \n",
    "# we iterate over the number of batches\n",
    "        for batch in range(num_batches): \n",
    "            \n",
    "# x is the number of images you use for each video, (y,z) is the final size of the input images and 3 is the number of channels RGB          \n",
    "            batch_data = np.zeros((batch_size,18,84,84,3))\n",
    "# batch_labels is the one hot representation of the output\n",
    "            batch_labels = np.zeros((batch_size,5))\n",
    "\n",
    "# iterate over the batch_size    \n",
    "            for folder in range(batch_size): \n",
    "# read all the images in the folder        \n",
    "                imgs = os.listdir(source_path+'/'+ t[folder + (batch*batch_size)].split(';')[0]) \n",
    "#  Iterate over the frames/images of a folder to read them in    \n",
    "                for idx,item in enumerate(img_idx):\n",
    "                    image = cv2.imread(source_path+'/'+ t[folder + (batch*batch_size)].strip().split(';')[0]+'/'+imgs[item],cv2.IMREAD_UNCHANGED).astype(np.float32)\n",
    "                    \n",
    "#crop the images and resize them. Note that the images are of 2 different shape \n",
    "#and the conv3D will throw error if the inputs in a batch have different shapes\n",
    "\n",
    "# Cropping image by 3 % of original size :\n",
    "                    image = crop_img(image, 0.03)\n",
    "    \n",
    "# Resizing the image :    \n",
    "                    if image.shape[1] == 160:\n",
    "                        image = cv2.resize(image[:,20:140,:],(84,84),interpolation = cv2.INTER_AREA).astype(np.float32)\n",
    "                    else:\n",
    "                        image = cv2.resize(image,(84,84),interpolation = cv2.INTER_AREA).astype(np.float32)                    \n",
    "                        \n",
    "#normalise and feed in the image\n",
    "\n",
    "                    batch_data[folder,idx,:,:,0] = (image[:,:,0])/255\n",
    "                    batch_data[folder,idx,:,:,1] = (image[:,:,1])/255\n",
    "                    batch_data[folder,idx,:,:,2] = (image[:,:,2])/255\n",
    "                    \n",
    "                batch_labels[folder, int(t[folder + (batch*batch_size)].strip().split(';')[2])] = 1\n",
    "#you yield the batch_data and the batch_labels, remember what does yield do                \n",
    "            yield batch_data, batch_labels \n",
    "\n",
    "        \n",
    "# write the code for the remaining data points which are left after full batches\n",
    "        if (len(t)%batch_size) != 0:\n",
    "            batch_data = np.zeros((len(t)%batch_size,18,84,84,3))\n",
    "            batch_labels = np.zeros((len(t)%batch_size,5))\n",
    "            for folder in range(len(t)%batch_size):\n",
    "                imgs = os.listdir(source_path+'/'+ t[folder + (num_batches*batch_size)].split(';')[0])\n",
    "                for idx,item in enumerate(img_idx):\n",
    "                    image = cv2.imread(source_path+'/'+ t[folder + (num_batches*batch_size)].strip().split(';')[0]+'/'+imgs[item],cv2.IMREAD_UNCHANGED).astype(np.float32)\n",
    "                    \n",
    "# Cropping image by 3 % of original size :\n",
    "                    image = crop_img(image, 0.03)\n",
    "\n",
    "# Resizing the image :\n",
    "                    if image.shape[1] == 160:\n",
    "                        image = cv2.resize(image[:,20:140,:],(84,84),interpolation = cv2.INTER_AREA).astype(np.float32)\n",
    "                    else:\n",
    "                        image = cv2.resize(image,(84,84),interpolation = cv2.INTER_AREA).astype(np.float32)\n",
    "\n",
    "# Perform normalization on images\n",
    "                    batch_data[folder,idx,:,:,0] = (image[:,:,0])/255\n",
    "                    batch_data[folder,idx,:,:,1] = (image[:,:,1])/255\n",
    "                    batch_data[folder,idx,:,:,2] = (image[:,:,2])/255\n",
    "\n",
    "                batch_labels[folder, int(t[folder + (num_batches*batch_size)].strip().split(';')[2])] = 1\n",
    "\n",
    "            yield batch_data, batch_labels"
   ]
  },
  {
   "cell_type": "code",
   "execution_count": 33,
   "metadata": {},
   "outputs": [
    {
     "name": "stdout",
     "output_type": "stream",
     "text": [
      "# training sequences = 663\n",
      "# validation sequences = 100\n",
      "# epochs = 20\n",
      "# batch_size = 30\n"
     ]
    }
   ],
   "source": [
    "curr_dt_time = datetime.datetime.now()\n",
    "train_path = '/datasets/Project_data/train'\n",
    "val_path = '/datasets/Project_data/val'\n",
    "num_train_sequences = len(train_doc)\n",
    "print('# training sequences =', num_train_sequences)\n",
    "num_val_sequences = len(val_doc)\n",
    "print('# validation sequences =', num_val_sequences)\n",
    "# choose the number of epochs\n",
    "num_epochs = 20\n",
    "print ('# epochs =', num_epochs)\n",
    "\n",
    "batch_size = 30\n",
    "print ('# batch_size =', batch_size)"
   ]
  },
  {
   "cell_type": "code",
   "execution_count": 34,
   "metadata": {},
   "outputs": [
    {
     "name": "stdout",
     "output_type": "stream",
     "text": [
      "Model: \"sequential_2\"\n",
      "_________________________________________________________________\n",
      " Layer (type)                Output Shape              Param #   \n",
      "=================================================================\n",
      " conv3d_8 (Conv3D)           (None, 18, 84, 84, 8)     656       \n",
      "                                                                 \n",
      " activation_8 (Activation)   (None, 18, 84, 84, 8)     0         \n",
      "                                                                 \n",
      " batch_normalization_12 (Bat  (None, 18, 84, 84, 8)    32        \n",
      " chNormalization)                                                \n",
      "                                                                 \n",
      " max_pooling3d_8 (MaxPooling  (None, 9, 42, 42, 8)     0         \n",
      " 3D)                                                             \n",
      "                                                                 \n",
      " conv3d_9 (Conv3D)           (None, 9, 42, 42, 16)     3472      \n",
      "                                                                 \n",
      " activation_9 (Activation)   (None, 9, 42, 42, 16)     0         \n",
      "                                                                 \n",
      " batch_normalization_13 (Bat  (None, 9, 42, 42, 16)    64        \n",
      " chNormalization)                                                \n",
      "                                                                 \n",
      " max_pooling3d_9 (MaxPooling  (None, 4, 21, 21, 16)    0         \n",
      " 3D)                                                             \n",
      "                                                                 \n",
      " conv3d_10 (Conv3D)          (None, 4, 21, 21, 32)     13856     \n",
      "                                                                 \n",
      " batch_normalization_14 (Bat  (None, 4, 21, 21, 32)    128       \n",
      " chNormalization)                                                \n",
      "                                                                 \n",
      " activation_10 (Activation)  (None, 4, 21, 21, 32)     0         \n",
      "                                                                 \n",
      " max_pooling3d_10 (MaxPoolin  (None, 2, 10, 10, 32)    0         \n",
      " g3D)                                                            \n",
      "                                                                 \n",
      " conv3d_11 (Conv3D)          (None, 2, 10, 10, 64)     55360     \n",
      "                                                                 \n",
      " activation_11 (Activation)  (None, 2, 10, 10, 64)     0         \n",
      "                                                                 \n",
      " batch_normalization_15 (Bat  (None, 2, 10, 10, 64)    256       \n",
      " chNormalization)                                                \n",
      "                                                                 \n",
      " max_pooling3d_11 (MaxPoolin  (None, 1, 5, 5, 64)      0         \n",
      " g3D)                                                            \n",
      "                                                                 \n",
      " flatten_2 (Flatten)         (None, 1600)              0         \n",
      "                                                                 \n",
      " dense_6 (Dense)             (None, 128)               204928    \n",
      "                                                                 \n",
      " batch_normalization_16 (Bat  (None, 128)              512       \n",
      " chNormalization)                                                \n",
      "                                                                 \n",
      " dropout_4 (Dropout)         (None, 128)               0         \n",
      "                                                                 \n",
      " dense_7 (Dense)             (None, 64)                8256      \n",
      "                                                                 \n",
      " batch_normalization_17 (Bat  (None, 64)               256       \n",
      " chNormalization)                                                \n",
      "                                                                 \n",
      " dropout_5 (Dropout)         (None, 64)                0         \n",
      "                                                                 \n",
      " dense_8 (Dense)             (None, 5)                 325       \n",
      "                                                                 \n",
      "=================================================================\n",
      "Total params: 288,101\n",
      "Trainable params: 287,477\n",
      "Non-trainable params: 624\n",
      "_________________________________________________________________\n",
      "None\n"
     ]
    }
   ],
   "source": [
    "# Building the  model which is 3D Conv model:\n",
    "\n",
    "modelConv3D_3 = Sequential()\n",
    "\n",
    "modelConv3D_3.add(Conv3D(8, (3,3,3), padding='same', input_shape=(18,84,84,3)))\n",
    "modelConv3D_3.add(Activation('relu'))\n",
    "modelConv3D_3.add(BatchNormalization())\n",
    "modelConv3D_3.add(MaxPooling3D(pool_size=(2,2,2)))\n",
    "\n",
    "\n",
    "modelConv3D_3.add(Conv3D(16, (3,3,3), padding='same'))\n",
    "modelConv3D_3.add(Activation('relu'))\n",
    "modelConv3D_3.add(BatchNormalization())\n",
    "modelConv3D_3.add(MaxPooling3D(pool_size=(2,2,2)))\n",
    "\n",
    "\n",
    "modelConv3D_3.add(Conv3D(32, (3,3,3), padding='same'))\n",
    "modelConv3D_3.add(BatchNormalization())\n",
    "modelConv3D_3.add(Activation('relu'))\n",
    "modelConv3D_3.add(MaxPooling3D(pool_size=(2,2,2)))\n",
    "\n",
    "\n",
    "modelConv3D_3.add(Conv3D(64, (3,3,3), padding='same'))\n",
    "modelConv3D_3.add(Activation('relu'))\n",
    "modelConv3D_3.add(BatchNormalization())\n",
    "modelConv3D_3.add(MaxPooling3D(pool_size=(2,2,2)))\n",
    "\n",
    "\n",
    "modelConv3D_3.add(Flatten())\n",
    "\n",
    "modelConv3D_3.add(Dense(128, activation='relu'))\n",
    "modelConv3D_3.add(BatchNormalization())\n",
    "modelConv3D_3.add(Dropout(0.25))\n",
    "\n",
    "modelConv3D_3.add(Dense(64, activation='relu'))\n",
    "modelConv3D_3.add(BatchNormalization())\n",
    "modelConv3D_3.add(Dropout(0.25))\n",
    "\n",
    "modelConv3D_3.add(Dense(5, activation='softmax'))\n",
    "\n",
    "#write your optimizer\n",
    "optimiser = tf.keras.optimizers.Adam(lr=0.0002)\n",
    "\n",
    "\n",
    "# compile model :\n",
    "modelConv3D_3.compile(optimizer=optimiser, loss='categorical_crossentropy', metrics=['categorical_accuracy'])\n",
    "\n",
    "# Print the model summary :\n",
    "print (modelConv3D_3.summary())"
   ]
  },
  {
   "cell_type": "code",
   "execution_count": 35,
   "metadata": {},
   "outputs": [
    {
     "name": "stdout",
     "output_type": "stream",
     "text": [
      "Total Params in model: 288101\n"
     ]
    }
   ],
   "source": [
    "print(\"Total Params in model:\", modelConv3D_3.count_params())"
   ]
  },
  {
   "cell_type": "code",
   "execution_count": 36,
   "metadata": {},
   "outputs": [
    {
     "name": "stdout",
     "output_type": "stream",
     "text": [
      "WARNING:tensorflow:`period` argument is deprecated. Please use `save_freq` to specify the frequency in number of batches seen.\n"
     ]
    }
   ],
   "source": [
    "train_generator = generator_modified(train_path, train_doc, batch_size)\n",
    "val_generator = generator_modified(val_path, val_doc, batch_size)\n",
    "\n",
    "model_name = 'model_init' + '_' + str(curr_dt_time).replace(' ','').replace(':','_') + '/'\n",
    "    \n",
    "if not os.path.exists(model_name):\n",
    "    os.mkdir(model_name)\n",
    "        \n",
    "filepath = model_name + 'model-{epoch:05d}-{loss:.5f}-{categorical_accuracy:.5f}-{val_loss:.5f}-{val_categorical_accuracy:.5f}.h5'\n",
    "\n",
    "checkpoint = ModelCheckpoint(filepath, monitor='val_loss', verbose=1, save_best_only=False, save_weights_only=False, mode='auto', period=1)\n",
    "\n",
    "# write the REducelronplateau code here\n",
    "LR = ReduceLROnPlateau(monitor='val_loss', factor=0.2, patience=4, verbose =1)\n",
    "\n",
    "callbacks_list = [checkpoint, LR]\n",
    "\n",
    "if (num_train_sequences%batch_size) == 0:\n",
    "    steps_per_epoch = int(num_train_sequences/batch_size)\n",
    "else:\n",
    "    steps_per_epoch = (num_train_sequences//batch_size) + 1\n",
    "\n",
    "if (num_val_sequences%batch_size) == 0:\n",
    "    validation_steps = int(num_val_sequences/batch_size)\n",
    "else:\n",
    "    validation_steps = (num_val_sequences//batch_size) + 1"
   ]
  },
  {
   "cell_type": "code",
   "execution_count": 37,
   "metadata": {},
   "outputs": [
    {
     "name": "stderr",
     "output_type": "stream",
     "text": [
      "/tmp/ipykernel_202/1137570482.py:1: UserWarning: `Model.fit_generator` is deprecated and will be removed in a future version. Please use `Model.fit`, which supports generators.\n",
      "  history = modelConv3D_3.fit_generator(train_generator, steps_per_epoch=steps_per_epoch, epochs=num_epochs, verbose=1,\n"
     ]
    },
    {
     "name": "stdout",
     "output_type": "stream",
     "text": [
      "Source path =  /datasets/Project_data/train ; batch size = 30\n",
      "Epoch 1/20\n",
      "23/23 [==============================] - ETA: 0s - loss: 2.1821 - categorical_accuracy: 0.2428Source path =  /datasets/Project_data/val ; batch size = 30\n",
      "\n",
      "Epoch 00001: saving model to model_init_2024-11-0418_45_15.084458/model-00001-2.18211-0.24284-1.63991-0.18000.h5\n",
      "23/23 [==============================] - 27s 1s/step - loss: 2.1821 - categorical_accuracy: 0.2428 - val_loss: 1.6399 - val_categorical_accuracy: 0.1800 - lr: 2.0000e-04\n",
      "Epoch 2/20\n",
      "23/23 [==============================] - ETA: 0s - loss: 1.9222 - categorical_accuracy: 0.3032\n",
      "Epoch 00002: saving model to model_init_2024-11-0418_45_15.084458/model-00002-1.92219-0.30317-1.63102-0.22000.h5\n",
      "23/23 [==============================] - 26s 1s/step - loss: 1.9222 - categorical_accuracy: 0.3032 - val_loss: 1.6310 - val_categorical_accuracy: 0.2200 - lr: 2.0000e-04\n",
      "Epoch 3/20\n",
      "23/23 [==============================] - ETA: 0s - loss: 1.8046 - categorical_accuracy: 0.3107\n",
      "Epoch 00003: saving model to model_init_2024-11-0418_45_15.084458/model-00003-1.80458-0.31071-1.72454-0.17000.h5\n",
      "23/23 [==============================] - 26s 1s/step - loss: 1.8046 - categorical_accuracy: 0.3107 - val_loss: 1.7245 - val_categorical_accuracy: 0.1700 - lr: 2.0000e-04\n",
      "Epoch 4/20\n",
      "23/23 [==============================] - ETA: 0s - loss: 1.6245 - categorical_accuracy: 0.3846\n",
      "Epoch 00004: saving model to model_init_2024-11-0418_45_15.084458/model-00004-1.62451-0.38462-1.78833-0.14000.h5\n",
      "23/23 [==============================] - 25s 1s/step - loss: 1.6245 - categorical_accuracy: 0.3846 - val_loss: 1.7883 - val_categorical_accuracy: 0.1400 - lr: 2.0000e-04\n",
      "Epoch 5/20\n",
      "23/23 [==============================] - ETA: 0s - loss: 1.6704 - categorical_accuracy: 0.3379\n",
      "Epoch 00005: saving model to model_init_2024-11-0418_45_15.084458/model-00005-1.67041-0.33786-1.88351-0.16000.h5\n",
      "23/23 [==============================] - 25s 1s/step - loss: 1.6704 - categorical_accuracy: 0.3379 - val_loss: 1.8835 - val_categorical_accuracy: 0.1600 - lr: 2.0000e-04\n",
      "Epoch 6/20\n",
      "23/23 [==============================] - ETA: 0s - loss: 1.5186 - categorical_accuracy: 0.3906\n",
      "Epoch 00006: saving model to model_init_2024-11-0418_45_15.084458/model-00006-1.51855-0.39065-1.96477-0.15000.h5\n",
      "\n",
      "Epoch 00006: ReduceLROnPlateau reducing learning rate to 3.9999998989515007e-05.\n",
      "23/23 [==============================] - 25s 1s/step - loss: 1.5186 - categorical_accuracy: 0.3906 - val_loss: 1.9648 - val_categorical_accuracy: 0.1500 - lr: 2.0000e-04\n",
      "Epoch 7/20\n",
      "23/23 [==============================] - ETA: 0s - loss: 1.5104 - categorical_accuracy: 0.3937\n",
      "Epoch 00007: saving model to model_init_2024-11-0418_45_15.084458/model-00007-1.51040-0.39367-1.92884-0.18000.h5\n",
      "23/23 [==============================] - 25s 1s/step - loss: 1.5104 - categorical_accuracy: 0.3937 - val_loss: 1.9288 - val_categorical_accuracy: 0.1800 - lr: 4.0000e-05\n",
      "Epoch 8/20\n",
      "22/23 [===========================>..] - ETA: 0s - loss: 1.5306 - categorical_accuracy: 0.3985\n",
      "Epoch 00008: saving model to model_init_2024-11-0418_45_15.084458/model-00008-1.53104-0.39970-1.90638-0.16000.h5\n",
      "23/23 [==============================] - 25s 1s/step - loss: 1.5310 - categorical_accuracy: 0.3997 - val_loss: 1.9064 - val_categorical_accuracy: 0.1600 - lr: 4.0000e-05\n",
      "Epoch 9/20\n",
      "23/23 [==============================] - ETA: 0s - loss: 1.4644 - categorical_accuracy: 0.4223\n",
      "Epoch 00009: saving model to model_init_2024-11-0418_45_15.084458/model-00009-1.46445-0.42232-1.90506-0.16000.h5\n",
      "23/23 [==============================] - 25s 1s/step - loss: 1.4644 - categorical_accuracy: 0.4223 - val_loss: 1.9051 - val_categorical_accuracy: 0.1600 - lr: 4.0000e-05\n",
      "Epoch 10/20\n",
      "23/23 [==============================] - ETA: 0s - loss: 1.4433 - categorical_accuracy: 0.4434\n",
      "Epoch 00010: saving model to model_init_2024-11-0418_45_15.084458/model-00010-1.44332-0.44344-1.86641-0.21000.h5\n",
      "\n",
      "Epoch 00010: ReduceLROnPlateau reducing learning rate to 7.999999797903002e-06.\n",
      "23/23 [==============================] - 25s 1s/step - loss: 1.4433 - categorical_accuracy: 0.4434 - val_loss: 1.8664 - val_categorical_accuracy: 0.2100 - lr: 4.0000e-05\n",
      "Epoch 11/20\n",
      "23/23 [==============================] - ETA: 0s - loss: 1.3693 - categorical_accuracy: 0.4525\n",
      "Epoch 00011: saving model to model_init_2024-11-0418_45_15.084458/model-00011-1.36935-0.45249-1.98430-0.15000.h5\n",
      "23/23 [==============================] - 25s 1s/step - loss: 1.3693 - categorical_accuracy: 0.4525 - val_loss: 1.9843 - val_categorical_accuracy: 0.1500 - lr: 8.0000e-06\n",
      "Epoch 12/20\n",
      "22/23 [===========================>..] - ETA: 0s - loss: 1.4049 - categorical_accuracy: 0.4606\n",
      "Epoch 00012: saving model to model_init_2024-11-0418_45_15.084458/model-00012-1.40155-0.46154-1.87661-0.21000.h5\n",
      "23/23 [==============================] - 24s 1s/step - loss: 1.4016 - categorical_accuracy: 0.4615 - val_loss: 1.8766 - val_categorical_accuracy: 0.2100 - lr: 8.0000e-06\n",
      "Epoch 13/20\n",
      "23/23 [==============================] - ETA: 0s - loss: 1.4049 - categorical_accuracy: 0.4510\n",
      "Epoch 00013: saving model to model_init_2024-11-0418_45_15.084458/model-00013-1.40491-0.45098-1.84206-0.20000.h5\n",
      "23/23 [==============================] - 26s 1s/step - loss: 1.4049 - categorical_accuracy: 0.4510 - val_loss: 1.8421 - val_categorical_accuracy: 0.2000 - lr: 8.0000e-06\n",
      "Epoch 14/20\n",
      "22/23 [===========================>..] - ETA: 0s - loss: 1.3451 - categorical_accuracy: 0.4576\n",
      "Epoch 00014: saving model to model_init_2024-11-0418_45_15.084458/model-00014-1.34709-0.45701-1.80305-0.22000.h5\n",
      "\n",
      "Epoch 00014: ReduceLROnPlateau reducing learning rate to 1.5999999959603884e-06.\n",
      "23/23 [==============================] - 26s 1s/step - loss: 1.3471 - categorical_accuracy: 0.4570 - val_loss: 1.8031 - val_categorical_accuracy: 0.2200 - lr: 8.0000e-06\n",
      "Epoch 15/20\n",
      "23/23 [==============================] - ETA: 0s - loss: 1.4205 - categorical_accuracy: 0.4646\n",
      "Epoch 00015: saving model to model_init_2024-11-0418_45_15.084458/model-00015-1.42051-0.46456-1.63343-0.36000.h5\n",
      "23/23 [==============================] - 25s 1s/step - loss: 1.4205 - categorical_accuracy: 0.4646 - val_loss: 1.6334 - val_categorical_accuracy: 0.3600 - lr: 1.6000e-06\n",
      "Epoch 16/20\n",
      "23/23 [==============================] - ETA: 0s - loss: 1.4075 - categorical_accuracy: 0.4495\n",
      "Epoch 00016: saving model to model_init_2024-11-0418_45_15.084458/model-00016-1.40747-0.44947-1.74853-0.24000.h5\n",
      "23/23 [==============================] - 25s 1s/step - loss: 1.4075 - categorical_accuracy: 0.4495 - val_loss: 1.7485 - val_categorical_accuracy: 0.2400 - lr: 1.6000e-06\n",
      "Epoch 17/20\n",
      "22/23 [===========================>..] - ETA: 0s - loss: 1.4132 - categorical_accuracy: 0.4515\n",
      "Epoch 00017: saving model to model_init_2024-11-0418_45_15.084458/model-00017-1.41377-0.45249-1.71814-0.27000.h5\n",
      "23/23 [==============================] - 25s 1s/step - loss: 1.4138 - categorical_accuracy: 0.4525 - val_loss: 1.7181 - val_categorical_accuracy: 0.2700 - lr: 1.6000e-06\n",
      "Epoch 18/20\n",
      "22/23 [===========================>..] - ETA: 0s - loss: 1.3835 - categorical_accuracy: 0.4682\n",
      "Epoch 00018: saving model to model_init_2024-11-0418_45_15.084458/model-00018-1.38539-0.46606-1.77150-0.24000.h5\n",
      "\n",
      "Epoch 00018: ReduceLROnPlateau reducing learning rate to 3.200000037395512e-07.\n",
      "23/23 [==============================] - 26s 1s/step - loss: 1.3854 - categorical_accuracy: 0.4661 - val_loss: 1.7715 - val_categorical_accuracy: 0.2400 - lr: 1.6000e-06\n",
      "Epoch 19/20\n",
      "23/23 [==============================] - ETA: 0s - loss: 1.3615 - categorical_accuracy: 0.4615\n",
      "Epoch 00019: saving model to model_init_2024-11-0418_45_15.084458/model-00019-1.36149-0.46154-1.66406-0.28000.h5\n",
      "23/23 [==============================] - 25s 1s/step - loss: 1.3615 - categorical_accuracy: 0.4615 - val_loss: 1.6641 - val_categorical_accuracy: 0.2800 - lr: 3.2000e-07\n",
      "Epoch 20/20\n",
      "22/23 [===========================>..] - ETA: 0s - loss: 1.3932 - categorical_accuracy: 0.4591\n",
      "Epoch 00020: saving model to model_init_2024-11-0418_45_15.084458/model-00020-1.39191-0.45852-1.62349-0.29000.h5\n",
      "23/23 [==============================] - 25s 1s/step - loss: 1.3919 - categorical_accuracy: 0.4585 - val_loss: 1.6235 - val_categorical_accuracy: 0.2900 - lr: 3.2000e-07\n"
     ]
    }
   ],
   "source": [
    "history = modelConv3D_3.fit_generator(train_generator, steps_per_epoch=steps_per_epoch, epochs=num_epochs, verbose=1, \n",
    "                    callbacks=callbacks_list, validation_data=val_generator, \n",
    "                    validation_steps=validation_steps, class_weight=None,\n",
    "                    workers=1, initial_epoch=0)"
   ]
  },
  {
   "cell_type": "code",
   "execution_count": 38,
   "metadata": {},
   "outputs": [
    {
     "data": {
      "image/png": "[encoded data removed]",
      "text/plain": [
       "<Figure size 432x288 with 1 Axes>"
      ]
     },
     "metadata": {
      "needs_background": "light"
     },
     "output_type": "display_data"
    },
    {
     "data": {
      "image/png": "[encoded data removed]",
      "text/plain": [
       "<Figure size 432x288 with 1 Axes>"
      ]
     },
     "metadata": {
      "needs_background": "light"
     },
     "output_type": "display_data"
    }
   ],
   "source": [
    "# Plotting the result of Model 3 :\n",
    "\n",
    "# summarize history for accuracy\n",
    "plt.plot(history.history['categorical_accuracy'])\n",
    "plt.plot(history.history['val_categorical_accuracy'])\n",
    "plt.title('model accuracy')\n",
    "plt.ylabel('accuracy')\n",
    "plt.xlabel('epoch')\n",
    "plt.legend(['train', 'test'], loc='upper left')\n",
    "plt.show()\n",
    "\n",
    "# summarize history for loss\n",
    "plt.plot(history.history['loss'])\n",
    "plt.plot(history.history['val_loss'])\n",
    "plt.title('model loss')\n",
    "plt.ylabel('loss')\n",
    "plt.xlabel('epoch')\n",
    "plt.legend(['train', 'test'], loc='upper left')\n",
    "plt.show()"
   ]
  },
  {
   "cell_type": "markdown",
   "metadata": {},
   "source": [
    "### training accuarcy of 45.85 % and validation accuracy of 29 %"
   ]
  },
  {
   "cell_type": "markdown",
   "metadata": {},
   "source": [
    "# Model 4.\n",
    "## Conv 3D model\n",
    "## Increase the image size to 100x100\n",
    "## batch size 50\n",
    "## epoch 30"
   ]
  },
  {
   "cell_type": "code",
   "execution_count": 7,
   "metadata": {},
   "outputs": [],
   "source": [
    "train_doc = np.random.permutation(open('/datasets/Project_data/train.csv').readlines())\n",
    "val_doc = np.random.permutation(open('/datasets/Project_data/val.csv').readlines())"
   ]
  },
  {
   "cell_type": "code",
   "execution_count": 8,
   "metadata": {},
   "outputs": [],
   "source": [
    "def generator(source_path, folder_list, batch_size):\n",
    "    print( 'Source path = ', source_path, '; batch size =', batch_size)\n",
    "    \n",
    "    #create a list of image numbers you want to use for a particular video\n",
    "    img_idx = [1,2,4,6,7,8,10,12,14,16,18,20,21,22,24,26,27,29]\n",
    "    #list(range(0,29,2))\n",
    "    \n",
    "    while True:\n",
    "        t = np.random.permutation(folder_list)\n",
    "        \n",
    "# calculate the number of batches\n",
    "        num_batches = int(len(t)/batch_size)\n",
    "        \n",
    "# we iterate over the number of batches\n",
    "        for batch in range(num_batches): \n",
    "            \n",
    "# x is the number of images you use for each video, (y,z) is the final size of the input images and 3 is the number of channels RGB          \n",
    "            batch_data = np.zeros((batch_size,18,100,100,3))\n",
    "# batch_labels is the one hot representation of the output\n",
    "            batch_labels = np.zeros((batch_size,5))\n",
    "\n",
    "# iterate over the batch_size    \n",
    "            for folder in range(batch_size): \n",
    "# read all the images in the folder        \n",
    "                imgs = os.listdir(source_path+'/'+ t[folder + (batch*batch_size)].split(';')[0]) \n",
    "#  Iterate over the frames/images of a folder to read them in    \n",
    "                for idx,item in enumerate(img_idx):\n",
    "                    image = cv2.imread(source_path+'/'+ t[folder + (batch*batch_size)].strip().split(';')[0]+'/'+imgs[item],cv2.IMREAD_UNCHANGED).astype(np.float32)\n",
    "                    \n",
    "#crop the images and resize them. Note that the images are of 2 different shape \n",
    "#and the conv3D will throw error if the inputs in a batch have different shapes\n",
    "\n",
    "# Cropping image by 10 % of original size :\n",
    "                    image = crop_img(image, 0.02)\n",
    "    \n",
    "# Resizing the image :    \n",
    "                    if image.shape[1] == 160:\n",
    "                        image = cv2.resize(image[:,20:140,:],(100,100),interpolation = cv2.INTER_AREA).astype(np.float32)\n",
    "                    else:\n",
    "                        image = cv2.resize(image,(100,100),interpolation = cv2.INTER_AREA).astype(np.float32)                    \n",
    "                        \n",
    "#normalise and feed in the image\n",
    "\n",
    "                    batch_data[folder,idx,:,:,0] = (image[:,:,0])/255\n",
    "                    batch_data[folder,idx,:,:,1] = (image[:,:,1])/255\n",
    "                    batch_data[folder,idx,:,:,2] = (image[:,:,2])/255\n",
    "                    \n",
    "                batch_labels[folder, int(t[folder + (batch*batch_size)].strip().split(';')[2])] = 1\n",
    "#you yield the batch_data and the batch_labels, remember what does yield do                \n",
    "            yield batch_data, batch_labels \n",
    "\n",
    "        \n",
    "# write the code for the remaining data points which are left after full batches\n",
    "        if (len(t)%batch_size) != 0:\n",
    "            batch_data = np.zeros((len(t)%batch_size,18,100,100,3))\n",
    "            batch_labels = np.zeros((len(t)%batch_size,5))\n",
    "            for folder in range(len(t)%batch_size):\n",
    "                imgs = os.listdir(source_path+'/'+ t[folder + (num_batches*batch_size)].split(';')[0])\n",
    "                for idx,item in enumerate(img_idx):\n",
    "                    image = cv2.imread(source_path+'/'+ t[folder + (num_batches*batch_size)].strip().split(';')[0]+'/'+imgs[item],cv2.IMREAD_UNCHANGED).astype(np.float32)\n",
    "                    \n",
    "# Cropping image by 10 % of original size :\n",
    "                    image = crop_img(image, 0.02)\n",
    "\n",
    "# Resizing the image :\n",
    "                    if image.shape[1] == 160:\n",
    "                        image = cv2.resize(image[:,20:140,:],(100,100),interpolation = cv2.INTER_AREA).astype(np.float32)\n",
    "                    else:\n",
    "                        image = cv2.resize(image,(100,100),interpolation = cv2.INTER_AREA).astype(np.float32)\n",
    "\n",
    "# Perform normalization on images\n",
    "                    batch_data[folder,idx,:,:,0] = (image[:,:,0])/255\n",
    "                    batch_data[folder,idx,:,:,1] = (image[:,:,1])/255\n",
    "                    batch_data[folder,idx,:,:,2] = (image[:,:,2])/255\n",
    "\n",
    "                batch_labels[folder, int(t[folder + (num_batches*batch_size)].strip().split(';')[2])] = 1\n",
    "\n",
    "            yield batch_data, batch_labels"
   ]
  },
  {
   "cell_type": "code",
   "execution_count": 9,
   "metadata": {},
   "outputs": [
    {
     "name": "stderr",
     "output_type": "stream",
     "text": [
      "2024-11-04 19:33:14.644518: W tensorflow/core/common_runtime/gpu/gpu_bfc_allocator.cc:39] Overriding allow_growth setting because the TF_FORCE_GPU_ALLOW_GROWTH environment variable is set. Original config value was 0.\n",
      "2024-11-04 19:33:14.644576: I tensorflow/core/common_runtime/gpu/gpu_device.cc:1525] Created device /job:localhost/replica:0/task:0/device:GPU:0 with 14800 MB memory:  -> device: 0, name: Quadro RTX 5000, pci bus id: 0000:1d:00.0, compute capability: 7.5\n"
     ]
    }
   ],
   "source": [
    "modelConv3D_4 = Sequential()\n",
    "\n",
    "modelConv3D_4.add(Conv3D(8, \n",
    "                 kernel_size=(3,3,3), \n",
    "                 input_shape=(18,100,100,3),\n",
    "                 padding='same'))\n",
    "modelConv3D_4.add(BatchNormalization())\n",
    "modelConv3D_4.add(Activation('relu'))\n",
    "\n",
    "modelConv3D_4.add(MaxPooling3D(pool_size=(2,2,2)))\n",
    "\n",
    "modelConv3D_4.add(Conv3D(16, \n",
    "                 kernel_size=(3,3,3), \n",
    "                 padding='same'))\n",
    "modelConv3D_4.add(BatchNormalization())\n",
    "modelConv3D_4.add(Activation('relu'))\n",
    "\n",
    "modelConv3D_4.add(MaxPooling3D(pool_size=(2,2,2)))\n",
    "\n",
    "modelConv3D_4.add(Conv3D(32, \n",
    "                 kernel_size=(1,3,3), \n",
    "                 padding='same'))\n",
    "modelConv3D_4.add(BatchNormalization())\n",
    "modelConv3D_4.add(Activation('relu'))\n",
    "\n",
    "modelConv3D_4.add(MaxPooling3D(pool_size=(2,2,2)))\n",
    "\n",
    "modelConv3D_4.add(Conv3D(64, \n",
    "                 kernel_size=(1,3,3), \n",
    "                 padding='same'))\n",
    "modelConv3D_4.add(Activation('relu'))\n",
    "modelConv3D_4.add(Dropout(0.25))\n",
    "\n",
    "modelConv3D_4.add(MaxPooling3D(pool_size=(2,2,2)))\n",
    "\n",
    "#Flatten Layers\n",
    "modelConv3D_4.add(Flatten())\n",
    "\n",
    "modelConv3D_4.add(Dense(256, activation='relu'))\n",
    "modelConv3D_4.add(Dropout(0.25))\n",
    "\n",
    "modelConv3D_4.add(Dense(128, activation='relu'))\n",
    "modelConv3D_4.add(Dropout(0.25))\n",
    "\n",
    "#softmax layer\n",
    "modelConv3D_4.add(Dense(5, activation='softmax'))"
   ]
  },
  {
   "cell_type": "code",
   "execution_count": 10,
   "metadata": {},
   "outputs": [
    {
     "name": "stdout",
     "output_type": "stream",
     "text": [
      "Model: \"sequential\"\n",
      "_________________________________________________________________\n",
      " Layer (type)                Output Shape              Param #   \n",
      "=================================================================\n",
      " conv3d (Conv3D)             (None, 18, 100, 100, 8)   656       \n",
      "                                                                 \n",
      " batch_normalization (BatchN  (None, 18, 100, 100, 8)  32        \n",
      " ormalization)                                                   \n",
      "                                                                 \n",
      " activation (Activation)     (None, 18, 100, 100, 8)   0         \n",
      "                                                                 \n",
      " max_pooling3d (MaxPooling3D  (None, 9, 50, 50, 8)     0         \n",
      " )                                                               \n",
      "                                                                 \n",
      " conv3d_1 (Conv3D)           (None, 9, 50, 50, 16)     3472      \n",
      "                                                                 \n",
      " batch_normalization_1 (Batc  (None, 9, 50, 50, 16)    64        \n",
      " hNormalization)                                                 \n",
      "                                                                 \n",
      " activation_1 (Activation)   (None, 9, 50, 50, 16)     0         \n",
      "                                                                 \n",
      " max_pooling3d_1 (MaxPooling  (None, 4, 25, 25, 16)    0         \n",
      " 3D)                                                             \n",
      "                                                                 \n",
      " conv3d_2 (Conv3D)           (None, 4, 25, 25, 32)     4640      \n",
      "                                                                 \n",
      " batch_normalization_2 (Batc  (None, 4, 25, 25, 32)    128       \n",
      " hNormalization)                                                 \n",
      "                                                                 \n",
      " activation_2 (Activation)   (None, 4, 25, 25, 32)     0         \n",
      "                                                                 \n",
      " max_pooling3d_2 (MaxPooling  (None, 2, 12, 12, 32)    0         \n",
      " 3D)                                                             \n",
      "                                                                 \n",
      " conv3d_3 (Conv3D)           (None, 2, 12, 12, 64)     18496     \n",
      "                                                                 \n",
      " activation_3 (Activation)   (None, 2, 12, 12, 64)     0         \n",
      "                                                                 \n",
      " dropout (Dropout)           (None, 2, 12, 12, 64)     0         \n",
      "                                                                 \n",
      " max_pooling3d_3 (MaxPooling  (None, 1, 6, 6, 64)      0         \n",
      " 3D)                                                             \n",
      "                                                                 \n",
      " flatten (Flatten)           (None, 2304)              0         \n",
      "                                                                 \n",
      " dense (Dense)               (None, 256)               590080    \n",
      "                                                                 \n",
      " dropout_1 (Dropout)         (None, 256)               0         \n",
      "                                                                 \n",
      " dense_1 (Dense)             (None, 128)               32896     \n",
      "                                                                 \n",
      " dropout_2 (Dropout)         (None, 128)               0         \n",
      "                                                                 \n",
      " dense_2 (Dense)             (None, 5)                 645       \n",
      "                                                                 \n",
      "=================================================================\n",
      "Total params: 651,109\n",
      "Trainable params: 650,997\n",
      "Non-trainable params: 112\n",
      "_________________________________________________________________\n",
      "None\n"
     ]
    }
   ],
   "source": [
    "optimiser = tf.keras.optimizers.Adam() #write your optimizer\n",
    "modelConv3D_4.compile(optimizer=optimiser, loss='categorical_crossentropy', metrics=['categorical_accuracy'])\n",
    "print (modelConv3D_4.summary())"
   ]
  },
  {
   "cell_type": "code",
   "execution_count": 11,
   "metadata": {},
   "outputs": [
    {
     "name": "stdout",
     "output_type": "stream",
     "text": [
      "Total Params in model: 651109\n"
     ]
    }
   ],
   "source": [
    "print(\"Total Params in model:\", modelConv3D_4.count_params())"
   ]
  },
  {
   "cell_type": "code",
   "execution_count": 12,
   "metadata": {},
   "outputs": [
    {
     "name": "stdout",
     "output_type": "stream",
     "text": [
      "# training sequences = 663\n",
      "# validation sequences = 100\n"
     ]
    }
   ],
   "source": [
    "curr_dt_time = datetime.datetime.now()\n",
    "train_path = '/datasets/Project_data/train'\n",
    "val_path = '/datasets/Project_data/val'\n",
    "num_train_sequences = len(train_doc)\n",
    "print('# training sequences =', num_train_sequences)\n",
    "num_val_sequences = len(val_doc)\n",
    "print('# validation sequences =', num_val_sequences)\n",
    "\n",
    "batch_size = 50\n",
    "num_epochs = 30\n",
    "\n",
    "train_generator = generator(train_path, train_doc, batch_size)\n",
    "val_generator = generator(val_path, val_doc, batch_size)"
   ]
  },
  {
   "cell_type": "code",
   "execution_count": 13,
   "metadata": {},
   "outputs": [
    {
     "name": "stdout",
     "output_type": "stream",
     "text": [
      "WARNING:tensorflow:`period` argument is deprecated. Please use `save_freq` to specify the frequency in number of batches seen.\n"
     ]
    }
   ],
   "source": [
    "model_name = 'model_init' + '_' + str(curr_dt_time).replace(' ','').replace(':','_') + '/'\n",
    "    \n",
    "if not os.path.exists(model_name):\n",
    "    os.mkdir(model_name)\n",
    "        \n",
    "filepath = model_name + 'model-{epoch:05d}-{loss:.5f}-{categorical_accuracy:.5f}-{val_loss:.5f}-{val_categorical_accuracy:.5f}.h5'\n",
    "\n",
    "checkpoint = ModelCheckpoint(filepath, monitor='val_loss', verbose=1, save_best_only=False, save_weights_only=False, mode='auto', period=1)\n",
    "\n",
    "# write the Reducelronplateau code here\n",
    "LR = ReduceLROnPlateau(monitor='val_loss', factor=0.4, patience=2, cooldown=1, verbose=1)\n",
    "callbacks_list = [checkpoint, LR]"
   ]
  },
  {
   "cell_type": "code",
   "execution_count": 14,
   "metadata": {},
   "outputs": [
    {
     "name": "stderr",
     "output_type": "stream",
     "text": [
      "/tmp/ipykernel_203/1400168905.py:11: UserWarning: `Model.fit_generator` is deprecated and will be removed in a future version. Please use `Model.fit`, which supports generators.\n",
      "  history = modelConv3D_4.fit_generator(train_generator, steps_per_epoch=steps_per_epoch, epochs=num_epochs, verbose=1,\n"
     ]
    },
    {
     "name": "stdout",
     "output_type": "stream",
     "text": [
      "Source path =  /datasets/Project_data/train ; batch size = 50\n",
      "Epoch 1/30\n"
     ]
    },
    {
     "name": "stderr",
     "output_type": "stream",
     "text": [
      "2024-11-04 19:34:13.881966: I tensorflow/stream_executor/cuda/cuda_dnn.cc:377] Loaded cuDNN version 8302\n"
     ]
    },
    {
     "name": "stdout",
     "output_type": "stream",
     "text": [
      "14/14 [==============================] - ETA: 0s - loss: 1.8496 - categorical_accuracy: 0.2127Source path =  /datasets/Project_data/val ; batch size = 50\n",
      "\n",
      "Epoch 00001: saving model to model_init_2024-11-0419_33_59.975283/model-00001-1.84961-0.21267-1.60643-0.19000.h5\n",
      "14/14 [==============================] - 29s 2s/step - loss: 1.8496 - categorical_accuracy: 0.2127 - val_loss: 1.6064 - val_categorical_accuracy: 0.1900 - lr: 0.0010\n",
      "Epoch 2/30\n",
      "14/14 [==============================] - ETA: 0s - loss: 1.5763 - categorical_accuracy: 0.2519\n",
      "Epoch 00002: saving model to model_init_2024-11-0419_33_59.975283/model-00002-1.57634-0.25189-1.60560-0.30000.h5\n",
      "14/14 [==============================] - 27s 2s/step - loss: 1.5763 - categorical_accuracy: 0.2519 - val_loss: 1.6056 - val_categorical_accuracy: 0.3000 - lr: 0.0010\n",
      "Epoch 3/30\n",
      "14/14 [==============================] - ETA: 0s - loss: 1.5277 - categorical_accuracy: 0.2971\n",
      "Epoch 00003: saving model to model_init_2024-11-0419_33_59.975283/model-00003-1.52765-0.29713-1.60531-0.25000.h5\n",
      "14/14 [==============================] - 26s 2s/step - loss: 1.5277 - categorical_accuracy: 0.2971 - val_loss: 1.6053 - val_categorical_accuracy: 0.2500 - lr: 0.0010\n",
      "Epoch 4/30\n",
      "14/14 [==============================] - ETA: 0s - loss: 1.4906 - categorical_accuracy: 0.3484\n",
      "Epoch 00004: saving model to model_init_2024-11-0419_33_59.975283/model-00004-1.49063-0.34842-1.61333-0.22000.h5\n",
      "14/14 [==============================] - 27s 2s/step - loss: 1.4906 - categorical_accuracy: 0.3484 - val_loss: 1.6133 - val_categorical_accuracy: 0.2200 - lr: 0.0010\n",
      "Epoch 5/30\n",
      "14/14 [==============================] - ETA: 0s - loss: 1.4828 - categorical_accuracy: 0.3756\n",
      "Epoch 00005: saving model to model_init_2024-11-0419_33_59.975283/model-00005-1.48277-0.37557-1.60875-0.22000.h5\n",
      "\n",
      "Epoch 00005: ReduceLROnPlateau reducing learning rate to 0.0004000000189989805.\n",
      "14/14 [==============================] - 27s 2s/step - loss: 1.4828 - categorical_accuracy: 0.3756 - val_loss: 1.6088 - val_categorical_accuracy: 0.2200 - lr: 0.0010\n",
      "Epoch 6/30\n",
      "14/14 [==============================] - ETA: 0s - loss: 1.4304 - categorical_accuracy: 0.3725\n",
      "Epoch 00006: saving model to model_init_2024-11-0419_33_59.975283/model-00006-1.43038-0.37255-1.61379-0.24000.h5\n",
      "14/14 [==============================] - 26s 2s/step - loss: 1.4304 - categorical_accuracy: 0.3725 - val_loss: 1.6138 - val_categorical_accuracy: 0.2400 - lr: 4.0000e-04\n",
      "Epoch 7/30\n",
      "14/14 [==============================] - ETA: 0s - loss: 1.3971 - categorical_accuracy: 0.3922\n",
      "Epoch 00007: saving model to model_init_2024-11-0419_33_59.975283/model-00007-1.39709-0.39216-1.60942-0.24000.h5\n",
      "\n",
      "Epoch 00007: ReduceLROnPlateau reducing learning rate to 0.00016000000759959222.\n",
      "14/14 [==============================] - 26s 2s/step - loss: 1.3971 - categorical_accuracy: 0.3922 - val_loss: 1.6094 - val_categorical_accuracy: 0.2400 - lr: 4.0000e-04\n",
      "Epoch 8/30\n",
      "14/14 [==============================] - ETA: 0s - loss: 1.3757 - categorical_accuracy: 0.4193\n",
      "Epoch 00008: saving model to model_init_2024-11-0419_33_59.975283/model-00008-1.37575-0.41931-1.61494-0.27000.h5\n",
      "14/14 [==============================] - 27s 2s/step - loss: 1.3757 - categorical_accuracy: 0.4193 - val_loss: 1.6149 - val_categorical_accuracy: 0.2700 - lr: 1.6000e-04\n",
      "Epoch 9/30\n",
      "14/14 [==============================] - ETA: 0s - loss: 1.3750 - categorical_accuracy: 0.4163\n",
      "Epoch 00009: saving model to model_init_2024-11-0419_33_59.975283/model-00009-1.37498-0.41629-1.59496-0.24000.h5\n",
      "14/14 [==============================] - 26s 2s/step - loss: 1.3750 - categorical_accuracy: 0.4163 - val_loss: 1.5950 - val_categorical_accuracy: 0.2400 - lr: 1.6000e-04\n",
      "Epoch 10/30\n",
      "14/14 [==============================] - ETA: 0s - loss: 1.3506 - categorical_accuracy: 0.4103\n",
      "Epoch 00010: saving model to model_init_2024-11-0419_33_59.975283/model-00010-1.35059-0.41026-1.57905-0.23000.h5\n",
      "14/14 [==============================] - 26s 2s/step - loss: 1.3506 - categorical_accuracy: 0.4103 - val_loss: 1.5791 - val_categorical_accuracy: 0.2300 - lr: 1.6000e-04\n",
      "Epoch 11/30\n",
      "14/14 [==============================] - ETA: 0s - loss: 1.3566 - categorical_accuracy: 0.4495\n",
      "Epoch 00011: saving model to model_init_2024-11-0419_33_59.975283/model-00011-1.35659-0.44947-1.57336-0.22000.h5\n",
      "14/14 [==============================] - 27s 2s/step - loss: 1.3566 - categorical_accuracy: 0.4495 - val_loss: 1.5734 - val_categorical_accuracy: 0.2200 - lr: 1.6000e-04\n",
      "Epoch 12/30\n",
      "14/14 [==============================] - ETA: 0s - loss: 1.3150 - categorical_accuracy: 0.4495\n",
      "Epoch 00012: saving model to model_init_2024-11-0419_33_59.975283/model-00012-1.31497-0.44947-1.52794-0.26000.h5\n",
      "14/14 [==============================] - 26s 2s/step - loss: 1.3150 - categorical_accuracy: 0.4495 - val_loss: 1.5279 - val_categorical_accuracy: 0.2600 - lr: 1.6000e-04\n",
      "Epoch 13/30\n",
      "14/14 [==============================] - ETA: 0s - loss: 1.3067 - categorical_accuracy: 0.4570\n",
      "Epoch 00013: saving model to model_init_2024-11-0419_33_59.975283/model-00013-1.30667-0.45701-1.56865-0.23000.h5\n",
      "14/14 [==============================] - 27s 2s/step - loss: 1.3067 - categorical_accuracy: 0.4570 - val_loss: 1.5687 - val_categorical_accuracy: 0.2300 - lr: 1.6000e-04\n",
      "Epoch 14/30\n",
      "14/14 [==============================] - ETA: 0s - loss: 1.3273 - categorical_accuracy: 0.4329\n",
      "Epoch 00014: saving model to model_init_2024-11-0419_33_59.975283/model-00014-1.32728-0.43288-1.52575-0.30000.h5\n",
      "14/14 [==============================] - 26s 2s/step - loss: 1.3273 - categorical_accuracy: 0.4329 - val_loss: 1.5257 - val_categorical_accuracy: 0.3000 - lr: 1.6000e-04\n",
      "Epoch 15/30\n",
      "14/14 [==============================] - ETA: 0s - loss: 1.3051 - categorical_accuracy: 0.4480\n",
      "Epoch 00015: saving model to model_init_2024-11-0419_33_59.975283/model-00015-1.30508-0.44796-1.52276-0.31000.h5\n",
      "14/14 [==============================] - 26s 2s/step - loss: 1.3051 - categorical_accuracy: 0.4480 - val_loss: 1.5228 - val_categorical_accuracy: 0.3100 - lr: 1.6000e-04\n",
      "Epoch 16/30\n",
      "14/14 [==============================] - ETA: 0s - loss: 1.2731 - categorical_accuracy: 0.4676\n",
      "Epoch 00016: saving model to model_init_2024-11-0419_33_59.975283/model-00016-1.27315-0.46757-1.52362-0.23000.h5\n",
      "14/14 [==============================] - 26s 2s/step - loss: 1.2731 - categorical_accuracy: 0.4676 - val_loss: 1.5236 - val_categorical_accuracy: 0.2300 - lr: 1.6000e-04\n",
      "Epoch 17/30\n",
      "14/14 [==============================] - ETA: 0s - loss: 1.2777 - categorical_accuracy: 0.4540\n",
      "Epoch 00017: saving model to model_init_2024-11-0419_33_59.975283/model-00017-1.27771-0.45400-1.50782-0.31000.h5\n",
      "14/14 [==============================] - 27s 2s/step - loss: 1.2777 - categorical_accuracy: 0.4540 - val_loss: 1.5078 - val_categorical_accuracy: 0.3100 - lr: 1.6000e-04\n",
      "Epoch 18/30\n",
      "14/14 [==============================] - ETA: 0s - loss: 1.2710 - categorical_accuracy: 0.4615\n",
      "Epoch 00018: saving model to model_init_2024-11-0419_33_59.975283/model-00018-1.27104-0.46154-1.44393-0.32000.h5\n",
      "14/14 [==============================] - 27s 2s/step - loss: 1.2710 - categorical_accuracy: 0.4615 - val_loss: 1.4439 - val_categorical_accuracy: 0.3200 - lr: 1.6000e-04\n",
      "Epoch 19/30\n",
      "14/14 [==============================] - ETA: 0s - loss: 1.2654 - categorical_accuracy: 0.4615\n",
      "Epoch 00019: saving model to model_init_2024-11-0419_33_59.975283/model-00019-1.26537-0.46154-1.51543-0.30000.h5\n",
      "14/14 [==============================] - 27s 2s/step - loss: 1.2654 - categorical_accuracy: 0.4615 - val_loss: 1.5154 - val_categorical_accuracy: 0.3000 - lr: 1.6000e-04\n",
      "Epoch 20/30\n",
      "14/14 [==============================] - ETA: 0s - loss: 1.2534 - categorical_accuracy: 0.4570\n",
      "Epoch 00020: saving model to model_init_2024-11-0419_33_59.975283/model-00020-1.25340-0.45701-1.46735-0.33000.h5\n",
      "\n",
      "Epoch 00020: ReduceLROnPlateau reducing learning rate to 6.40000042039901e-05.\n",
      "14/14 [==============================] - 27s 2s/step - loss: 1.2534 - categorical_accuracy: 0.4570 - val_loss: 1.4674 - val_categorical_accuracy: 0.3300 - lr: 1.6000e-04\n",
      "Epoch 21/30\n",
      "14/14 [==============================] - ETA: 0s - loss: 1.2363 - categorical_accuracy: 0.4902\n",
      "Epoch 00021: saving model to model_init_2024-11-0419_33_59.975283/model-00021-1.23633-0.49020-1.48224-0.33000.h5\n",
      "14/14 [==============================] - 27s 2s/step - loss: 1.2363 - categorical_accuracy: 0.4902 - val_loss: 1.4822 - val_categorical_accuracy: 0.3300 - lr: 6.4000e-05\n",
      "Epoch 22/30\n",
      "14/14 [==============================] - ETA: 0s - loss: 1.2003 - categorical_accuracy: 0.5204\n",
      "Epoch 00022: saving model to model_init_2024-11-0419_33_59.975283/model-00022-1.20025-0.52036-1.47336-0.37000.h5\n",
      "\n",
      "Epoch 00022: ReduceLROnPlateau reducing learning rate to 2.560000284574926e-05.\n",
      "14/14 [==============================] - 27s 2s/step - loss: 1.2003 - categorical_accuracy: 0.5204 - val_loss: 1.4734 - val_categorical_accuracy: 0.3700 - lr: 6.4000e-05\n",
      "Epoch 23/30\n",
      "14/14 [==============================] - ETA: 0s - loss: 1.1885 - categorical_accuracy: 0.5234\n",
      "Epoch 00023: saving model to model_init_2024-11-0419_33_59.975283/model-00023-1.18854-0.52338-1.45128-0.37000.h5\n",
      "14/14 [==============================] - 27s 2s/step - loss: 1.1885 - categorical_accuracy: 0.5234 - val_loss: 1.4513 - val_categorical_accuracy: 0.3700 - lr: 2.5600e-05\n",
      "Epoch 24/30\n",
      "14/14 [==============================] - ETA: 0s - loss: 1.2074 - categorical_accuracy: 0.4917\n",
      "Epoch 00024: saving model to model_init_2024-11-0419_33_59.975283/model-00024-1.20744-0.49170-1.50020-0.32000.h5\n",
      "\n",
      "Epoch 00024: ReduceLROnPlateau reducing learning rate to 1.0240000847261399e-05.\n",
      "14/14 [==============================] - 26s 2s/step - loss: 1.2074 - categorical_accuracy: 0.4917 - val_loss: 1.5002 - val_categorical_accuracy: 0.3200 - lr: 2.5600e-05\n",
      "Epoch 25/30\n",
      "14/14 [==============================] - ETA: 0s - loss: 1.1859 - categorical_accuracy: 0.5264\n",
      "Epoch 00025: saving model to model_init_2024-11-0419_33_59.975283/model-00025-1.18590-0.52640-1.44324-0.40000.h5\n",
      "14/14 [==============================] - 26s 2s/step - loss: 1.1859 - categorical_accuracy: 0.5264 - val_loss: 1.4432 - val_categorical_accuracy: 0.4000 - lr: 1.0240e-05\n",
      "Epoch 26/30\n",
      "14/14 [==============================] - ETA: 0s - loss: 1.2076 - categorical_accuracy: 0.5023\n",
      "Epoch 00026: saving model to model_init_2024-11-0419_33_59.975283/model-00026-1.20756-0.50226-1.49159-0.36000.h5\n",
      "14/14 [==============================] - 27s 2s/step - loss: 1.2076 - categorical_accuracy: 0.5023 - val_loss: 1.4916 - val_categorical_accuracy: 0.3600 - lr: 1.0240e-05\n",
      "Epoch 27/30\n",
      "14/14 [==============================] - ETA: 0s - loss: 1.1970 - categorical_accuracy: 0.5189\n",
      "Epoch 00027: saving model to model_init_2024-11-0419_33_59.975283/model-00027-1.19699-0.51885-1.43622-0.40000.h5\n",
      "14/14 [==============================] - 26s 2s/step - loss: 1.1970 - categorical_accuracy: 0.5189 - val_loss: 1.4362 - val_categorical_accuracy: 0.4000 - lr: 1.0240e-05\n",
      "Epoch 28/30\n",
      "14/14 [==============================] - ETA: 0s - loss: 1.2246 - categorical_accuracy: 0.4872\n",
      "Epoch 00028: saving model to model_init_2024-11-0419_33_59.975283/model-00028-1.22456-0.48718-1.41976-0.40000.h5\n",
      "14/14 [==============================] - 26s 2s/step - loss: 1.2246 - categorical_accuracy: 0.4872 - val_loss: 1.4198 - val_categorical_accuracy: 0.4000 - lr: 1.0240e-05\n",
      "Epoch 29/30\n",
      "14/14 [==============================] - ETA: 0s - loss: 1.1875 - categorical_accuracy: 0.5143\n",
      "Epoch 00029: saving model to model_init_2024-11-0419_33_59.975283/model-00029-1.18748-0.51433-1.42567-0.38000.h5\n",
      "14/14 [==============================] - 26s 2s/step - loss: 1.1875 - categorical_accuracy: 0.5143 - val_loss: 1.4257 - val_categorical_accuracy: 0.3800 - lr: 1.0240e-05\n",
      "Epoch 30/30\n",
      "14/14 [==============================] - ETA: 0s - loss: 1.2127 - categorical_accuracy: 0.5128\n",
      "Epoch 00030: saving model to model_init_2024-11-0419_33_59.975283/model-00030-1.21267-0.51282-1.42958-0.36000.h5\n",
      "\n",
      "Epoch 00030: ReduceLROnPlateau reducing learning rate to 4.09600033890456e-06.\n",
      "14/14 [==============================] - 26s 2s/step - loss: 1.2127 - categorical_accuracy: 0.5128 - val_loss: 1.4296 - val_categorical_accuracy: 0.3600 - lr: 1.0240e-05\n"
     ]
    }
   ],
   "source": [
    "if (num_train_sequences%batch_size) == 0:\n",
    "    steps_per_epoch = int(num_train_sequences/batch_size)\n",
    "else:\n",
    "    steps_per_epoch = (num_train_sequences//batch_size) + 1\n",
    "\n",
    "if (num_val_sequences%batch_size) == 0:\n",
    "    validation_steps = int(num_val_sequences/batch_size)\n",
    "else:\n",
    "    validation_steps = (num_val_sequences//batch_size) + 1\n",
    "    \n",
    "history = modelConv3D_4.fit_generator(train_generator, steps_per_epoch=steps_per_epoch, epochs=num_epochs, verbose=1, \n",
    "                    callbacks=callbacks_list, validation_data=val_generator, \n",
    "                    validation_steps=validation_steps, class_weight=None, workers=1, initial_epoch=0)"
   ]
  },
  {
   "cell_type": "code",
   "execution_count": 15,
   "metadata": {},
   "outputs": [
    {
     "data": {
      "image/png": "[encoded data removed]",
      "text/plain": [
       "<Figure size 432x288 with 1 Axes>"
      ]
     },
     "metadata": {
      "needs_background": "light"
     },
     "output_type": "display_data"
    },
    {
     "data": {
      "image/png": "[encoded data removed]",
      "text/plain": [
       "<Figure size 432x288 with 1 Axes>"
      ]
     },
     "metadata": {
      "needs_background": "light"
     },
     "output_type": "display_data"
    }
   ],
   "source": [
    "# Plotting the result of Model 4 :\n",
    "\n",
    "# summarize history for accuracy\n",
    "plt.plot(history.history['categorical_accuracy'])\n",
    "plt.plot(history.history['val_categorical_accuracy'])\n",
    "plt.title('model accuracy')\n",
    "plt.ylabel('accuracy')\n",
    "plt.xlabel('epoch')\n",
    "plt.legend(['train', 'test'], loc='upper left')\n",
    "plt.show()\n",
    "\n",
    "# summarize history for loss\n",
    "plt.plot(history.history['loss'])\n",
    "plt.plot(history.history['val_loss'])\n",
    "plt.title('model loss')\n",
    "plt.ylabel('loss')\n",
    "plt.xlabel('epoch')\n",
    "plt.legend(['train', 'test'], loc='upper left')\n",
    "plt.show()"
   ]
  },
  {
   "cell_type": "markdown",
   "metadata": {},
   "source": [
    "### Train accuracy 51.28% and  validation accuracy of 36 %."
   ]
  },
  {
   "cell_type": "markdown",
   "metadata": {},
   "source": [
    "# Model 5.\n",
    "## Conv 3D model\n",
    "## batch size 30\n",
    "## increased image inputs to 30 \n",
    "## image size recuced to 84"
   ]
  },
  {
   "cell_type": "code",
   "execution_count": 16,
   "metadata": {},
   "outputs": [],
   "source": [
    "batch_size = 30"
   ]
  },
  {
   "cell_type": "code",
   "execution_count": 17,
   "metadata": {},
   "outputs": [],
   "source": [
    "def generator(source_path, folder_list, batch_size):\n",
    "    print( 'Source path = ', source_path, '; batch size =', batch_size)\n",
    "    \n",
    "    #create a list of image numbers you want to use for a particular video\n",
    "    img_idx = [x for x in range(0, 30)] \n",
    "    #list(range(0,29,2))\n",
    "    \n",
    "    while True:\n",
    "        t = np.random.permutation(folder_list)\n",
    "        \n",
    "# calculate the number of batches\n",
    "        num_batches = int(len(t)/batch_size)\n",
    "        \n",
    "# we iterate over the number of batches\n",
    "        for batch in range(num_batches): \n",
    "            \n",
    "# x is the number of images you use for each video, (y,z) is the final size of the input images and 3 is the number of channels RGB          \n",
    "            batch_data = np.zeros((batch_size,30,84,84,3))\n",
    "# batch_labels is the one hot representation of the output\n",
    "            batch_labels = np.zeros((batch_size,5))\n",
    "\n",
    "# iterate over the batch_size    \n",
    "            for folder in range(batch_size): \n",
    "# read all the images in the folder        \n",
    "                imgs = os.listdir(source_path+'/'+ t[folder + (batch*batch_size)].split(';')[0]) \n",
    "#  Iterate over the frames/images of a folder to read them in    \n",
    "                for idx,item in enumerate(img_idx):\n",
    "                    image = cv2.imread(source_path+'/'+ t[folder + (batch*batch_size)].strip().split(';')[0]+'/'+imgs[item],cv2.IMREAD_UNCHANGED).astype(np.float32)\n",
    "                    \n",
    "#crop the images and resize them. Note that the images are of 2 different shape \n",
    "#and the conv3D will throw error if the inputs in a batch have different shapes\n",
    "                    if image.shape[1] == 160:\n",
    "                        image = cv2.resize(image[:,20:140,:],(84,84),interpolation = cv2.INTER_AREA).astype(np.float32)\n",
    "                    else:\n",
    "                        image = cv2.resize(image,(84,84),interpolation = cv2.INTER_AREA).astype(np.float32)\n",
    "                                \n",
    "#normalise and feed in the image\n",
    "\n",
    "                    batch_data[folder,idx,:,:,0] = (image[:,:,0])/255\n",
    "                    batch_data[folder,idx,:,:,1] = (image[:,:,1])/255\n",
    "                    batch_data[folder,idx,:,:,2] = (image[:,:,2])/255\n",
    "                    \n",
    "                batch_labels[folder, int(t[folder + (batch*batch_size)].strip().split(';')[2])] = 1\n",
    "#you yield the batch_data and the batch_labels, remember what does yield do                \n",
    "            yield batch_data, batch_labels \n",
    "\n",
    "        \n",
    "# write the code for the remaining data points which are left after full batches\n",
    "        if (len(t)%batch_size) != 0:\n",
    "            batch_data = np.zeros((len(t)%batch_size,30,84,84,3))\n",
    "            batch_labels = np.zeros((len(t)%batch_size,5))\n",
    "            for folder in range(len(t)%batch_size):\n",
    "                imgs = os.listdir(source_path+'/'+ t[folder + (num_batches*batch_size)].split(';')[0])\n",
    "                for idx,item in enumerate(img_idx):\n",
    "                    image = cv2.imread(source_path+'/'+ t[folder + (num_batches*batch_size)].strip().split(';')[0]+'/'+imgs[item],cv2.IMREAD_UNCHANGED).astype(np.float32)\n",
    "                    if image.shape[1] == 160:\n",
    "                        image = cv2.resize(image[:,20:140,:],(84,84),interpolation = cv2.INTER_AREA).astype(np.float32)\n",
    "                    else:\n",
    "                        image = cv2.resize(image,(84,84),interpolation = cv2.INTER_AREA).astype(np.float32)\n",
    "\n",
    "                    batch_data[folder,idx,:,:,0] = (image[:,:,0])/255\n",
    "                    batch_data[folder,idx,:,:,1] = (image[:,:,1])/255\n",
    "                    batch_data[folder,idx,:,:,2] = (image[:,:,2])/255\n",
    "\n",
    "                batch_labels[folder, int(t[folder + (num_batches*batch_size)].strip().split(';')[2])] = 1\n",
    "\n",
    "            yield batch_data, batch_labels"
   ]
  },
  {
   "cell_type": "code",
   "execution_count": 18,
   "metadata": {},
   "outputs": [
    {
     "name": "stdout",
     "output_type": "stream",
     "text": [
      "# training sequences = 663\n",
      "# validation sequences = 100\n",
      "# epochs = 30\n"
     ]
    }
   ],
   "source": [
    "curr_dt_time = datetime.datetime.now()\n",
    "train_path = '/datasets/Project_data/train'\n",
    "val_path = '/datasets/Project_data/val'\n",
    "num_train_sequences = len(train_doc)\n",
    "print('# training sequences =', num_train_sequences)\n",
    "num_val_sequences = len(val_doc)\n",
    "print('# validation sequences =', num_val_sequences)\n",
    "# choose the number of epochs\n",
    "num_epochs = 30\n",
    "print ('# epochs =', num_epochs)"
   ]
  },
  {
   "cell_type": "code",
   "execution_count": 19,
   "metadata": {},
   "outputs": [
    {
     "name": "stdout",
     "output_type": "stream",
     "text": [
      "Model: \"sequential_1\"\n",
      "_________________________________________________________________\n",
      " Layer (type)                Output Shape              Param #   \n",
      "=================================================================\n",
      " conv3d_4 (Conv3D)           (None, 30, 84, 84, 8)     656       \n",
      "                                                                 \n",
      " activation_4 (Activation)   (None, 30, 84, 84, 8)     0         \n",
      "                                                                 \n",
      " batch_normalization_3 (Batc  (None, 30, 84, 84, 8)    32        \n",
      " hNormalization)                                                 \n",
      "                                                                 \n",
      " max_pooling3d_4 (MaxPooling  (None, 15, 42, 42, 8)    0         \n",
      " 3D)                                                             \n",
      "                                                                 \n",
      " conv3d_5 (Conv3D)           (None, 15, 42, 42, 16)    3472      \n",
      "                                                                 \n",
      " activation_5 (Activation)   (None, 15, 42, 42, 16)    0         \n",
      "                                                                 \n",
      " batch_normalization_4 (Batc  (None, 15, 42, 42, 16)   64        \n",
      " hNormalization)                                                 \n",
      "                                                                 \n",
      " max_pooling3d_5 (MaxPooling  (None, 7, 21, 21, 16)    0         \n",
      " 3D)                                                             \n",
      "                                                                 \n",
      " conv3d_6 (Conv3D)           (None, 7, 21, 21, 32)     13856     \n",
      "                                                                 \n",
      " batch_normalization_5 (Batc  (None, 7, 21, 21, 32)    128       \n",
      " hNormalization)                                                 \n",
      "                                                                 \n",
      " activation_6 (Activation)   (None, 7, 21, 21, 32)     0         \n",
      "                                                                 \n",
      " max_pooling3d_6 (MaxPooling  (None, 3, 10, 10, 32)    0         \n",
      " 3D)                                                             \n",
      "                                                                 \n",
      " conv3d_7 (Conv3D)           (None, 3, 10, 10, 64)     55360     \n",
      "                                                                 \n",
      " activation_7 (Activation)   (None, 3, 10, 10, 64)     0         \n",
      "                                                                 \n",
      " batch_normalization_6 (Batc  (None, 3, 10, 10, 64)    256       \n",
      " hNormalization)                                                 \n",
      "                                                                 \n",
      " max_pooling3d_7 (MaxPooling  (None, 1, 5, 5, 64)      0         \n",
      " 3D)                                                             \n",
      "                                                                 \n",
      " flatten_1 (Flatten)         (None, 1600)              0         \n",
      "                                                                 \n",
      " dense_3 (Dense)             (None, 64)                102464    \n",
      "                                                                 \n",
      " batch_normalization_7 (Batc  (None, 64)               256       \n",
      " hNormalization)                                                 \n",
      "                                                                 \n",
      " dropout_3 (Dropout)         (None, 64)                0         \n",
      "                                                                 \n",
      " dense_4 (Dense)             (None, 64)                4160      \n",
      "                                                                 \n",
      " batch_normalization_8 (Batc  (None, 64)               256       \n",
      " hNormalization)                                                 \n",
      "                                                                 \n",
      " dropout_4 (Dropout)         (None, 64)                0         \n",
      "                                                                 \n",
      " dense_5 (Dense)             (None, 5)                 325       \n",
      "                                                                 \n",
      "=================================================================\n",
      "Total params: 181,285\n",
      "Trainable params: 180,789\n",
      "Non-trainable params: 496\n",
      "_________________________________________________________________\n",
      "None\n"
     ]
    },
    {
     "name": "stderr",
     "output_type": "stream",
     "text": [
      "/usr/local/lib/python3.8/dist-packages/keras/optimizer_v2/adam.py:105: UserWarning: The `lr` argument is deprecated, use `learning_rate` instead.\n",
      "  super(Adam, self).__init__(name, **kwargs)\n"
     ]
    }
   ],
   "source": [
    "#write your model here\n",
    "\n",
    "modelConv3D_5 = Sequential()\n",
    "\n",
    "modelConv3D_5.add(Conv3D(8, (3,3,3), padding='same', input_shape=(30,84,84,3)))\n",
    "modelConv3D_5.add(Activation('relu'))\n",
    "modelConv3D_5.add(BatchNormalization())\n",
    "modelConv3D_5.add(MaxPooling3D(pool_size=(2,2,2)))\n",
    "\n",
    "#modelConv3D_5.add(Dropout(0.25))\n",
    "\n",
    "modelConv3D_5.add(Conv3D(16, (3,3,3), padding='same'))\n",
    "modelConv3D_5.add(Activation('relu'))\n",
    "modelConv3D_5.add(BatchNormalization())\n",
    "modelConv3D_5.add(MaxPooling3D(pool_size=(2,2,2)))\n",
    "\n",
    "#modelConv3D_5.add(Dropout(0.25))\n",
    "\n",
    "modelConv3D_5.add(Conv3D(32, (3,3,3), padding='same'))\n",
    "modelConv3D_5.add(BatchNormalization())\n",
    "modelConv3D_5.add(Activation('relu'))\n",
    "modelConv3D_5.add(MaxPooling3D(pool_size=(2,2,2)))\n",
    "\n",
    "#modelConv3D_5.add(Dropout(0.25))\n",
    "\n",
    "modelConv3D_5.add(Conv3D(64, (3,3,3), padding='same'))\n",
    "modelConv3D_5.add(Activation('relu'))\n",
    "modelConv3D_5.add(BatchNormalization())\n",
    "modelConv3D_5.add(MaxPooling3D(pool_size=(2,2,2)))\n",
    "\n",
    "#modelConv3D_5.add(Dropout(0.25))\n",
    "\n",
    "modelConv3D_5.add(Flatten())\n",
    "modelConv3D_5.add(Dense(64, activation='relu'))\n",
    "modelConv3D_5.add(BatchNormalization())\n",
    "modelConv3D_5.add(Dropout(0.25))\n",
    "\n",
    "modelConv3D_5.add(Dense(64, activation='relu'))\n",
    "modelConv3D_5.add(BatchNormalization())\n",
    "modelConv3D_5.add(Dropout(0.25))\n",
    "\n",
    "modelConv3D_5.add(Dense(5, activation='softmax'))\n",
    "\n",
    "#write your optimizer\n",
    "optimiser = tf.keras.optimizers.Adam(lr=0.0002)\n",
    "\n",
    "\n",
    "# compile model :\n",
    "modelConv3D_5.compile(optimizer=optimiser, loss='categorical_crossentropy', metrics=['categorical_accuracy'])\n",
    "print (modelConv3D_5.summary())"
   ]
  },
  {
   "cell_type": "code",
   "execution_count": 20,
   "metadata": {},
   "outputs": [
    {
     "name": "stdout",
     "output_type": "stream",
     "text": [
      "Total Params in model: 181285\n"
     ]
    }
   ],
   "source": [
    "print(\"Total Params in model:\", modelConv3D_5.count_params())"
   ]
  },
  {
   "cell_type": "code",
   "execution_count": 21,
   "metadata": {},
   "outputs": [
    {
     "name": "stdout",
     "output_type": "stream",
     "text": [
      "WARNING:tensorflow:`period` argument is deprecated. Please use `save_freq` to specify the frequency in number of batches seen.\n"
     ]
    }
   ],
   "source": [
    "train_generator = generator(train_path, train_doc, batch_size)\n",
    "val_generator = generator(val_path, val_doc, batch_size)\n",
    "\n",
    "model_name = 'model_init' + '_' + str(curr_dt_time).replace(' ','').replace(':','_') + '/'\n",
    "    \n",
    "if not os.path.exists(model_name):\n",
    "    os.mkdir(model_name)\n",
    "        \n",
    "filepath = model_name + 'model-{epoch:05d}-{loss:.5f}-{categorical_accuracy:.5f}-{val_loss:.5f}-{val_categorical_accuracy:.5f}.h5'\n",
    "\n",
    "checkpoint = ModelCheckpoint(filepath, monitor='val_loss', verbose=1, save_best_only=False, save_weights_only=False, mode='auto', period=1)\n",
    "\n",
    "# write the REducelronplateau code here\n",
    "LR = ReduceLROnPlateau(monitor='val_loss', factor=0.2, patience=4)\n",
    "\n",
    "callbacks_list = [checkpoint, LR]\n",
    "\n",
    "if (num_train_sequences%batch_size) == 0:\n",
    "    steps_per_epoch = int(num_train_sequences/batch_size)\n",
    "else:\n",
    "    steps_per_epoch = (num_train_sequences//batch_size) + 1\n",
    "\n",
    "if (num_val_sequences%batch_size) == 0:\n",
    "    validation_steps = int(num_val_sequences/batch_size)\n",
    "else:\n",
    "    validation_steps = (num_val_sequences//batch_size) + 1"
   ]
  },
  {
   "cell_type": "code",
   "execution_count": 22,
   "metadata": {},
   "outputs": [
    {
     "name": "stderr",
     "output_type": "stream",
     "text": [
      "/tmp/ipykernel_203/1110807313.py:1: UserWarning: `Model.fit_generator` is deprecated and will be removed in a future version. Please use `Model.fit`, which supports generators.\n",
      "  history = modelConv3D_5.fit_generator(train_generator, steps_per_epoch=steps_per_epoch, epochs=num_epochs, verbose=1,\n"
     ]
    },
    {
     "name": "stdout",
     "output_type": "stream",
     "text": [
      "Source path =  /datasets/Project_data/train ; batch size = 30\n",
      "Epoch 1/30\n",
      "23/23 [==============================] - ETA: 0s - loss: 2.1389 - categorical_accuracy: 0.2609Source path =  /datasets/Project_data/val ; batch size = 30\n",
      "\n",
      "Epoch 00001: saving model to model_init_2024-11-0419_49_11.824328/model-00001-2.13887-0.26094-1.59623-0.27000.h5\n",
      "23/23 [==============================] - 50s 2s/step - loss: 2.1389 - categorical_accuracy: 0.2609 - val_loss: 1.5962 - val_categorical_accuracy: 0.2700 - lr: 2.0000e-04\n",
      "Epoch 2/30\n",
      "23/23 [==============================] - ETA: 0s - loss: 1.5434 - categorical_accuracy: 0.3967\n",
      "Epoch 00002: saving model to model_init_2024-11-0419_49_11.824328/model-00002-1.54336-0.39668-1.65241-0.21000.h5\n",
      "23/23 [==============================] - 49s 2s/step - loss: 1.5434 - categorical_accuracy: 0.3967 - val_loss: 1.6524 - val_categorical_accuracy: 0.2100 - lr: 2.0000e-04\n",
      "Epoch 3/30\n",
      "23/23 [==============================] - ETA: 0s - loss: 1.3809 - categorical_accuracy: 0.4811\n",
      "Epoch 00003: saving model to model_init_2024-11-0419_49_11.824328/model-00003-1.38094-0.48115-1.83487-0.22000.h5\n",
      "23/23 [==============================] - 47s 2s/step - loss: 1.3809 - categorical_accuracy: 0.4811 - val_loss: 1.8349 - val_categorical_accuracy: 0.2200 - lr: 2.0000e-04\n",
      "Epoch 4/30\n",
      "23/23 [==============================] - ETA: 0s - loss: 1.2672 - categorical_accuracy: 0.4676\n",
      "Epoch 00004: saving model to model_init_2024-11-0419_49_11.824328/model-00004-1.26716-0.46757-1.92300-0.28000.h5\n",
      "23/23 [==============================] - 46s 2s/step - loss: 1.2672 - categorical_accuracy: 0.4676 - val_loss: 1.9230 - val_categorical_accuracy: 0.2800 - lr: 2.0000e-04\n",
      "Epoch 5/30\n",
      "23/23 [==============================] - ETA: 0s - loss: 1.1845 - categorical_accuracy: 0.5596\n",
      "Epoch 00005: saving model to model_init_2024-11-0419_49_11.824328/model-00005-1.18446-0.55958-1.93457-0.27000.h5\n",
      "23/23 [==============================] - 48s 2s/step - loss: 1.1845 - categorical_accuracy: 0.5596 - val_loss: 1.9346 - val_categorical_accuracy: 0.2700 - lr: 2.0000e-04\n",
      "Epoch 6/30\n",
      "22/23 [===========================>..] - ETA: 1s - loss: 1.1767 - categorical_accuracy: 0.5576\n",
      "Epoch 00006: saving model to model_init_2024-11-0419_49_11.824328/model-00006-1.18006-0.55656-2.12469-0.27000.h5\n",
      "23/23 [==============================] - 48s 2s/step - loss: 1.1801 - categorical_accuracy: 0.5566 - val_loss: 2.1247 - val_categorical_accuracy: 0.2700 - lr: 4.0000e-05\n",
      "Epoch 7/30\n",
      "22/23 [===========================>..] - ETA: 1s - loss: 1.1521 - categorical_accuracy: 0.5485\n",
      "Epoch 00007: saving model to model_init_2024-11-0419_49_11.824328/model-00007-1.15139-0.54902-2.05881-0.28000.h5\n",
      "23/23 [==============================] - 48s 2s/step - loss: 1.1514 - categorical_accuracy: 0.5490 - val_loss: 2.0588 - val_categorical_accuracy: 0.2800 - lr: 4.0000e-05\n",
      "Epoch 8/30\n",
      "23/23 [==============================] - ETA: 0s - loss: 1.1520 - categorical_accuracy: 0.5520\n",
      "Epoch 00008: saving model to model_init_2024-11-0419_49_11.824328/model-00008-1.15202-0.55204-2.13744-0.27000.h5\n",
      "23/23 [==============================] - 46s 2s/step - loss: 1.1520 - categorical_accuracy: 0.5520 - val_loss: 2.1374 - val_categorical_accuracy: 0.2700 - lr: 4.0000e-05\n",
      "Epoch 9/30\n",
      "22/23 [===========================>..] - ETA: 1s - loss: 1.1394 - categorical_accuracy: 0.5742\n",
      "Epoch 00009: saving model to model_init_2024-11-0419_49_11.824328/model-00009-1.13987-0.57315-2.17371-0.29000.h5\n",
      "23/23 [==============================] - 47s 2s/step - loss: 1.1399 - categorical_accuracy: 0.5732 - val_loss: 2.1737 - val_categorical_accuracy: 0.2900 - lr: 4.0000e-05\n",
      "Epoch 10/30\n",
      "23/23 [==============================] - ETA: 0s - loss: 1.1221 - categorical_accuracy: 0.5354\n",
      "Epoch 00010: saving model to model_init_2024-11-0419_49_11.824328/model-00010-1.12212-0.53544-2.02493-0.35000.h5\n",
      "23/23 [==============================] - 47s 2s/step - loss: 1.1221 - categorical_accuracy: 0.5354 - val_loss: 2.0249 - val_categorical_accuracy: 0.3500 - lr: 8.0000e-06\n",
      "Epoch 11/30\n",
      "23/23 [==============================] - ETA: 0s - loss: 1.1092 - categorical_accuracy: 0.5837\n",
      "Epoch 00011: saving model to model_init_2024-11-0419_49_11.824328/model-00011-1.10917-0.58371-2.21910-0.31000.h5\n",
      "23/23 [==============================] - 47s 2s/step - loss: 1.1092 - categorical_accuracy: 0.5837 - val_loss: 2.2191 - val_categorical_accuracy: 0.3100 - lr: 8.0000e-06\n",
      "Epoch 12/30\n",
      "23/23 [==============================] - ETA: 0s - loss: 1.1012 - categorical_accuracy: 0.6003\n",
      "Epoch 00012: saving model to model_init_2024-11-0419_49_11.824328/model-00012-1.10124-0.60030-2.15264-0.30000.h5\n",
      "23/23 [==============================] - 46s 2s/step - loss: 1.1012 - categorical_accuracy: 0.6003 - val_loss: 2.1526 - val_categorical_accuracy: 0.3000 - lr: 8.0000e-06\n",
      "Epoch 13/30\n",
      "23/23 [==============================] - ETA: 0s - loss: 1.0586 - categorical_accuracy: 0.5777\n",
      "Epoch 00013: saving model to model_init_2024-11-0419_49_11.824328/model-00013-1.05860-0.57768-2.06183-0.33000.h5\n",
      "23/23 [==============================] - 46s 2s/step - loss: 1.0586 - categorical_accuracy: 0.5777 - val_loss: 2.0618 - val_categorical_accuracy: 0.3300 - lr: 8.0000e-06\n",
      "Epoch 14/30\n",
      "22/23 [===========================>..] - ETA: 1s - loss: 1.0741 - categorical_accuracy: 0.5939\n",
      "Epoch 00014: saving model to model_init_2024-11-0419_49_11.824328/model-00014-1.07595-0.59427-1.75766-0.43000.h5\n",
      "23/23 [==============================] - 47s 2s/step - loss: 1.0759 - categorical_accuracy: 0.5943 - val_loss: 1.7577 - val_categorical_accuracy: 0.4300 - lr: 1.6000e-06\n",
      "Epoch 15/30\n",
      "23/23 [==============================] - ETA: 0s - loss: 1.0729 - categorical_accuracy: 0.5807\n",
      "Epoch 00015: saving model to model_init_2024-11-0419_49_11.824328/model-00015-1.07289-0.58069-2.09927-0.29000.h5\n",
      "23/23 [==============================] - 47s 2s/step - loss: 1.0729 - categorical_accuracy: 0.5807 - val_loss: 2.0993 - val_categorical_accuracy: 0.2900 - lr: 1.6000e-06\n",
      "Epoch 16/30\n",
      "23/23 [==============================] - ETA: 0s - loss: 1.0979 - categorical_accuracy: 0.5777\n",
      "Epoch 00016: saving model to model_init_2024-11-0419_49_11.824328/model-00016-1.09794-0.57768-1.87081-0.37000.h5\n",
      "23/23 [==============================] - 61s 3s/step - loss: 1.0979 - categorical_accuracy: 0.5777 - val_loss: 1.8708 - val_categorical_accuracy: 0.3700 - lr: 1.6000e-06\n",
      "Epoch 17/30\n",
      "22/23 [===========================>..] - ETA: 2s - loss: 1.0996 - categorical_accuracy: 0.5636\n",
      "Epoch 00017: saving model to model_init_2024-11-0419_49_11.824328/model-00017-1.09754-0.56410-1.80091-0.37000.h5\n",
      "23/23 [==============================] - 61s 3s/step - loss: 1.0975 - categorical_accuracy: 0.5641 - val_loss: 1.8009 - val_categorical_accuracy: 0.3700 - lr: 1.6000e-06\n",
      "Epoch 18/30\n",
      "22/23 [===========================>..] - ETA: 1s - loss: 1.1032 - categorical_accuracy: 0.5530\n",
      "Epoch 00018: saving model to model_init_2024-11-0419_49_11.824328/model-00018-1.10701-0.55053-1.74608-0.37000.h5\n",
      "23/23 [==============================] - 47s 2s/step - loss: 1.1070 - categorical_accuracy: 0.5505 - val_loss: 1.7461 - val_categorical_accuracy: 0.3700 - lr: 3.2000e-07\n",
      "Epoch 19/30\n",
      "23/23 [==============================] - ETA: 0s - loss: 1.1321 - categorical_accuracy: 0.5656\n",
      "Epoch 00019: saving model to model_init_2024-11-0419_49_11.824328/model-00019-1.13209-0.56561-1.76693-0.34000.h5\n",
      "23/23 [==============================] - 46s 2s/step - loss: 1.1321 - categorical_accuracy: 0.5656 - val_loss: 1.7669 - val_categorical_accuracy: 0.3400 - lr: 3.2000e-07\n",
      "Epoch 20/30\n",
      "22/23 [===========================>..] - ETA: 1s - loss: 1.0382 - categorical_accuracy: 0.6227\n",
      "Epoch 00020: saving model to model_init_2024-11-0419_49_11.824328/model-00020-1.03471-0.62443-1.54088-0.44000.h5\n",
      "23/23 [==============================] - 45s 2s/step - loss: 1.0347 - categorical_accuracy: 0.6244 - val_loss: 1.5409 - val_categorical_accuracy: 0.4400 - lr: 3.2000e-07\n",
      "Epoch 21/30\n",
      "23/23 [==============================] - ETA: 0s - loss: 1.0558 - categorical_accuracy: 0.5913\n",
      "Epoch 00021: saving model to model_init_2024-11-0419_49_11.824328/model-00021-1.05584-0.59125-1.57193-0.41000.h5\n",
      "23/23 [==============================] - 46s 2s/step - loss: 1.0558 - categorical_accuracy: 0.5913 - val_loss: 1.5719 - val_categorical_accuracy: 0.4100 - lr: 3.2000e-07\n",
      "Epoch 22/30\n",
      "22/23 [===========================>..] - ETA: 1s - loss: 1.0987 - categorical_accuracy: 0.5818\n",
      "Epoch 00022: saving model to model_init_2024-11-0419_49_11.824328/model-00022-1.09725-0.58220-1.69890-0.39000.h5\n",
      "23/23 [==============================] - 47s 2s/step - loss: 1.0973 - categorical_accuracy: 0.5822 - val_loss: 1.6989 - val_categorical_accuracy: 0.3900 - lr: 3.2000e-07\n",
      "Epoch 23/30\n",
      "23/23 [==============================] - ETA: 0s - loss: 1.0878 - categorical_accuracy: 0.5792\n",
      "Epoch 00023: saving model to model_init_2024-11-0419_49_11.824328/model-00023-1.08783-0.57919-1.31122-0.53000.h5\n",
      "23/23 [==============================] - 47s 2s/step - loss: 1.0878 - categorical_accuracy: 0.5792 - val_loss: 1.3112 - val_categorical_accuracy: 0.5300 - lr: 3.2000e-07\n",
      "Epoch 24/30\n",
      "22/23 [===========================>..] - ETA: 1s - loss: 1.0874 - categorical_accuracy: 0.5773\n",
      "Epoch 00024: saving model to model_init_2024-11-0419_49_11.824328/model-00024-1.08607-0.57768-1.36110-0.48000.h5\n",
      "23/23 [==============================] - 45s 2s/step - loss: 1.0861 - categorical_accuracy: 0.5777 - val_loss: 1.3611 - val_categorical_accuracy: 0.4800 - lr: 3.2000e-07\n",
      "Epoch 25/30\n",
      "23/23 [==============================] - ETA: 0s - loss: 1.0459 - categorical_accuracy: 0.5837\n",
      "Epoch 00025: saving model to model_init_2024-11-0419_49_11.824328/model-00025-1.04591-0.58371-1.34310-0.51000.h5\n",
      "23/23 [==============================] - 47s 2s/step - loss: 1.0459 - categorical_accuracy: 0.5837 - val_loss: 1.3431 - val_categorical_accuracy: 0.5100 - lr: 3.2000e-07\n",
      "Epoch 26/30\n",
      "23/23 [==============================] - ETA: 0s - loss: 1.0293 - categorical_accuracy: 0.6063\n",
      "Epoch 00026: saving model to model_init_2024-11-0419_49_11.824328/model-00026-1.02931-0.60633-1.27947-0.55000.h5\n",
      "23/23 [==============================] - 46s 2s/step - loss: 1.0293 - categorical_accuracy: 0.6063 - val_loss: 1.2795 - val_categorical_accuracy: 0.5500 - lr: 3.2000e-07\n",
      "Epoch 27/30\n",
      "23/23 [==============================] - ETA: 0s - loss: 1.1101 - categorical_accuracy: 0.5671\n",
      "Epoch 00027: saving model to model_init_2024-11-0419_49_11.824328/model-00027-1.11014-0.56712-1.19717-0.59000.h5\n",
      "23/23 [==============================] - 46s 2s/step - loss: 1.1101 - categorical_accuracy: 0.5671 - val_loss: 1.1972 - val_categorical_accuracy: 0.5900 - lr: 3.2000e-07\n",
      "Epoch 28/30\n",
      "23/23 [==============================] - ETA: 0s - loss: 1.0626 - categorical_accuracy: 0.5747\n",
      "Epoch 00028: saving model to model_init_2024-11-0419_49_11.824328/model-00028-1.06260-0.57466-1.23244-0.55000.h5\n",
      "23/23 [==============================] - 45s 2s/step - loss: 1.0626 - categorical_accuracy: 0.5747 - val_loss: 1.2324 - val_categorical_accuracy: 0.5500 - lr: 3.2000e-07\n",
      "Epoch 29/30\n",
      "23/23 [==============================] - ETA: 0s - loss: 1.0199 - categorical_accuracy: 0.5973\n",
      "Epoch 00029: saving model to model_init_2024-11-0419_49_11.824328/model-00029-1.01988-0.59729-1.18371-0.56000.h5\n",
      "23/23 [==============================] - 47s 2s/step - loss: 1.0199 - categorical_accuracy: 0.5973 - val_loss: 1.1837 - val_categorical_accuracy: 0.5600 - lr: 3.2000e-07\n",
      "Epoch 30/30\n",
      "23/23 [==============================] - ETA: 0s - loss: 1.0221 - categorical_accuracy: 0.6033\n",
      "Epoch 00030: saving model to model_init_2024-11-0419_49_11.824328/model-00030-1.02210-0.60332-1.11100-0.63000.h5\n",
      "23/23 [==============================] - 47s 2s/step - loss: 1.0221 - categorical_accuracy: 0.6033 - val_loss: 1.1110 - val_categorical_accuracy: 0.6300 - lr: 3.2000e-07\n"
     ]
    }
   ],
   "source": [
    "history = modelConv3D_5.fit_generator(train_generator, steps_per_epoch=steps_per_epoch, epochs=num_epochs, verbose=1, \n",
    "                    callbacks=callbacks_list, validation_data=val_generator, \n",
    "                    validation_steps=validation_steps, class_weight=None, workers=1, initial_epoch=0)"
   ]
  },
  {
   "cell_type": "code",
   "execution_count": 23,
   "metadata": {},
   "outputs": [
    {
     "data": {
      "image/png": "[encoded data removed]",
      "text/plain": [
       "<Figure size 432x288 with 1 Axes>"
      ]
     },
     "metadata": {
      "needs_background": "light"
     },
     "output_type": "display_data"
    },
    {
     "data": {
      "image/png": "[encoded data removed]",
      "text/plain": [
       "<Figure size 432x288 with 1 Axes>"
      ]
     },
     "metadata": {
      "needs_background": "light"
     },
     "output_type": "display_data"
    }
   ],
   "source": [
    "# Plotting the result of Model 5 :\n",
    "\n",
    "# summarize history for accuracy\n",
    "plt.plot(history.history['categorical_accuracy'])\n",
    "plt.plot(history.history['val_categorical_accuracy'])\n",
    "plt.title('model accuracy')\n",
    "plt.ylabel('accuracy')\n",
    "plt.xlabel('epoch')\n",
    "plt.legend(['train', 'test'], loc='upper left')\n",
    "plt.show()\n",
    "\n",
    "# summarize history for loss\n",
    "plt.plot(history.history['loss'])\n",
    "plt.plot(history.history['val_loss'])\n",
    "plt.title('model loss')\n",
    "plt.ylabel('loss')\n",
    "plt.xlabel('epoch')\n",
    "plt.legend(['train', 'test'], loc='upper left')\n",
    "plt.show()"
   ]
  },
  {
   "cell_type": "markdown",
   "metadata": {},
   "source": [
    "### We have achieved the best train accuracy of 60.33 % and validation accuracy of 63 % by the convolutional model."
   ]
  },
  {
   "cell_type": "markdown",
   "metadata": {},
   "source": [
    "# Model 6.\n",
    "## CNN -LSTM Model"
   ]
  },
  {
   "cell_type": "code",
   "execution_count": 24,
   "metadata": {},
   "outputs": [],
   "source": [
    "# Input\n",
    "input_shape=(30,120,120,3)"
   ]
  },
  {
   "cell_type": "code",
   "execution_count": 25,
   "metadata": {},
   "outputs": [
    {
     "name": "stdout",
     "output_type": "stream",
     "text": [
      "Model: \"sequential_2\"\n",
      "_________________________________________________________________\n",
      " Layer (type)                Output Shape              Param #   \n",
      "=================================================================\n",
      " time_distributed (TimeDistr  (None, 30, 120, 120, 16)  448      \n",
      " ibuted)                                                         \n",
      "                                                                 \n",
      " time_distributed_1 (TimeDis  (None, 30, 120, 120, 16)  64       \n",
      " tributed)                                                       \n",
      "                                                                 \n",
      " time_distributed_2 (TimeDis  (None, 30, 60, 60, 16)   0         \n",
      " tributed)                                                       \n",
      "                                                                 \n",
      " time_distributed_3 (TimeDis  (None, 30, 60, 60, 32)   4640      \n",
      " tributed)                                                       \n",
      "                                                                 \n",
      " time_distributed_4 (TimeDis  (None, 30, 60, 60, 32)   128       \n",
      " tributed)                                                       \n",
      "                                                                 \n",
      " time_distributed_5 (TimeDis  (None, 30, 30, 30, 32)   0         \n",
      " tributed)                                                       \n",
      "                                                                 \n",
      " time_distributed_6 (TimeDis  (None, 30, 30, 30, 64)   18496     \n",
      " tributed)                                                       \n",
      "                                                                 \n",
      " time_distributed_7 (TimeDis  (None, 30, 30, 30, 64)   256       \n",
      " tributed)                                                       \n",
      "                                                                 \n",
      " time_distributed_8 (TimeDis  (None, 30, 15, 15, 64)   0         \n",
      " tributed)                                                       \n",
      "                                                                 \n",
      " time_distributed_9 (TimeDis  (None, 30, 15, 15, 128)  73856     \n",
      " tributed)                                                       \n",
      "                                                                 \n",
      " time_distributed_10 (TimeDi  (None, 30, 15, 15, 128)  512       \n",
      " stributed)                                                      \n",
      "                                                                 \n",
      " time_distributed_11 (TimeDi  (None, 30, 7, 7, 128)    0         \n",
      " stributed)                                                      \n",
      "                                                                 \n",
      " time_distributed_12 (TimeDi  (None, 30, 7, 7, 256)    295168    \n",
      " stributed)                                                      \n",
      "                                                                 \n",
      " time_distributed_13 (TimeDi  (None, 30, 7, 7, 256)    1024      \n",
      " stributed)                                                      \n",
      "                                                                 \n",
      " time_distributed_14 (TimeDi  (None, 30, 3, 3, 256)    0         \n",
      " stributed)                                                      \n",
      "                                                                 \n",
      " time_distributed_15 (TimeDi  (None, 30, 2304)         0         \n",
      " stributed)                                                      \n",
      "                                                                 \n",
      " lstm (LSTM)                 (None, 128)               1245696   \n",
      "                                                                 \n",
      " dropout_5 (Dropout)         (None, 128)               0         \n",
      "                                                                 \n",
      " dense_6 (Dense)             (None, 128)               16512     \n",
      "                                                                 \n",
      " dropout_6 (Dropout)         (None, 128)               0         \n",
      "                                                                 \n",
      " dense_7 (Dense)             (None, 5)                 645       \n",
      "                                                                 \n",
      "=================================================================\n",
      "Total params: 1,657,445\n",
      "Trainable params: 1,656,453\n",
      "Non-trainable params: 992\n",
      "_________________________________________________________________\n",
      "None\n"
     ]
    }
   ],
   "source": [
    "#write your model here\n",
    "CNNlstm_1 = Sequential()\n",
    "\n",
    "CNNlstm_1.add(TimeDistributed(Conv2D(16, (3, 3) , padding='same', activation='relu'),\n",
    "                          input_shape=input_shape))\n",
    "CNNlstm_1.add(TimeDistributed(BatchNormalization()))\n",
    "CNNlstm_1.add(TimeDistributed(MaxPooling2D((2, 2))))\n",
    "\n",
    "CNNlstm_1.add(TimeDistributed(Conv2D(32, (3, 3) , padding='same', activation='relu')))\n",
    "CNNlstm_1.add(TimeDistributed(BatchNormalization()))\n",
    "CNNlstm_1.add(TimeDistributed(MaxPooling2D((2, 2))))\n",
    "\n",
    "CNNlstm_1.add(TimeDistributed(Conv2D(64, (3, 3) , padding='same', activation='relu')))\n",
    "CNNlstm_1.add(TimeDistributed(BatchNormalization()))\n",
    "CNNlstm_1.add(TimeDistributed(MaxPooling2D((2, 2))))\n",
    "\n",
    "CNNlstm_1.add(TimeDistributed(Conv2D(128, (3, 3) , padding='same', activation='relu')))\n",
    "CNNlstm_1.add(TimeDistributed(BatchNormalization()))\n",
    "CNNlstm_1.add(TimeDistributed(MaxPooling2D((2, 2))))\n",
    "\n",
    "CNNlstm_1.add(TimeDistributed(Conv2D(256, (3, 3) , padding='same', activation='relu')))\n",
    "CNNlstm_1.add(TimeDistributed(BatchNormalization()))\n",
    "CNNlstm_1.add(TimeDistributed(MaxPooling2D((2, 2))))\n",
    "\n",
    "CNNlstm_1.add(TimeDistributed(Flatten()))\n",
    "\n",
    "\n",
    "CNNlstm_1.add(LSTM(128))\n",
    "CNNlstm_1.add(Dropout(0.25))\n",
    "\n",
    "CNNlstm_1.add(Dense(128,activation='relu'))\n",
    "CNNlstm_1.add(Dropout(0.25))\n",
    "\n",
    "CNNlstm_1.add(Dense(5, activation='softmax'))\n",
    "\n",
    "\n",
    "#write your optimizer\n",
    "optimiser = tf.keras.optimizers.Adam()\n",
    "\n",
    "# compile model :\n",
    "CNNlstm_1.compile(optimizer=optimiser, loss='categorical_crossentropy', metrics=['categorical_accuracy'])\n",
    "print (CNNlstm_1.summary())"
   ]
  },
  {
   "cell_type": "code",
   "execution_count": 26,
   "metadata": {},
   "outputs": [
    {
     "name": "stdout",
     "output_type": "stream",
     "text": [
      "# training sequences = 663\n",
      "# validation sequences = 100\n",
      "# epochs = 20\n",
      "# batch_size = 20\n"
     ]
    }
   ],
   "source": [
    "batch_size = 20\n",
    "curr_dt_time = datetime.datetime.now()\n",
    "train_path = '/datasets/Project_data/train'\n",
    "val_path = '/datasets/Project_data/val'\n",
    "num_train_sequences = len(train_doc)\n",
    "print('# training sequences =', num_train_sequences)\n",
    "num_val_sequences = len(val_doc)\n",
    "print('# validation sequences =', num_val_sequences)\n",
    "# choose the number of epochs\n",
    "num_epochs = 20\n",
    "print ('# epochs =', num_epochs)\n",
    "print ('# batch_size =', batch_size)"
   ]
  },
  {
   "cell_type": "code",
   "execution_count": 27,
   "metadata": {},
   "outputs": [],
   "source": [
    "def generatorLSTM(source_path, folder_list, batch_size):\n",
    "    print( 'Source path = ', source_path, '; batch size =', batch_size)\n",
    "    \n",
    "    #create a list of image numbers you want to use for a particular video\n",
    "    img_idx = [x for x in range(0, 30)]\n",
    "    #list(range(0,29,2))\n",
    "    \n",
    "    while True:\n",
    "        t = np.random.permutation(folder_list)\n",
    "        \n",
    "# calculate the number of batches\n",
    "        num_batches = int(len(t)/batch_size)\n",
    "        \n",
    "# we iterate over the number of batches\n",
    "        for batch in range(num_batches): \n",
    "            \n",
    "# x is the number of images you use for each video, (y,z) is the final size of the input images and 3 is the number of channels RGB          \n",
    "            batch_data = np.zeros((batch_size,30,120,120,3))\n",
    "# batch_labels is the one hot representation of the output\n",
    "            batch_labels = np.zeros((batch_size,5))\n",
    "\n",
    "# iterate over the batch_size    \n",
    "            for folder in range(batch_size): \n",
    "# read all the images in the folder        \n",
    "                imgs = os.listdir(source_path+'/'+ t[folder + (batch*batch_size)].split(';')[0]) \n",
    "#  Iterate over the frames/images of a folder to read them in    \n",
    "                for idx,item in enumerate(img_idx):\n",
    "                    image = cv2.imread(source_path+'/'+ t[folder + (batch*batch_size)].strip().split(';')[0]+'/'+imgs[item],cv2.IMREAD_UNCHANGED).astype(np.float32)\n",
    "                    \n",
    "#crop the images and resize them. Note that the images are of 2 different shape \n",
    "#and the conv3D will throw error if the inputs in a batch have different shapes\n",
    "                    if image.shape[1] == 160:\n",
    "                        image = cv2.resize(image[:,20:140,:],(120,120),interpolation = cv2.INTER_AREA).astype(np.float32)\n",
    "                    else:\n",
    "                        image = cv2.resize(image,(120,120),interpolation = cv2.INTER_AREA).astype(np.float32)\n",
    "                                \n",
    "#normalise and feed in the image\n",
    "\n",
    "                    batch_data[folder,idx,:,:,0] = (image[:,:,0])/255\n",
    "                    batch_data[folder,idx,:,:,1] = (image[:,:,1])/255\n",
    "                    batch_data[folder,idx,:,:,2] = (image[:,:,2])/255\n",
    "                    \n",
    "                batch_labels[folder, int(t[folder + (batch*batch_size)].strip().split(';')[2])] = 1\n",
    "#you yield the batch_data and the batch_labels, remember what does yield do                \n",
    "            yield batch_data, batch_labels \n",
    "\n",
    "        \n",
    "# write the code for the remaining data points which are left after full batches\n",
    "        if (len(t)%batch_size) != 0:\n",
    "            batch_data = np.zeros((len(t)%batch_size,30,120,120,3))\n",
    "            batch_labels = np.zeros((len(t)%batch_size,5))\n",
    "            for folder in range(len(t)%batch_size):\n",
    "                imgs = os.listdir(source_path+'/'+ t[folder + (num_batches*batch_size)].split(';')[0])\n",
    "                for idx,item in enumerate(img_idx):\n",
    "                    image = cv2.imread(source_path+'/'+ t[folder + (num_batches*batch_size)].strip().split(';')[0]+'/'+imgs[item],cv2.IMREAD_UNCHANGED).astype(np.float32)\n",
    "                    if image.shape[1] == 160:\n",
    "                        image = cv2.resize(image[:,20:140,:],(120,120),interpolation = cv2.INTER_AREA).astype(np.float32)\n",
    "                    else:\n",
    "                        image = cv2.resize(image,(120,120),interpolation = cv2.INTER_AREA).astype(np.float32)\n",
    "\n",
    "                    batch_data[folder,idx,:,:,0] = (image[:,:,0])/255\n",
    "                    batch_data[folder,idx,:,:,1] = (image[:,:,1])/255\n",
    "                    batch_data[folder,idx,:,:,2] = (image[:,:,2])/255\n",
    "\n",
    "                batch_labels[folder, int(t[folder + (num_batches*batch_size)].strip().split(';')[2])] = 1\n",
    "\n",
    "            yield batch_data, batch_labels"
   ]
  },
  {
   "cell_type": "code",
   "execution_count": 28,
   "metadata": {},
   "outputs": [
    {
     "name": "stdout",
     "output_type": "stream",
     "text": [
      "WARNING:tensorflow:`period` argument is deprecated. Please use `save_freq` to specify the frequency in number of batches seen.\n"
     ]
    }
   ],
   "source": [
    "train_generator = generatorLSTM(train_path, train_doc, batch_size)\n",
    "val_generator = generatorLSTM(val_path, val_doc, batch_size)\n",
    "\n",
    "model_name = 'model_init' + '_' + str(curr_dt_time).replace(' ','').replace(':','_') + '/'\n",
    "    \n",
    "if not os.path.exists(model_name):\n",
    "    os.mkdir(model_name)\n",
    "        \n",
    "filepath = model_name + 'model-{epoch:05d}-{loss:.5f}-{categorical_accuracy:.5f}-{val_loss:.5f}-{val_categorical_accuracy:.5f}.h5'\n",
    "\n",
    "checkpoint = ModelCheckpoint(filepath, monitor='val_loss', verbose=1, save_best_only=False, save_weights_only=False, mode='auto', period=1)\n",
    "\n",
    "# write the REducelronplateau code here\n",
    "LR = ReduceLROnPlateau(monitor='val_loss', factor=0.2, patience=4)\n",
    "\n",
    "callbacks_list = [checkpoint, LR]\n",
    "\n",
    "if (num_train_sequences%batch_size) == 0:\n",
    "    steps_per_epoch = int(num_train_sequences/batch_size)\n",
    "else:\n",
    "    steps_per_epoch = (num_train_sequences//batch_size) + 1\n",
    "\n",
    "if (num_val_sequences%batch_size) == 0:\n",
    "    validation_steps = int(num_val_sequences/batch_size)\n",
    "else:\n",
    "    validation_steps = (num_val_sequences//batch_size) + 1"
   ]
  },
  {
   "cell_type": "code",
   "execution_count": 29,
   "metadata": {},
   "outputs": [
    {
     "name": "stderr",
     "output_type": "stream",
     "text": [
      "/tmp/ipykernel_203/2841256302.py:1: UserWarning: `Model.fit_generator` is deprecated and will be removed in a future version. Please use `Model.fit`, which supports generators.\n",
      "  history = CNNlstm_1.fit_generator(train_generator, steps_per_epoch=steps_per_epoch, epochs=num_epochs, verbose=1,\n"
     ]
    },
    {
     "name": "stdout",
     "output_type": "stream",
     "text": [
      "Source path =  /datasets/Project_data/train ; batch size = 20\n",
      "Epoch 1/20\n",
      "34/34 [==============================] - ETA: 0s - loss: 1.4260 - categorical_accuracy: 0.3695Source path =  /datasets/Project_data/val ; batch size = 20\n",
      "\n",
      "Epoch 00001: saving model to model_init_2024-11-0420_14_23.601684/model-00001-1.42604-0.36953-1.74364-0.25000.h5\n",
      "34/34 [==============================] - 54s 2s/step - loss: 1.4260 - categorical_accuracy: 0.3695 - val_loss: 1.7436 - val_categorical_accuracy: 0.2500 - lr: 0.0010\n",
      "Epoch 2/20\n",
      "34/34 [==============================] - ETA: 0s - loss: 1.2223 - categorical_accuracy: 0.5083\n",
      "Epoch 00002: saving model to model_init_2024-11-0420_14_23.601684/model-00002-1.22226-0.50830-2.13075-0.16000.h5\n",
      "34/34 [==============================] - 49s 1s/step - loss: 1.2223 - categorical_accuracy: 0.5083 - val_loss: 2.1307 - val_categorical_accuracy: 0.1600 - lr: 0.0010\n",
      "Epoch 3/20\n",
      "34/34 [==============================] - ETA: 0s - loss: 1.1099 - categorical_accuracy: 0.5535\n",
      "Epoch 00003: saving model to model_init_2024-11-0420_14_23.601684/model-00003-1.10994-0.55354-1.96050-0.25000.h5\n",
      "34/34 [==============================] - 50s 2s/step - loss: 1.1099 - categorical_accuracy: 0.5535 - val_loss: 1.9605 - val_categorical_accuracy: 0.2500 - lr: 0.0010\n",
      "Epoch 4/20\n",
      "34/34 [==============================] - ETA: 0s - loss: 0.9671 - categorical_accuracy: 0.6048\n",
      "Epoch 00004: saving model to model_init_2024-11-0420_14_23.601684/model-00004-0.96707-0.60483-2.27749-0.21000.h5\n",
      "34/34 [==============================] - 49s 1s/step - loss: 0.9671 - categorical_accuracy: 0.6048 - val_loss: 2.2775 - val_categorical_accuracy: 0.2100 - lr: 0.0010\n",
      "Epoch 5/20\n",
      "34/34 [==============================] - ETA: 0s - loss: 0.9372 - categorical_accuracy: 0.6335\n",
      "Epoch 00005: saving model to model_init_2024-11-0420_14_23.601684/model-00005-0.93717-0.63348-2.23113-0.22000.h5\n",
      "34/34 [==============================] - 49s 1s/step - loss: 0.9372 - categorical_accuracy: 0.6335 - val_loss: 2.2311 - val_categorical_accuracy: 0.2200 - lr: 0.0010\n",
      "Epoch 6/20\n",
      "34/34 [==============================] - ETA: 0s - loss: 0.8647 - categorical_accuracy: 0.6561\n",
      "Epoch 00006: saving model to model_init_2024-11-0420_14_23.601684/model-00006-0.86468-0.65611-2.22867-0.27000.h5\n",
      "34/34 [==============================] - 49s 1s/step - loss: 0.8647 - categorical_accuracy: 0.6561 - val_loss: 2.2287 - val_categorical_accuracy: 0.2700 - lr: 2.0000e-04\n",
      "Epoch 7/20\n",
      "34/34 [==============================] - ETA: 0s - loss: 0.7506 - categorical_accuracy: 0.7225\n",
      "Epoch 00007: saving model to model_init_2024-11-0420_14_23.601684/model-00007-0.75057-0.72247-2.39026-0.23000.h5\n",
      "34/34 [==============================] - 49s 1s/step - loss: 0.7506 - categorical_accuracy: 0.7225 - val_loss: 2.3903 - val_categorical_accuracy: 0.2300 - lr: 2.0000e-04\n",
      "Epoch 8/20\n",
      "34/34 [==============================] - ETA: 0s - loss: 0.6944 - categorical_accuracy: 0.7511\n",
      "Epoch 00008: saving model to model_init_2024-11-0420_14_23.601684/model-00008-0.69440-0.75113-2.34759-0.33000.h5\n",
      "34/34 [==============================] - 50s 1s/step - loss: 0.6944 - categorical_accuracy: 0.7511 - val_loss: 2.3476 - val_categorical_accuracy: 0.3300 - lr: 2.0000e-04\n",
      "Epoch 9/20\n",
      "34/34 [==============================] - ETA: 0s - loss: 0.6328 - categorical_accuracy: 0.7632\n",
      "Epoch 00009: saving model to model_init_2024-11-0420_14_23.601684/model-00009-0.63277-0.76320-2.34191-0.34000.h5\n",
      "34/34 [==============================] - 49s 1s/step - loss: 0.6328 - categorical_accuracy: 0.7632 - val_loss: 2.3419 - val_categorical_accuracy: 0.3400 - lr: 2.0000e-04\n",
      "Epoch 10/20\n",
      "34/34 [==============================] - ETA: 0s - loss: 0.5337 - categorical_accuracy: 0.8130\n",
      "Epoch 00010: saving model to model_init_2024-11-0420_14_23.601684/model-00010-0.53368-0.81297-2.24553-0.32000.h5\n",
      "34/34 [==============================] - 49s 1s/step - loss: 0.5337 - categorical_accuracy: 0.8130 - val_loss: 2.2455 - val_categorical_accuracy: 0.3200 - lr: 4.0000e-05\n",
      "Epoch 11/20\n",
      "34/34 [==============================] - ETA: 0s - loss: 0.5181 - categorical_accuracy: 0.8115\n",
      "Epoch 00011: saving model to model_init_2024-11-0420_14_23.601684/model-00011-0.51807-0.81146-2.03417-0.37000.h5\n",
      "34/34 [==============================] - 50s 2s/step - loss: 0.5181 - categorical_accuracy: 0.8115 - val_loss: 2.0342 - val_categorical_accuracy: 0.3700 - lr: 4.0000e-05\n",
      "Epoch 12/20\n",
      "34/34 [==============================] - ETA: 0s - loss: 0.5187 - categorical_accuracy: 0.8235\n",
      "Epoch 00012: saving model to model_init_2024-11-0420_14_23.601684/model-00012-0.51866-0.82353-2.06263-0.34000.h5\n",
      "34/34 [==============================] - 50s 1s/step - loss: 0.5187 - categorical_accuracy: 0.8235 - val_loss: 2.0626 - val_categorical_accuracy: 0.3400 - lr: 4.0000e-05\n",
      "Epoch 13/20\n",
      "34/34 [==============================] - ETA: 0s - loss: 0.4859 - categorical_accuracy: 0.8643\n",
      "Epoch 00013: saving model to model_init_2024-11-0420_14_23.601684/model-00013-0.48587-0.86425-1.75130-0.38000.h5\n",
      "34/34 [==============================] - 50s 2s/step - loss: 0.4859 - categorical_accuracy: 0.8643 - val_loss: 1.7513 - val_categorical_accuracy: 0.3800 - lr: 4.0000e-05\n",
      "Epoch 14/20\n",
      "34/34 [==============================] - ETA: 0s - loss: 0.4792 - categorical_accuracy: 0.8477\n",
      "Epoch 00014: saving model to model_init_2024-11-0420_14_23.601684/model-00014-0.47922-0.84766-1.58872-0.51000.h5\n",
      "34/34 [==============================] - 53s 2s/step - loss: 0.4792 - categorical_accuracy: 0.8477 - val_loss: 1.5887 - val_categorical_accuracy: 0.5100 - lr: 8.0000e-06\n",
      "Epoch 15/20\n",
      "34/34 [==============================] - ETA: 0s - loss: 0.4911 - categorical_accuracy: 0.8326\n",
      "Epoch 00015: saving model to model_init_2024-11-0420_14_23.601684/model-00015-0.49106-0.83258-1.29289-0.56000.h5\n",
      "34/34 [==============================] - 52s 2s/step - loss: 0.4911 - categorical_accuracy: 0.8326 - val_loss: 1.2929 - val_categorical_accuracy: 0.5600 - lr: 8.0000e-06\n",
      "Epoch 16/20\n",
      "34/34 [==============================] - ETA: 0s - loss: 0.4728 - categorical_accuracy: 0.8386\n",
      "Epoch 00016: saving model to model_init_2024-11-0420_14_23.601684/model-00016-0.47277-0.83861-1.14666-0.60000.h5\n",
      "34/34 [==============================] - 51s 2s/step - loss: 0.4728 - categorical_accuracy: 0.8386 - val_loss: 1.1467 - val_categorical_accuracy: 0.6000 - lr: 8.0000e-06\n",
      "Epoch 17/20\n",
      "34/34 [==============================] - ETA: 0s - loss: 0.4479 - categorical_accuracy: 0.8763\n",
      "Epoch 00017: saving model to model_init_2024-11-0420_14_23.601684/model-00017-0.44793-0.87632-1.14941-0.61000.h5\n",
      "34/34 [==============================] - 50s 1s/step - loss: 0.4479 - categorical_accuracy: 0.8763 - val_loss: 1.1494 - val_categorical_accuracy: 0.6100 - lr: 8.0000e-06\n",
      "Epoch 18/20\n",
      "34/34 [==============================] - ETA: 0s - loss: 0.4691 - categorical_accuracy: 0.8492\n",
      "Epoch 00018: saving model to model_init_2024-11-0420_14_23.601684/model-00018-0.46912-0.84917-0.85375-0.70000.h5\n",
      "34/34 [==============================] - 50s 2s/step - loss: 0.4691 - categorical_accuracy: 0.8492 - val_loss: 0.8537 - val_categorical_accuracy: 0.7000 - lr: 8.0000e-06\n",
      "Epoch 19/20\n",
      "34/34 [==============================] - ETA: 0s - loss: 0.5083 - categorical_accuracy: 0.8341\n",
      "Epoch 00019: saving model to model_init_2024-11-0420_14_23.601684/model-00019-0.50828-0.83409-0.81475-0.70000.h5\n",
      "34/34 [==============================] - 50s 2s/step - loss: 0.5083 - categorical_accuracy: 0.8341 - val_loss: 0.8147 - val_categorical_accuracy: 0.7000 - lr: 8.0000e-06\n",
      "Epoch 20/20\n",
      "34/34 [==============================] - ETA: 0s - loss: 0.4542 - categorical_accuracy: 0.8673\n",
      "Epoch 00020: saving model to model_init_2024-11-0420_14_23.601684/model-00020-0.45418-0.86727-0.90294-0.66000.h5\n",
      "34/34 [==============================] - 51s 2s/step - loss: 0.4542 - categorical_accuracy: 0.8673 - val_loss: 0.9029 - val_categorical_accuracy: 0.6600 - lr: 8.0000e-06\n"
     ]
    }
   ],
   "source": [
    "history = CNNlstm_1.fit_generator(train_generator, steps_per_epoch=steps_per_epoch, epochs=num_epochs, verbose=1, \n",
    "                    callbacks=callbacks_list, validation_data=val_generator, \n",
    "                    validation_steps=validation_steps, class_weight=None, workers=1, initial_epoch=0)"
   ]
  },
  {
   "cell_type": "code",
   "execution_count": 30,
   "metadata": {},
   "outputs": [
    {
     "name": "stdout",
     "output_type": "stream",
     "text": [
      "Total Params in model: 1657445\n"
     ]
    }
   ],
   "source": [
    "print(\"Total Params in model:\", CNNlstm_1.count_params())"
   ]
  },
  {
   "cell_type": "code",
   "execution_count": 31,
   "metadata": {},
   "outputs": [
    {
     "data": {
      "image/png": "[encoded data removed]",
      "text/plain": [
       "<Figure size 432x288 with 1 Axes>"
      ]
     },
     "metadata": {
      "needs_background": "light"
     },
     "output_type": "display_data"
    },
    {
     "data": {
      "image/png": "[encoded data removed]",
      "text/plain": [
       "<Figure size 432x288 with 1 Axes>"
      ]
     },
     "metadata": {
      "needs_background": "light"
     },
     "output_type": "display_data"
    }
   ],
   "source": [
    "# Plotting the result of Model 6 :\n",
    "\n",
    "# summarize history for accuracy\n",
    "plt.plot(history.history['categorical_accuracy'])\n",
    "plt.plot(history.history['val_categorical_accuracy'])\n",
    "plt.title('model accuracy')\n",
    "plt.ylabel('accuracy')\n",
    "plt.xlabel('epoch')\n",
    "plt.legend(['train', 'test'], loc='upper left')\n",
    "plt.show()\n",
    "\n",
    "# summarize history for loss\n",
    "plt.plot(history.history['loss'])\n",
    "plt.plot(history.history['val_loss'])\n",
    "plt.title('model loss')\n",
    "plt.ylabel('loss')\n",
    "plt.xlabel('epoch')\n",
    "plt.legend(['train', 'test'], loc='upper left')\n",
    "plt.show()"
   ]
  },
  {
   "cell_type": "markdown",
   "metadata": {},
   "source": [
    "### Best test accuracy of 86.73% and validation accuracy of 66 % with this model."
   ]
  },
  {
   "cell_type": "markdown",
   "metadata": {},
   "source": [
    "# Model 7\n",
    "## CNN - LSTM Model\n",
    "## increase input image size to 160x160"
   ]
  },
  {
   "cell_type": "code",
   "execution_count": 32,
   "metadata": {},
   "outputs": [
    {
     "name": "stdout",
     "output_type": "stream",
     "text": [
      "Model: \"sequential_3\"\n",
      "_________________________________________________________________\n",
      " Layer (type)                Output Shape              Param #   \n",
      "=================================================================\n",
      " time_distributed_16 (TimeDi  (None, 30, 160, 160, 16)  448      \n",
      " stributed)                                                      \n",
      "                                                                 \n",
      " time_distributed_17 (TimeDi  (None, 30, 160, 160, 16)  64       \n",
      " stributed)                                                      \n",
      "                                                                 \n",
      " time_distributed_18 (TimeDi  (None, 30, 80, 80, 16)   0         \n",
      " stributed)                                                      \n",
      "                                                                 \n",
      " time_distributed_19 (TimeDi  (None, 30, 80, 80, 32)   4640      \n",
      " stributed)                                                      \n",
      "                                                                 \n",
      " time_distributed_20 (TimeDi  (None, 30, 80, 80, 32)   128       \n",
      " stributed)                                                      \n",
      "                                                                 \n",
      " time_distributed_21 (TimeDi  (None, 30, 40, 40, 32)   0         \n",
      " stributed)                                                      \n",
      "                                                                 \n",
      " time_distributed_22 (TimeDi  (None, 30, 40, 40, 64)   18496     \n",
      " stributed)                                                      \n",
      "                                                                 \n",
      " time_distributed_23 (TimeDi  (None, 30, 40, 40, 64)   256       \n",
      " stributed)                                                      \n",
      "                                                                 \n",
      " time_distributed_24 (TimeDi  (None, 30, 20, 20, 64)   0         \n",
      " stributed)                                                      \n",
      "                                                                 \n",
      " time_distributed_25 (TimeDi  (None, 30, 20, 20, 128)  73856     \n",
      " stributed)                                                      \n",
      "                                                                 \n",
      " time_distributed_26 (TimeDi  (None, 30, 20, 20, 128)  512       \n",
      " stributed)                                                      \n",
      "                                                                 \n",
      " time_distributed_27 (TimeDi  (None, 30, 10, 10, 128)  0         \n",
      " stributed)                                                      \n",
      "                                                                 \n",
      " time_distributed_28 (TimeDi  (None, 30, 10, 10, 256)  295168    \n",
      " stributed)                                                      \n",
      "                                                                 \n",
      " time_distributed_29 (TimeDi  (None, 30, 10, 10, 256)  1024      \n",
      " stributed)                                                      \n",
      "                                                                 \n",
      " time_distributed_30 (TimeDi  (None, 30, 5, 5, 256)    0         \n",
      " stributed)                                                      \n",
      "                                                                 \n",
      " time_distributed_31 (TimeDi  (None, 30, 6400)         0         \n",
      " stributed)                                                      \n",
      "                                                                 \n",
      " lstm_1 (LSTM)               (None, 128)               3342848   \n",
      "                                                                 \n",
      " dropout_7 (Dropout)         (None, 128)               0         \n",
      "                                                                 \n",
      " dense_8 (Dense)             (None, 128)               16512     \n",
      "                                                                 \n",
      " dropout_8 (Dropout)         (None, 128)               0         \n",
      "                                                                 \n",
      " dense_9 (Dense)             (None, 5)                 645       \n",
      "                                                                 \n",
      "=================================================================\n",
      "Total params: 3,754,597\n",
      "Trainable params: 3,753,605\n",
      "Non-trainable params: 992\n",
      "_________________________________________________________________\n",
      "None\n"
     ]
    }
   ],
   "source": [
    "# Input\n",
    "input_shape=(30,160,160,3)\n",
    "\n",
    "\n",
    "#write your model here\n",
    "CNNlstm_2 = Sequential()\n",
    "\n",
    "CNNlstm_2.add(TimeDistributed(Conv2D(16, (3, 3) , padding='same', activation='relu'),\n",
    "                          input_shape=input_shape))\n",
    "CNNlstm_2.add(TimeDistributed(BatchNormalization()))\n",
    "CNNlstm_2.add(TimeDistributed(MaxPooling2D((2, 2))))\n",
    "\n",
    "CNNlstm_2.add(TimeDistributed(Conv2D(32, (3, 3) , padding='same', activation='relu')))\n",
    "CNNlstm_2.add(TimeDistributed(BatchNormalization()))\n",
    "CNNlstm_2.add(TimeDistributed(MaxPooling2D((2, 2))))\n",
    "\n",
    "CNNlstm_2.add(TimeDistributed(Conv2D(64, (3, 3) , padding='same', activation='relu')))\n",
    "CNNlstm_2.add(TimeDistributed(BatchNormalization()))\n",
    "CNNlstm_2.add(TimeDistributed(MaxPooling2D((2, 2))))\n",
    "\n",
    "CNNlstm_2.add(TimeDistributed(Conv2D(128, (3, 3) , padding='same', activation='relu')))\n",
    "CNNlstm_2.add(TimeDistributed(BatchNormalization()))\n",
    "CNNlstm_2.add(TimeDistributed(MaxPooling2D((2, 2))))\n",
    "\n",
    "CNNlstm_2.add(TimeDistributed(Conv2D(256, (3, 3) , padding='same', activation='relu')))\n",
    "CNNlstm_2.add(TimeDistributed(BatchNormalization()))\n",
    "CNNlstm_2.add(TimeDistributed(MaxPooling2D((2, 2))))\n",
    "\n",
    "CNNlstm_2.add(TimeDistributed(Flatten()))\n",
    "\n",
    "\n",
    "CNNlstm_2.add(LSTM(128))\n",
    "CNNlstm_2.add(Dropout(0.25))\n",
    "\n",
    "CNNlstm_2.add(Dense(128,activation='relu'))\n",
    "CNNlstm_2.add(Dropout(0.25))\n",
    "\n",
    "CNNlstm_2.add(Dense(5, activation='softmax'))\n",
    "\n",
    "\n",
    "#write your optimizer\n",
    "optimiser = tf.keras.optimizers.Adam()\n",
    "\n",
    "\n",
    "# compile model :\n",
    "CNNlstm_2.compile(optimizer=optimiser, loss='categorical_crossentropy', metrics=['categorical_accuracy'])\n",
    "print (CNNlstm_2.summary())"
   ]
  },
  {
   "cell_type": "code",
   "execution_count": 33,
   "metadata": {},
   "outputs": [
    {
     "name": "stdout",
     "output_type": "stream",
     "text": [
      "Total Params in model: 3754597\n"
     ]
    }
   ],
   "source": [
    "print(\"Total Params in model:\", CNNlstm_2.count_params())"
   ]
  },
  {
   "cell_type": "code",
   "execution_count": 34,
   "metadata": {},
   "outputs": [],
   "source": [
    "def generatorLSTM1(source_path, folder_list, batch_size):\n",
    "    print( 'Source path = ', source_path, '; batch size =', batch_size)\n",
    "    \n",
    "    #create a list of image numbers you want to use for a particular video\n",
    "    img_idx = [x for x in range(0, 30)]\n",
    "    #list(range(0,29,2))\n",
    "    \n",
    "    while True:\n",
    "        t = np.random.permutation(folder_list)\n",
    "        \n",
    "# calculate the number of batches\n",
    "        num_batches = int(len(t)/batch_size)\n",
    "        \n",
    "# we iterate over the number of batches\n",
    "        for batch in range(num_batches): \n",
    "            \n",
    "# x is the number of images you use for each video, (y,z) is the final size of the input images and 3 is the number of channels RGB          \n",
    "            batch_data = np.zeros((batch_size,30,160,160,3))\n",
    "# batch_labels is the one hot representation of the output\n",
    "            batch_labels = np.zeros((batch_size,5))\n",
    "\n",
    "# iterate over the batch_size    \n",
    "            for folder in range(batch_size): \n",
    "# read all the images in the folder        \n",
    "                imgs = os.listdir(source_path+'/'+ t[folder + (batch*batch_size)].split(';')[0]) \n",
    "#  Iterate over the frames/images of a folder to read them in    \n",
    "                for idx,item in enumerate(img_idx):\n",
    "                    image = cv2.imread(source_path+'/'+ t[folder + (batch*batch_size)].strip().split(';')[0]+'/'+imgs[item],cv2.IMREAD_UNCHANGED).astype(np.float32)\n",
    "                    \n",
    "#crop the images and resize them. Note that the images are of 2 different shape \n",
    "#and the conv3D will throw error if the inputs in a batch have different shapes\n",
    "                    if image.shape[1] == 160:\n",
    "                        image = cv2.resize(image[:,20:140,:],(160,160),interpolation = cv2.INTER_AREA).astype(np.float32)\n",
    "                    else:\n",
    "                        image = cv2.resize(image,(160,160),interpolation = cv2.INTER_AREA).astype(np.float32)\n",
    "                                \n",
    "#normalise and feed in the image\n",
    "\n",
    "                    batch_data[folder,idx,:,:,0] = (image[:,:,0])/255\n",
    "                    batch_data[folder,idx,:,:,1] = (image[:,:,1])/255\n",
    "                    batch_data[folder,idx,:,:,2] = (image[:,:,2])/255\n",
    "                    \n",
    "                batch_labels[folder, int(t[folder + (batch*batch_size)].strip().split(';')[2])] = 1\n",
    "#you yield the batch_data and the batch_labels, remember what does yield do                \n",
    "            yield batch_data, batch_labels \n",
    "\n",
    "        \n",
    "# write the code for the remaining data points which are left after full batches\n",
    "        if (len(t)%batch_size) != 0:\n",
    "            batch_data = np.zeros((len(t)%batch_size,30,160,160,3))\n",
    "            batch_labels = np.zeros((len(t)%batch_size,5))\n",
    "            for folder in range(len(t)%batch_size):\n",
    "                imgs = os.listdir(source_path+'/'+ t[folder + (num_batches*batch_size)].split(';')[0])\n",
    "                for idx,item in enumerate(img_idx):\n",
    "                    image = cv2.imread(source_path+'/'+ t[folder + (num_batches*batch_size)].strip().split(';')[0]+'/'+imgs[item],cv2.IMREAD_UNCHANGED).astype(np.float32)\n",
    "                    if image.shape[1] == 160:\n",
    "                        image = cv2.resize(image[:,20:140,:],(160,160),interpolation = cv2.INTER_AREA).astype(np.float32)\n",
    "                    else:\n",
    "                        image = cv2.resize(image,(160,160),interpolation = cv2.INTER_AREA).astype(np.float32)\n",
    "\n",
    "                    batch_data[folder,idx,:,:,0] = (image[:,:,0])/255\n",
    "                    batch_data[folder,idx,:,:,1] = (image[:,:,1])/255\n",
    "                    batch_data[folder,idx,:,:,2] = (image[:,:,2])/255\n",
    "\n",
    "                batch_labels[folder, int(t[folder + (num_batches*batch_size)].strip().split(';')[2])] = 1\n",
    "\n",
    "            yield batch_data, batch_labels"
   ]
  },
  {
   "cell_type": "code",
   "execution_count": 35,
   "metadata": {},
   "outputs": [
    {
     "name": "stdout",
     "output_type": "stream",
     "text": [
      "WARNING:tensorflow:`period` argument is deprecated. Please use `save_freq` to specify the frequency in number of batches seen.\n"
     ]
    }
   ],
   "source": [
    "train_generator = generatorLSTM1(train_path, train_doc, batch_size)\n",
    "val_generator = generatorLSTM1(val_path, val_doc, batch_size)\n",
    "\n",
    "model_name = 'model_init' + '_' + str(curr_dt_time).replace(' ','').replace(':','_') + '/'\n",
    "    \n",
    "if not os.path.exists(model_name):\n",
    "    os.mkdir(model_name)\n",
    "        \n",
    "filepath = model_name + 'model-{epoch:05d}-{loss:.5f}-{categorical_accuracy:.5f}-{val_loss:.5f}-{val_categorical_accuracy:.5f}.h5'\n",
    "\n",
    "checkpoint = ModelCheckpoint(filepath, monitor='val_loss', verbose=1, save_best_only=False, save_weights_only=False, mode='auto', period=1)\n",
    "\n",
    "# write the REducelronplateau code here\n",
    "LR = ReduceLROnPlateau(monitor='val_loss', factor=0.2, patience=4)\n",
    "\n",
    "callbacks_list = [checkpoint, LR]\n",
    "\n",
    "if (num_train_sequences%batch_size) == 0:\n",
    "    steps_per_epoch = int(num_train_sequences/batch_size)\n",
    "else:\n",
    "    steps_per_epoch = (num_train_sequences//batch_size) + 1\n",
    "\n",
    "if (num_val_sequences%batch_size) == 0:\n",
    "    validation_steps = int(num_val_sequences/batch_size)\n",
    "else:\n",
    "    validation_steps = (num_val_sequences//batch_size) + 1"
   ]
  },
  {
   "cell_type": "code",
   "execution_count": 36,
   "metadata": {},
   "outputs": [
    {
     "name": "stderr",
     "output_type": "stream",
     "text": [
      "/tmp/ipykernel_203/1818313263.py:1: UserWarning: `Model.fit_generator` is deprecated and will be removed in a future version. Please use `Model.fit`, which supports generators.\n",
      "  history = CNNlstm_2.fit_generator(train_generator, steps_per_epoch=steps_per_epoch, epochs=num_epochs, verbose=1,\n"
     ]
    },
    {
     "name": "stdout",
     "output_type": "stream",
     "text": [
      "Source path =  /datasets/Project_data/train ; batch size = 20\n",
      "Epoch 1/20\n",
      "34/34 [==============================] - ETA: 0s - loss: 1.4966 - categorical_accuracy: 0.3756Source path =  /datasets/Project_data/val ; batch size = 20\n",
      "\n",
      "Epoch 00001: saving model to model_init_2024-11-0420_14_23.601684/model-00001-1.49658-0.37557-1.83709-0.17000.h5\n",
      "34/34 [==============================] - 68s 2s/step - loss: 1.4966 - categorical_accuracy: 0.3756 - val_loss: 1.8371 - val_categorical_accuracy: 0.1700 - lr: 0.0010\n",
      "Epoch 2/20\n",
      "34/34 [==============================] - ETA: 0s - loss: 1.3002 - categorical_accuracy: 0.4872\n",
      "Epoch 00002: saving model to model_init_2024-11-0420_14_23.601684/model-00002-1.30017-0.48718-2.03603-0.21000.h5\n",
      "34/34 [==============================] - 64s 2s/step - loss: 1.3002 - categorical_accuracy: 0.4872 - val_loss: 2.0360 - val_categorical_accuracy: 0.2100 - lr: 0.0010\n",
      "Epoch 3/20\n",
      "34/34 [==============================] - ETA: 0s - loss: 1.1885 - categorical_accuracy: 0.4827\n",
      "Epoch 00003: saving model to model_init_2024-11-0420_14_23.601684/model-00003-1.18849-0.48265-1.77583-0.29000.h5\n",
      "34/34 [==============================] - 63s 2s/step - loss: 1.1885 - categorical_accuracy: 0.4827 - val_loss: 1.7758 - val_categorical_accuracy: 0.2900 - lr: 0.0010\n",
      "Epoch 4/20\n",
      "34/34 [==============================] - ETA: 0s - loss: 1.1234 - categorical_accuracy: 0.5671\n",
      "Epoch 00004: saving model to model_init_2024-11-0420_14_23.601684/model-00004-1.12338-0.56712-1.96239-0.25000.h5\n",
      "34/34 [==============================] - 64s 2s/step - loss: 1.1234 - categorical_accuracy: 0.5671 - val_loss: 1.9624 - val_categorical_accuracy: 0.2500 - lr: 0.0010\n",
      "Epoch 5/20\n",
      "34/34 [==============================] - ETA: 0s - loss: 0.9820 - categorical_accuracy: 0.6184\n",
      "Epoch 00005: saving model to model_init_2024-11-0420_14_23.601684/model-00005-0.98200-0.61840-2.57190-0.18000.h5\n",
      "34/34 [==============================] - 63s 2s/step - loss: 0.9820 - categorical_accuracy: 0.6184 - val_loss: 2.5719 - val_categorical_accuracy: 0.1800 - lr: 0.0010\n",
      "Epoch 6/20\n",
      "34/34 [==============================] - ETA: 0s - loss: 1.0627 - categorical_accuracy: 0.5822\n",
      "Epoch 00006: saving model to model_init_2024-11-0420_14_23.601684/model-00006-1.06270-0.58220-1.94298-0.32000.h5\n",
      "34/34 [==============================] - 63s 2s/step - loss: 1.0627 - categorical_accuracy: 0.5822 - val_loss: 1.9430 - val_categorical_accuracy: 0.3200 - lr: 0.0010\n",
      "Epoch 7/20\n",
      "34/34 [==============================] - ETA: 0s - loss: 0.8967 - categorical_accuracy: 0.6275\n",
      "Epoch 00007: saving model to model_init_2024-11-0420_14_23.601684/model-00007-0.89671-0.62745-2.17818-0.27000.h5\n",
      "34/34 [==============================] - 62s 2s/step - loss: 0.8967 - categorical_accuracy: 0.6275 - val_loss: 2.1782 - val_categorical_accuracy: 0.2700 - lr: 0.0010\n",
      "Epoch 8/20\n",
      "34/34 [==============================] - ETA: 0s - loss: 0.8295 - categorical_accuracy: 0.6817\n",
      "Epoch 00008: saving model to model_init_2024-11-0420_14_23.601684/model-00008-0.82949-0.68175-2.08403-0.34000.h5\n",
      "34/34 [==============================] - 62s 2s/step - loss: 0.8295 - categorical_accuracy: 0.6817 - val_loss: 2.0840 - val_categorical_accuracy: 0.3400 - lr: 2.0000e-04\n",
      "Epoch 9/20\n",
      "34/34 [==============================] - ETA: 0s - loss: 0.7761 - categorical_accuracy: 0.7255\n",
      "Epoch 00009: saving model to model_init_2024-11-0420_14_23.601684/model-00009-0.77610-0.72549-2.04412-0.33000.h5\n",
      "34/34 [==============================] - 64s 2s/step - loss: 0.7761 - categorical_accuracy: 0.7255 - val_loss: 2.0441 - val_categorical_accuracy: 0.3300 - lr: 2.0000e-04\n",
      "Epoch 10/20\n",
      "34/34 [==============================] - ETA: 0s - loss: 0.7035 - categorical_accuracy: 0.7376\n",
      "Epoch 00010: saving model to model_init_2024-11-0420_14_23.601684/model-00010-0.70350-0.73756-2.22113-0.31000.h5\n",
      "34/34 [==============================] - 63s 2s/step - loss: 0.7035 - categorical_accuracy: 0.7376 - val_loss: 2.2211 - val_categorical_accuracy: 0.3100 - lr: 2.0000e-04\n",
      "Epoch 11/20\n",
      "34/34 [==============================] - ETA: 0s - loss: 0.6171 - categorical_accuracy: 0.7768\n",
      "Epoch 00011: saving model to model_init_2024-11-0420_14_23.601684/model-00011-0.61714-0.77677-2.17192-0.38000.h5\n",
      "34/34 [==============================] - 63s 2s/step - loss: 0.6171 - categorical_accuracy: 0.7768 - val_loss: 2.1719 - val_categorical_accuracy: 0.3800 - lr: 2.0000e-04\n",
      "Epoch 12/20\n",
      "34/34 [==============================] - ETA: 0s - loss: 0.5857 - categorical_accuracy: 0.7903\n",
      "Epoch 00012: saving model to model_init_2024-11-0420_14_23.601684/model-00012-0.58574-0.79035-2.08351-0.37000.h5\n",
      "34/34 [==============================] - 63s 2s/step - loss: 0.5857 - categorical_accuracy: 0.7903 - val_loss: 2.0835 - val_categorical_accuracy: 0.3700 - lr: 4.0000e-05\n",
      "Epoch 13/20\n",
      "34/34 [==============================] - ETA: 0s - loss: 0.5656 - categorical_accuracy: 0.7949\n",
      "Epoch 00013: saving model to model_init_2024-11-0420_14_23.601684/model-00013-0.56558-0.79487-1.93728-0.37000.h5\n",
      "34/34 [==============================] - 63s 2s/step - loss: 0.5656 - categorical_accuracy: 0.7949 - val_loss: 1.9373 - val_categorical_accuracy: 0.3700 - lr: 4.0000e-05\n",
      "Epoch 14/20\n",
      "34/34 [==============================] - ETA: 0s - loss: 0.5748 - categorical_accuracy: 0.7903\n",
      "Epoch 00014: saving model to model_init_2024-11-0420_14_23.601684/model-00014-0.57479-0.79035-1.66473-0.37000.h5\n",
      "34/34 [==============================] - 62s 2s/step - loss: 0.5748 - categorical_accuracy: 0.7903 - val_loss: 1.6647 - val_categorical_accuracy: 0.3700 - lr: 4.0000e-05\n",
      "Epoch 15/20\n",
      "34/34 [==============================] - ETA: 0s - loss: 0.5362 - categorical_accuracy: 0.8084\n",
      "Epoch 00015: saving model to model_init_2024-11-0420_14_23.601684/model-00015-0.53617-0.80845-1.68743-0.41000.h5\n",
      "34/34 [==============================] - 64s 2s/step - loss: 0.5362 - categorical_accuracy: 0.8084 - val_loss: 1.6874 - val_categorical_accuracy: 0.4100 - lr: 4.0000e-05\n",
      "Epoch 16/20\n",
      "34/34 [==============================] - ETA: 0s - loss: 0.5432 - categorical_accuracy: 0.8205\n",
      "Epoch 00016: saving model to model_init_2024-11-0420_14_23.601684/model-00016-0.54320-0.82051-1.29508-0.47000.h5\n",
      "34/34 [==============================] - 62s 2s/step - loss: 0.5432 - categorical_accuracy: 0.8205 - val_loss: 1.2951 - val_categorical_accuracy: 0.4700 - lr: 4.0000e-05\n",
      "Epoch 17/20\n",
      "34/34 [==============================] - ETA: 0s - loss: 0.5087 - categorical_accuracy: 0.8265\n",
      "Epoch 00017: saving model to model_init_2024-11-0420_14_23.601684/model-00017-0.50866-0.82655-1.03673-0.53000.h5\n",
      "34/34 [==============================] - 63s 2s/step - loss: 0.5087 - categorical_accuracy: 0.8265 - val_loss: 1.0367 - val_categorical_accuracy: 0.5300 - lr: 4.0000e-05\n",
      "Epoch 18/20\n",
      "34/34 [==============================] - ETA: 0s - loss: 0.5164 - categorical_accuracy: 0.8009\n",
      "Epoch 00018: saving model to model_init_2024-11-0420_14_23.601684/model-00018-0.51638-0.80090-0.87906-0.64000.h5\n",
      "34/34 [==============================] - 62s 2s/step - loss: 0.5164 - categorical_accuracy: 0.8009 - val_loss: 0.8791 - val_categorical_accuracy: 0.6400 - lr: 4.0000e-05\n",
      "Epoch 19/20\n",
      "34/34 [==============================] - ETA: 0s - loss: 0.5284 - categorical_accuracy: 0.8115\n",
      "Epoch 00019: saving model to model_init_2024-11-0420_14_23.601684/model-00019-0.52836-0.81146-0.66605-0.74000.h5\n",
      "34/34 [==============================] - 62s 2s/step - loss: 0.5284 - categorical_accuracy: 0.8115 - val_loss: 0.6661 - val_categorical_accuracy: 0.7400 - lr: 4.0000e-05\n",
      "Epoch 20/20\n",
      "34/34 [==============================] - ETA: 0s - loss: 0.4829 - categorical_accuracy: 0.8281\n",
      "Epoch 00020: saving model to model_init_2024-11-0420_14_23.601684/model-00020-0.48287-0.82805-0.71132-0.75000.h5\n",
      "34/34 [==============================] - 63s 2s/step - loss: 0.4829 - categorical_accuracy: 0.8281 - val_loss: 0.7113 - val_categorical_accuracy: 0.7500 - lr: 4.0000e-05\n"
     ]
    }
   ],
   "source": [
    "history = CNNlstm_2.fit_generator(train_generator, steps_per_epoch=steps_per_epoch, epochs=num_epochs, verbose=1, \n",
    "                    callbacks=callbacks_list, validation_data=val_generator, \n",
    "                    validation_steps=validation_steps, class_weight=None, workers=1, initial_epoch=0)"
   ]
  },
  {
   "cell_type": "code",
   "execution_count": 37,
   "metadata": {},
   "outputs": [
    {
     "data": {
      "image/png": "[encoded data removed]",
      "text/plain": [
       "<Figure size 432x288 with 1 Axes>"
      ]
     },
     "metadata": {
      "needs_background": "light"
     },
     "output_type": "display_data"
    },
    {
     "data": {
      "image/png": "[encoded data removed]",
      "text/plain": [
       "<Figure size 432x288 with 1 Axes>"
      ]
     },
     "metadata": {
      "needs_background": "light"
     },
     "output_type": "display_data"
    }
   ],
   "source": [
    "# Plotting the result of Model 7 :\n",
    "\n",
    "# summarize history for accuracy\n",
    "plt.plot(history.history['categorical_accuracy'])\n",
    "plt.plot(history.history['val_categorical_accuracy'])\n",
    "plt.title('model accuracy')\n",
    "plt.ylabel('accuracy')\n",
    "plt.xlabel('epoch')\n",
    "plt.legend(['train', 'test'], loc='upper left')\n",
    "plt.show()\n",
    "\n",
    "# summarize history for loss\n",
    "plt.plot(history.history['loss'])\n",
    "plt.plot(history.history['val_loss'])\n",
    "plt.title('model loss')\n",
    "plt.ylabel('loss')\n",
    "plt.xlabel('epoch')\n",
    "plt.legend(['train', 'test'], loc='upper left')\n",
    "plt.show()"
   ]
  },
  {
   "cell_type": "markdown",
   "metadata": {},
   "source": [
    "### Got test accuracy of 82 % and validation accuracy of 75% "
   ]
  },
  {
   "cell_type": "markdown",
   "metadata": {},
   "source": [
    "# Model 8\n",
    "## CNN - LSTM Model\n",
    "## Increase layers\n",
    "## increase epoch to 25"
   ]
  },
  {
   "cell_type": "code",
   "execution_count": 38,
   "metadata": {},
   "outputs": [
    {
     "name": "stdout",
     "output_type": "stream",
     "text": [
      "Model: \"sequential_4\"\n",
      "_________________________________________________________________\n",
      " Layer (type)                Output Shape              Param #   \n",
      "=================================================================\n",
      " conv3d_8 (Conv3D)           (None, 30, 120, 120, 16)  1312      \n",
      "                                                                 \n",
      " activation_8 (Activation)   (None, 30, 120, 120, 16)  0         \n",
      "                                                                 \n",
      " batch_normalization_19 (Bat  (None, 30, 120, 120, 16)  64       \n",
      " chNormalization)                                                \n",
      "                                                                 \n",
      " conv3d_9 (Conv3D)           (None, 30, 120, 120, 16)  6928      \n",
      "                                                                 \n",
      " activation_9 (Activation)   (None, 30, 120, 120, 16)  0         \n",
      "                                                                 \n",
      " batch_normalization_20 (Bat  (None, 30, 120, 120, 16)  64       \n",
      " chNormalization)                                                \n",
      "                                                                 \n",
      " max_pooling3d_8 (MaxPooling  (None, 15, 60, 60, 16)   0         \n",
      " 3D)                                                             \n",
      "                                                                 \n",
      " conv3d_10 (Conv3D)          (None, 15, 60, 60, 32)    13856     \n",
      "                                                                 \n",
      " activation_10 (Activation)  (None, 15, 60, 60, 32)    0         \n",
      "                                                                 \n",
      " batch_normalization_21 (Bat  (None, 15, 60, 60, 32)   128       \n",
      " chNormalization)                                                \n",
      "                                                                 \n",
      " conv3d_11 (Conv3D)          (None, 15, 60, 60, 32)    27680     \n",
      "                                                                 \n",
      " activation_11 (Activation)  (None, 15, 60, 60, 32)    0         \n",
      "                                                                 \n",
      " batch_normalization_22 (Bat  (None, 15, 60, 60, 32)   128       \n",
      " chNormalization)                                                \n",
      "                                                                 \n",
      " max_pooling3d_9 (MaxPooling  (None, 7, 30, 30, 32)    0         \n",
      " 3D)                                                             \n",
      "                                                                 \n",
      " conv3d_12 (Conv3D)          (None, 7, 30, 30, 64)     55360     \n",
      "                                                                 \n",
      " activation_12 (Activation)  (None, 7, 30, 30, 64)     0         \n",
      "                                                                 \n",
      " batch_normalization_23 (Bat  (None, 7, 30, 30, 64)    256       \n",
      " chNormalization)                                                \n",
      "                                                                 \n",
      " conv3d_13 (Conv3D)          (None, 7, 30, 30, 64)     110656    \n",
      "                                                                 \n",
      " activation_13 (Activation)  (None, 7, 30, 30, 64)     0         \n",
      "                                                                 \n",
      " batch_normalization_24 (Bat  (None, 7, 30, 30, 64)    256       \n",
      " chNormalization)                                                \n",
      "                                                                 \n",
      " max_pooling3d_10 (MaxPoolin  (None, 3, 15, 15, 64)    0         \n",
      " g3D)                                                            \n",
      "                                                                 \n",
      " conv3d_14 (Conv3D)          (None, 3, 15, 15, 128)    221312    \n",
      "                                                                 \n",
      " activation_14 (Activation)  (None, 3, 15, 15, 128)    0         \n",
      "                                                                 \n",
      " batch_normalization_25 (Bat  (None, 3, 15, 15, 128)   512       \n",
      " chNormalization)                                                \n",
      "                                                                 \n",
      " conv3d_15 (Conv3D)          (None, 3, 15, 15, 128)    442496    \n",
      "                                                                 \n",
      " activation_15 (Activation)  (None, 3, 15, 15, 128)    0         \n",
      "                                                                 \n",
      " batch_normalization_26 (Bat  (None, 3, 15, 15, 128)   512       \n",
      " chNormalization)                                                \n",
      "                                                                 \n",
      " max_pooling3d_11 (MaxPoolin  (None, 1, 7, 7, 128)     0         \n",
      " g3D)                                                            \n",
      "                                                                 \n",
      " flatten_4 (Flatten)         (None, 6272)              0         \n",
      "                                                                 \n",
      " dense_10 (Dense)            (None, 64)                401472    \n",
      "                                                                 \n",
      " batch_normalization_27 (Bat  (None, 64)               256       \n",
      " chNormalization)                                                \n",
      "                                                                 \n",
      " dropout_9 (Dropout)         (None, 64)                0         \n",
      "                                                                 \n",
      " dense_11 (Dense)            (None, 64)                4160      \n",
      "                                                                 \n",
      " batch_normalization_28 (Bat  (None, 64)               256       \n",
      " chNormalization)                                                \n",
      "                                                                 \n",
      " dropout_10 (Dropout)        (None, 64)                0         \n",
      "                                                                 \n",
      " dense_12 (Dense)            (None, 5)                 325       \n",
      "                                                                 \n",
      "=================================================================\n",
      "Total params: 1,287,989\n",
      "Trainable params: 1,286,773\n",
      "Non-trainable params: 1,216\n",
      "_________________________________________________________________\n",
      "None\n"
     ]
    }
   ],
   "source": [
    "input_shape=(30,120,120,3)\n",
    "\n",
    "CNNlstm_3 = Sequential()\n",
    "CNNlstm_3.add(Conv3D(16, (3,3,3), padding='same',\n",
    "         input_shape=(input_shape)))\n",
    "CNNlstm_3.add(Activation('relu'))\n",
    "CNNlstm_3.add(BatchNormalization())\n",
    "\n",
    "CNNlstm_3.add(Conv3D(16, (3,3,3), padding='same',\n",
    "         input_shape=(input_shape)))\n",
    "CNNlstm_3.add(Activation('relu'))\n",
    "CNNlstm_3.add(BatchNormalization())\n",
    "\n",
    "CNNlstm_3.add(MaxPooling3D(pool_size=(2, 2, 2)))\n",
    "\n",
    "CNNlstm_3.add(Conv3D(32, (3,3,3), padding='same'))\n",
    "CNNlstm_3.add(Activation('relu'))\n",
    "CNNlstm_3.add(BatchNormalization())\n",
    "\n",
    "CNNlstm_3.add(Conv3D(32, (3,3,3), padding='same'))\n",
    "CNNlstm_3.add(Activation('relu'))\n",
    "CNNlstm_3.add(BatchNormalization())\n",
    "\n",
    "CNNlstm_3.add(MaxPooling3D(pool_size=(2, 2, 2)))\n",
    "\n",
    "CNNlstm_3.add(Conv3D(64, (3,3,3), padding='same'))\n",
    "CNNlstm_3.add(Activation('relu'))\n",
    "CNNlstm_3.add(BatchNormalization())\n",
    "\n",
    "CNNlstm_3.add(Conv3D(64, (3,3,3), padding='same'))\n",
    "CNNlstm_3.add(Activation('relu'))\n",
    "CNNlstm_3.add(BatchNormalization())\n",
    "\n",
    "CNNlstm_3.add(MaxPooling3D(pool_size=(2, 2, 2)))\n",
    "\n",
    "CNNlstm_3.add(Conv3D(128, (3,3,3), padding='same'))\n",
    "CNNlstm_3.add(Activation('relu'))\n",
    "CNNlstm_3.add(BatchNormalization())\n",
    "\n",
    "CNNlstm_3.add(Conv3D(128, (3,3,3), padding='same'))\n",
    "CNNlstm_3.add(Activation('relu'))\n",
    "CNNlstm_3.add(BatchNormalization())\n",
    "CNNlstm_3.add(MaxPooling3D(pool_size=(2, 2, 2)))\n",
    "\n",
    "\n",
    "CNNlstm_3.add(Flatten())\n",
    "CNNlstm_3.add(Dense(64,activation='relu'))\n",
    "CNNlstm_3.add(BatchNormalization())\n",
    "CNNlstm_3.add(Dropout(0.25))\n",
    "\n",
    "CNNlstm_3.add(Dense(64,activation='relu'))\n",
    "CNNlstm_3.add(BatchNormalization())\n",
    "CNNlstm_3.add(Dropout(0.25))\n",
    "\n",
    "\n",
    "CNNlstm_3.add(Dense(5,activation='softmax'))\n",
    "\n",
    "optimiser = tf.keras.optimizers.Adam()\n",
    "CNNlstm_3.compile(optimizer=optimiser, loss='categorical_crossentropy', metrics=['categorical_accuracy'])\n",
    "print (CNNlstm_3.summary())"
   ]
  },
  {
   "cell_type": "code",
   "execution_count": 39,
   "metadata": {},
   "outputs": [
    {
     "name": "stdout",
     "output_type": "stream",
     "text": [
      "Total Params in model: 1287989\n"
     ]
    }
   ],
   "source": [
    "print(\"Total Params in model:\", CNNlstm_3.count_params())"
   ]
  },
  {
   "cell_type": "code",
   "execution_count": 40,
   "metadata": {},
   "outputs": [
    {
     "name": "stdout",
     "output_type": "stream",
     "text": [
      "# training sequences = 663\n",
      "# validation sequences = 100\n",
      "# epochs = 25\n"
     ]
    }
   ],
   "source": [
    "batch_size = 20\n",
    "curr_dt_time = datetime.datetime.now()\n",
    "train_path = '/datasets/Project_data/train'\n",
    "val_path = '/datasets/Project_data/val'\n",
    "num_train_sequences = len(train_doc)\n",
    "print('# training sequences =', num_train_sequences)\n",
    "num_val_sequences = len(val_doc)\n",
    "print('# validation sequences =', num_val_sequences)\n",
    "# choose the number of epochs\n",
    "num_epochs = 25\n",
    "print ('# epochs =', num_epochs)"
   ]
  },
  {
   "cell_type": "code",
   "execution_count": 41,
   "metadata": {},
   "outputs": [
    {
     "name": "stdout",
     "output_type": "stream",
     "text": [
      "WARNING:tensorflow:`period` argument is deprecated. Please use `save_freq` to specify the frequency in number of batches seen.\n"
     ]
    }
   ],
   "source": [
    "train_generator = generatorLSTM(train_path, train_doc, batch_size)\n",
    "val_generator = generatorLSTM(val_path, val_doc, batch_size)\n",
    "\n",
    "model_name = 'model_init' + '_' + str(curr_dt_time).replace(' ','').replace(':','_') + '/'\n",
    "    \n",
    "if not os.path.exists(model_name):\n",
    "    os.mkdir(model_name)\n",
    "        \n",
    "filepath = model_name + 'model-{epoch:05d}-{loss:.5f}-{categorical_accuracy:.5f}-{val_loss:.5f}-{val_categorical_accuracy:.5f}.h5'\n",
    "\n",
    "checkpoint = ModelCheckpoint(filepath, monitor='val_loss', verbose=1, save_best_only=False, save_weights_only=False, mode='auto', period=1)\n",
    "\n",
    "# write the REducelronplateau code here\n",
    "LR = ReduceLROnPlateau(monitor='val_loss', factor=0.2, patience=4)\n",
    "\n",
    "callbacks_list = [checkpoint, LR]\n",
    "\n",
    "if (num_train_sequences%batch_size) == 0:\n",
    "    steps_per_epoch = int(num_train_sequences/batch_size)\n",
    "else:\n",
    "    steps_per_epoch = (num_train_sequences//batch_size) + 1\n",
    "\n",
    "if (num_val_sequences%batch_size) == 0:\n",
    "    validation_steps = int(num_val_sequences/batch_size)\n",
    "else:\n",
    "    validation_steps = (num_val_sequences//batch_size) + 1"
   ]
  },
  {
   "cell_type": "code",
   "execution_count": 42,
   "metadata": {},
   "outputs": [
    {
     "name": "stderr",
     "output_type": "stream",
     "text": [
      "/tmp/ipykernel_203/2700097509.py:1: UserWarning: `Model.fit_generator` is deprecated and will be removed in a future version. Please use `Model.fit`, which supports generators.\n",
      "  history = CNNlstm_3.fit_generator(train_generator, steps_per_epoch=steps_per_epoch, epochs=num_epochs, verbose=1,\n"
     ]
    },
    {
     "name": "stdout",
     "output_type": "stream",
     "text": [
      "Source path =  /datasets/Project_data/train ; batch size = 20\n",
      "Epoch 1/25\n",
      "34/34 [==============================] - ETA: 0s - loss: 1.7906 - categorical_accuracy: 0.3529Source path =  /datasets/Project_data/val ; batch size = 20\n",
      "\n",
      "Epoch 00001: saving model to model_init_2024-11-0420_55_06.693494/model-00001-1.79063-0.35294-3.29080-0.16000.h5\n",
      "34/34 [==============================] - 56s 2s/step - loss: 1.7906 - categorical_accuracy: 0.3529 - val_loss: 3.2908 - val_categorical_accuracy: 0.1600 - lr: 0.0010\n",
      "Epoch 2/25\n",
      "34/34 [==============================] - ETA: 0s - loss: 1.3082 - categorical_accuracy: 0.5038\n",
      "Epoch 00002: saving model to model_init_2024-11-0420_55_06.693494/model-00002-1.30819-0.50377-4.47168-0.20000.h5\n",
      "34/34 [==============================] - 49s 1s/step - loss: 1.3082 - categorical_accuracy: 0.5038 - val_loss: 4.4717 - val_categorical_accuracy: 0.2000 - lr: 0.0010\n",
      "Epoch 3/25\n",
      "34/34 [==============================] - ETA: 0s - loss: 1.0633 - categorical_accuracy: 0.6094\n",
      "Epoch 00003: saving model to model_init_2024-11-0420_55_06.693494/model-00003-1.06328-0.60935-4.22818-0.22000.h5\n",
      "34/34 [==============================] - 51s 2s/step - loss: 1.0633 - categorical_accuracy: 0.6094 - val_loss: 4.2282 - val_categorical_accuracy: 0.2200 - lr: 0.0010\n",
      "Epoch 4/25\n",
      "34/34 [==============================] - ETA: 0s - loss: 0.9790 - categorical_accuracy: 0.6395\n",
      "Epoch 00004: saving model to model_init_2024-11-0420_55_06.693494/model-00004-0.97904-0.63952-5.00560-0.24000.h5\n",
      "34/34 [==============================] - 49s 1s/step - loss: 0.9790 - categorical_accuracy: 0.6395 - val_loss: 5.0056 - val_categorical_accuracy: 0.2400 - lr: 0.0010\n",
      "Epoch 5/25\n",
      "34/34 [==============================] - ETA: 0s - loss: 0.8389 - categorical_accuracy: 0.6802\n",
      "Epoch 00005: saving model to model_init_2024-11-0420_55_06.693494/model-00005-0.83891-0.68024-4.26182-0.20000.h5\n",
      "34/34 [==============================] - 50s 1s/step - loss: 0.8389 - categorical_accuracy: 0.6802 - val_loss: 4.2618 - val_categorical_accuracy: 0.2000 - lr: 0.0010\n",
      "Epoch 6/25\n",
      "34/34 [==============================] - ETA: 0s - loss: 0.6464 - categorical_accuracy: 0.7496\n",
      "Epoch 00006: saving model to model_init_2024-11-0420_55_06.693494/model-00006-0.64641-0.74962-3.16071-0.21000.h5\n",
      "34/34 [==============================] - 50s 1s/step - loss: 0.6464 - categorical_accuracy: 0.7496 - val_loss: 3.1607 - val_categorical_accuracy: 0.2100 - lr: 2.0000e-04\n",
      "Epoch 7/25\n",
      "34/34 [==============================] - ETA: 0s - loss: 0.6076 - categorical_accuracy: 0.7843\n",
      "Epoch 00007: saving model to model_init_2024-11-0420_55_06.693494/model-00007-0.60758-0.78431-2.89465-0.19000.h5\n",
      "34/34 [==============================] - 49s 1s/step - loss: 0.6076 - categorical_accuracy: 0.7843 - val_loss: 2.8947 - val_categorical_accuracy: 0.1900 - lr: 2.0000e-04\n",
      "Epoch 8/25\n",
      "34/34 [==============================] - ETA: 0s - loss: 0.5341 - categorical_accuracy: 0.8024\n",
      "Epoch 00008: saving model to model_init_2024-11-0420_55_06.693494/model-00008-0.53405-0.80241-2.85267-0.23000.h5\n",
      "34/34 [==============================] - 50s 2s/step - loss: 0.5341 - categorical_accuracy: 0.8024 - val_loss: 2.8527 - val_categorical_accuracy: 0.2300 - lr: 2.0000e-04\n",
      "Epoch 9/25\n",
      "34/34 [==============================] - ETA: 0s - loss: 0.4981 - categorical_accuracy: 0.8115\n",
      "Epoch 00009: saving model to model_init_2024-11-0420_55_06.693494/model-00009-0.49811-0.81146-1.96470-0.29000.h5\n",
      "34/34 [==============================] - 49s 1s/step - loss: 0.4981 - categorical_accuracy: 0.8115 - val_loss: 1.9647 - val_categorical_accuracy: 0.2900 - lr: 2.0000e-04\n",
      "Epoch 10/25\n",
      "34/34 [==============================] - ETA: 0s - loss: 0.5334 - categorical_accuracy: 0.8100\n",
      "Epoch 00010: saving model to model_init_2024-11-0420_55_06.693494/model-00010-0.53338-0.80995-2.06261-0.24000.h5\n",
      "34/34 [==============================] - 49s 1s/step - loss: 0.5334 - categorical_accuracy: 0.8100 - val_loss: 2.0626 - val_categorical_accuracy: 0.2400 - lr: 2.0000e-04\n",
      "Epoch 11/25\n",
      "34/34 [==============================] - ETA: 0s - loss: 0.4473 - categorical_accuracy: 0.8326\n",
      "Epoch 00011: saving model to model_init_2024-11-0420_55_06.693494/model-00011-0.44729-0.83258-1.93847-0.31000.h5\n",
      "34/34 [==============================] - 50s 1s/step - loss: 0.4473 - categorical_accuracy: 0.8326 - val_loss: 1.9385 - val_categorical_accuracy: 0.3100 - lr: 2.0000e-04\n",
      "Epoch 12/25\n",
      "34/34 [==============================] - ETA: 0s - loss: 0.4339 - categorical_accuracy: 0.8477\n",
      "Epoch 00012: saving model to model_init_2024-11-0420_55_06.693494/model-00012-0.43385-0.84766-1.55795-0.42000.h5\n",
      "34/34 [==============================] - 49s 1s/step - loss: 0.4339 - categorical_accuracy: 0.8477 - val_loss: 1.5580 - val_categorical_accuracy: 0.4200 - lr: 2.0000e-04\n",
      "Epoch 13/25\n",
      "34/34 [==============================] - ETA: 0s - loss: 0.4114 - categorical_accuracy: 0.8597\n",
      "Epoch 00013: saving model to model_init_2024-11-0420_55_06.693494/model-00013-0.41141-0.85973-1.71509-0.30000.h5\n",
      "34/34 [==============================] - 49s 1s/step - loss: 0.4114 - categorical_accuracy: 0.8597 - val_loss: 1.7151 - val_categorical_accuracy: 0.3000 - lr: 2.0000e-04\n",
      "Epoch 14/25\n",
      "34/34 [==============================] - ETA: 0s - loss: 0.3894 - categorical_accuracy: 0.8673\n",
      "Epoch 00014: saving model to model_init_2024-11-0420_55_06.693494/model-00014-0.38944-0.86727-1.61948-0.39000.h5\n",
      "34/34 [==============================] - 49s 1s/step - loss: 0.3894 - categorical_accuracy: 0.8673 - val_loss: 1.6195 - val_categorical_accuracy: 0.3900 - lr: 2.0000e-04\n",
      "Epoch 15/25\n",
      "34/34 [==============================] - ETA: 0s - loss: 0.3318 - categorical_accuracy: 0.8869\n",
      "Epoch 00015: saving model to model_init_2024-11-0420_55_06.693494/model-00015-0.33183-0.88688-1.12190-0.62000.h5\n",
      "34/34 [==============================] - 49s 1s/step - loss: 0.3318 - categorical_accuracy: 0.8869 - val_loss: 1.1219 - val_categorical_accuracy: 0.6200 - lr: 2.0000e-04\n",
      "Epoch 16/25\n",
      "34/34 [==============================] - ETA: 0s - loss: 0.3218 - categorical_accuracy: 0.8974\n",
      "Epoch 00016: saving model to model_init_2024-11-0420_55_06.693494/model-00016-0.32183-0.89744-1.06977-0.59000.h5\n",
      "34/34 [==============================] - 49s 1s/step - loss: 0.3218 - categorical_accuracy: 0.8974 - val_loss: 1.0698 - val_categorical_accuracy: 0.5900 - lr: 2.0000e-04\n",
      "Epoch 17/25\n",
      "34/34 [==============================] - ETA: 0s - loss: 0.3045 - categorical_accuracy: 0.8959\n",
      "Epoch 00017: saving model to model_init_2024-11-0420_55_06.693494/model-00017-0.30449-0.89593-0.85620-0.68000.h5\n",
      "34/34 [==============================] - 49s 1s/step - loss: 0.3045 - categorical_accuracy: 0.8959 - val_loss: 0.8562 - val_categorical_accuracy: 0.6800 - lr: 2.0000e-04\n",
      "Epoch 18/25\n",
      "34/34 [==============================] - ETA: 0s - loss: 0.2787 - categorical_accuracy: 0.9186\n",
      "Epoch 00018: saving model to model_init_2024-11-0420_55_06.693494/model-00018-0.27868-0.91855-1.09706-0.61000.h5\n",
      "34/34 [==============================] - 49s 1s/step - loss: 0.2787 - categorical_accuracy: 0.9186 - val_loss: 1.0971 - val_categorical_accuracy: 0.6100 - lr: 2.0000e-04\n",
      "Epoch 19/25\n",
      "34/34 [==============================] - ETA: 0s - loss: 0.3685 - categorical_accuracy: 0.8793\n",
      "Epoch 00019: saving model to model_init_2024-11-0420_55_06.693494/model-00019-0.36848-0.87934-0.83635-0.70000.h5\n",
      "34/34 [==============================] - 49s 1s/step - loss: 0.3685 - categorical_accuracy: 0.8793 - val_loss: 0.8364 - val_categorical_accuracy: 0.7000 - lr: 2.0000e-04\n",
      "Epoch 20/25\n",
      "34/34 [==============================] - ETA: 0s - loss: 0.3496 - categorical_accuracy: 0.8854\n",
      "Epoch 00020: saving model to model_init_2024-11-0420_55_06.693494/model-00020-0.34955-0.88537-0.71970-0.74000.h5\n",
      "34/34 [==============================] - 49s 1s/step - loss: 0.3496 - categorical_accuracy: 0.8854 - val_loss: 0.7197 - val_categorical_accuracy: 0.7400 - lr: 2.0000e-04\n",
      "Epoch 21/25\n",
      "34/34 [==============================] - ETA: 0s - loss: 0.3130 - categorical_accuracy: 0.8944\n",
      "Epoch 00021: saving model to model_init_2024-11-0420_55_06.693494/model-00021-0.31304-0.89442-0.62408-0.78000.h5\n",
      "34/34 [==============================] - 49s 1s/step - loss: 0.3130 - categorical_accuracy: 0.8944 - val_loss: 0.6241 - val_categorical_accuracy: 0.7800 - lr: 2.0000e-04\n",
      "Epoch 22/25\n",
      "34/34 [==============================] - ETA: 0s - loss: 0.2784 - categorical_accuracy: 0.9110\n",
      "Epoch 00022: saving model to model_init_2024-11-0420_55_06.693494/model-00022-0.27835-0.91101-0.65077-0.78000.h5\n",
      "34/34 [==============================] - 48s 1s/step - loss: 0.2784 - categorical_accuracy: 0.9110 - val_loss: 0.6508 - val_categorical_accuracy: 0.7800 - lr: 2.0000e-04\n",
      "Epoch 23/25\n",
      "34/34 [==============================] - ETA: 0s - loss: 0.2966 - categorical_accuracy: 0.8914\n",
      "Epoch 00023: saving model to model_init_2024-11-0420_55_06.693494/model-00023-0.29660-0.89140-0.65491-0.76000.h5\n",
      "34/34 [==============================] - 49s 1s/step - loss: 0.2966 - categorical_accuracy: 0.8914 - val_loss: 0.6549 - val_categorical_accuracy: 0.7600 - lr: 2.0000e-04\n",
      "Epoch 24/25\n",
      "34/34 [==============================] - ETA: 0s - loss: 0.2527 - categorical_accuracy: 0.9155\n",
      "Epoch 00024: saving model to model_init_2024-11-0420_55_06.693494/model-00024-0.25271-0.91554-0.57818-0.76000.h5\n",
      "34/34 [==============================] - 49s 1s/step - loss: 0.2527 - categorical_accuracy: 0.9155 - val_loss: 0.5782 - val_categorical_accuracy: 0.7600 - lr: 2.0000e-04\n",
      "Epoch 25/25\n",
      "34/34 [==============================] - ETA: 0s - loss: 0.2262 - categorical_accuracy: 0.9246\n",
      "Epoch 00025: saving model to model_init_2024-11-0420_55_06.693494/model-00025-0.22621-0.92459-0.72036-0.74000.h5\n",
      "34/34 [==============================] - 49s 1s/step - loss: 0.2262 - categorical_accuracy: 0.9246 - val_loss: 0.7204 - val_categorical_accuracy: 0.7400 - lr: 2.0000e-04\n"
     ]
    }
   ],
   "source": [
    "history = CNNlstm_3.fit_generator(train_generator, steps_per_epoch=steps_per_epoch, epochs=num_epochs, verbose=1, \n",
    "                    callbacks=callbacks_list, validation_data=val_generator, \n",
    "                    validation_steps=validation_steps, class_weight=None, workers=1, initial_epoch=0)"
   ]
  },
  {
   "cell_type": "code",
   "execution_count": 47,
   "metadata": {},
   "outputs": [
    {
     "data": {
      "image/png": "[encoded data removed]",
      "text/plain": [
       "<Figure size 432x288 with 1 Axes>"
      ]
     },
     "metadata": {
      "needs_background": "light"
     },
     "output_type": "display_data"
    },
    {
     "data": {
      "image/png": "[encoded data removed]",
      "text/plain": [
       "<Figure size 432x288 with 1 Axes>"
      ]
     },
     "metadata": {
      "needs_background": "light"
     },
     "output_type": "display_data"
    }
   ],
   "source": [
    "# Plotting the result of Model 8 :\n",
    "\n",
    "# summarize history for accuracy\n",
    "plt.plot(history.history['categorical_accuracy'])\n",
    "plt.plot(history.history['val_categorical_accuracy'])\n",
    "plt.title('model accuracy')\n",
    "plt.ylabel('accuracy')\n",
    "plt.xlabel('epoch')\n",
    "plt.legend(['train', 'test'], loc='upper left')\n",
    "plt.show()\n",
    "\n",
    "# summarize history for loss\n",
    "plt.plot(history.history['loss'])\n",
    "plt.plot(history.history['val_loss'])\n",
    "plt.title('model loss')\n",
    "plt.ylabel('loss')\n",
    "plt.xlabel('epoch')\n",
    "plt.legend(['train', 'test'], loc='upper left')\n",
    "plt.show()"
   ]
  },
  {
   "cell_type": "markdown",
   "metadata": {},
   "source": [
    "### The train accuracy is 92.46 % and best validation accuracy is 74 %"
   ]
  },
  {
   "cell_type": "markdown",
   "metadata": {},
   "source": [
    "# Model 9.\n",
    "## CNN-LSTM Model\n",
    "## Increase Network Parameters"
   ]
  },
  {
   "cell_type": "code",
   "execution_count": 43,
   "metadata": {},
   "outputs": [
    {
     "name": "stdout",
     "output_type": "stream",
     "text": [
      "Model: \"sequential_5\"\n",
      "_________________________________________________________________\n",
      " Layer (type)                Output Shape              Param #   \n",
      "=================================================================\n",
      " conv3d_16 (Conv3D)          (None, 30, 120, 120, 16)  1312      \n",
      "                                                                 \n",
      " activation_16 (Activation)  (None, 30, 120, 120, 16)  0         \n",
      "                                                                 \n",
      " batch_normalization_29 (Bat  (None, 30, 120, 120, 16)  64       \n",
      " chNormalization)                                                \n",
      "                                                                 \n",
      " conv3d_17 (Conv3D)          (None, 30, 120, 120, 16)  6928      \n",
      "                                                                 \n",
      " activation_17 (Activation)  (None, 30, 120, 120, 16)  0         \n",
      "                                                                 \n",
      " batch_normalization_30 (Bat  (None, 30, 120, 120, 16)  64       \n",
      " chNormalization)                                                \n",
      "                                                                 \n",
      " max_pooling3d_12 (MaxPoolin  (None, 15, 60, 60, 16)   0         \n",
      " g3D)                                                            \n",
      "                                                                 \n",
      " conv3d_18 (Conv3D)          (None, 15, 60, 60, 32)    13856     \n",
      "                                                                 \n",
      " activation_18 (Activation)  (None, 15, 60, 60, 32)    0         \n",
      "                                                                 \n",
      " batch_normalization_31 (Bat  (None, 15, 60, 60, 32)   128       \n",
      " chNormalization)                                                \n",
      "                                                                 \n",
      " conv3d_19 (Conv3D)          (None, 15, 60, 60, 32)    27680     \n",
      "                                                                 \n",
      " activation_19 (Activation)  (None, 15, 60, 60, 32)    0         \n",
      "                                                                 \n",
      " batch_normalization_32 (Bat  (None, 15, 60, 60, 32)   128       \n",
      " chNormalization)                                                \n",
      "                                                                 \n",
      " max_pooling3d_13 (MaxPoolin  (None, 7, 30, 30, 32)    0         \n",
      " g3D)                                                            \n",
      "                                                                 \n",
      " conv3d_20 (Conv3D)          (None, 7, 30, 30, 64)     55360     \n",
      "                                                                 \n",
      " activation_20 (Activation)  (None, 7, 30, 30, 64)     0         \n",
      "                                                                 \n",
      " batch_normalization_33 (Bat  (None, 7, 30, 30, 64)    256       \n",
      " chNormalization)                                                \n",
      "                                                                 \n",
      " conv3d_21 (Conv3D)          (None, 7, 30, 30, 64)     110656    \n",
      "                                                                 \n",
      " activation_21 (Activation)  (None, 7, 30, 30, 64)     0         \n",
      "                                                                 \n",
      " batch_normalization_34 (Bat  (None, 7, 30, 30, 64)    256       \n",
      " chNormalization)                                                \n",
      "                                                                 \n",
      " max_pooling3d_14 (MaxPoolin  (None, 3, 15, 15, 64)    0         \n",
      " g3D)                                                            \n",
      "                                                                 \n",
      " conv3d_22 (Conv3D)          (None, 3, 15, 15, 128)    221312    \n",
      "                                                                 \n",
      " activation_22 (Activation)  (None, 3, 15, 15, 128)    0         \n",
      "                                                                 \n",
      " batch_normalization_35 (Bat  (None, 3, 15, 15, 128)   512       \n",
      " chNormalization)                                                \n",
      "                                                                 \n",
      " conv3d_23 (Conv3D)          (None, 3, 15, 15, 128)    442496    \n",
      "                                                                 \n",
      " activation_23 (Activation)  (None, 3, 15, 15, 128)    0         \n",
      "                                                                 \n",
      " batch_normalization_36 (Bat  (None, 3, 15, 15, 128)   512       \n",
      " chNormalization)                                                \n",
      "                                                                 \n",
      " max_pooling3d_15 (MaxPoolin  (None, 1, 7, 7, 128)     0         \n",
      " g3D)                                                            \n",
      "                                                                 \n",
      " flatten_5 (Flatten)         (None, 6272)              0         \n",
      "                                                                 \n",
      " dense_13 (Dense)            (None, 128)               802944    \n",
      "                                                                 \n",
      " batch_normalization_37 (Bat  (None, 128)              512       \n",
      " chNormalization)                                                \n",
      "                                                                 \n",
      " dropout_11 (Dropout)        (None, 128)               0         \n",
      "                                                                 \n",
      " dense_14 (Dense)            (None, 128)               16512     \n",
      "                                                                 \n",
      " batch_normalization_38 (Bat  (None, 128)              512       \n",
      " chNormalization)                                                \n",
      "                                                                 \n",
      " dropout_12 (Dropout)        (None, 128)               0         \n",
      "                                                                 \n",
      " dense_15 (Dense)            (None, 5)                 645       \n",
      "                                                                 \n",
      "=================================================================\n",
      "Total params: 1,702,645\n",
      "Trainable params: 1,701,173\n",
      "Non-trainable params: 1,472\n",
      "_________________________________________________________________\n",
      "None\n"
     ]
    }
   ],
   "source": [
    "input_shape=(30,120,120,3)\n",
    "\n",
    "CNNlstm_4 = Sequential()\n",
    "CNNlstm_4.add(Conv3D(16, (3,3,3), padding='same',\n",
    "         input_shape=(input_shape)))\n",
    "CNNlstm_4.add(Activation('relu'))\n",
    "CNNlstm_4.add(BatchNormalization())\n",
    "\n",
    "CNNlstm_4.add(Conv3D(16, (3,3,3), padding='same',\n",
    "         input_shape=(input_shape)))\n",
    "CNNlstm_4.add(Activation('relu'))\n",
    "CNNlstm_4.add(BatchNormalization())\n",
    "\n",
    "CNNlstm_4.add(MaxPooling3D(pool_size=(2, 2, 2)))\n",
    "\n",
    "CNNlstm_4.add(Conv3D(32, (3,3,3), padding='same'))\n",
    "CNNlstm_4.add(Activation('relu'))\n",
    "CNNlstm_4.add(BatchNormalization())\n",
    "\n",
    "CNNlstm_4.add(Conv3D(32, (3,3,3), padding='same'))\n",
    "CNNlstm_4.add(Activation('relu'))\n",
    "CNNlstm_4.add(BatchNormalization())\n",
    "\n",
    "CNNlstm_4.add(MaxPooling3D(pool_size=(2, 2, 2)))\n",
    "\n",
    "CNNlstm_4.add(Conv3D(64, (3,3,3), padding='same'))\n",
    "CNNlstm_4.add(Activation('relu'))\n",
    "CNNlstm_4.add(BatchNormalization())\n",
    "\n",
    "CNNlstm_4.add(Conv3D(64, (3,3,3), padding='same'))\n",
    "CNNlstm_4.add(Activation('relu'))\n",
    "CNNlstm_4.add(BatchNormalization())\n",
    "\n",
    "CNNlstm_4.add(MaxPooling3D(pool_size=(2, 2, 2)))\n",
    "\n",
    "CNNlstm_4.add(Conv3D(128, (3,3,3), padding='same'))\n",
    "CNNlstm_4.add(Activation('relu'))\n",
    "CNNlstm_4.add(BatchNormalization())\n",
    "\n",
    "CNNlstm_4.add(Conv3D(128, (3,3,3), padding='same'))\n",
    "CNNlstm_4.add(Activation('relu'))\n",
    "CNNlstm_4.add(BatchNormalization())\n",
    "CNNlstm_4.add(MaxPooling3D(pool_size=(2, 2, 2)))\n",
    "\n",
    "\n",
    "CNNlstm_4.add(Flatten())\n",
    "CNNlstm_4.add(Dense(128,activation='relu'))\n",
    "CNNlstm_4.add(BatchNormalization())\n",
    "CNNlstm_4.add(Dropout(0.25))\n",
    "\n",
    "CNNlstm_4.add(Dense(128,activation='relu'))\n",
    "CNNlstm_4.add(BatchNormalization())\n",
    "CNNlstm_4.add(Dropout(0.25))\n",
    "\n",
    "\n",
    "CNNlstm_4.add(Dense(5,activation='softmax'))\n",
    "\n",
    "optimiser = tf.keras.optimizers.Adam()\n",
    "CNNlstm_4.compile(optimizer=optimiser, loss='categorical_crossentropy', metrics=['categorical_accuracy'])\n",
    "\n",
    "print (CNNlstm_4.summary())"
   ]
  },
  {
   "cell_type": "code",
   "execution_count": 44,
   "metadata": {},
   "outputs": [
    {
     "name": "stdout",
     "output_type": "stream",
     "text": [
      "Total Params in model: 1702645\n"
     ]
    }
   ],
   "source": [
    "print(\"Total Params in model:\", CNNlstm_4.count_params())"
   ]
  },
  {
   "cell_type": "code",
   "execution_count": 45,
   "metadata": {},
   "outputs": [
    {
     "name": "stdout",
     "output_type": "stream",
     "text": [
      "# training sequences = 663\n",
      "# validation sequences = 100\n",
      "# epochs = 25\n"
     ]
    }
   ],
   "source": [
    "batch_size = 20\n",
    "curr_dt_time = datetime.datetime.now()\n",
    "train_path = '/datasets/Project_data/train'\n",
    "val_path = '/datasets/Project_data/val'\n",
    "num_train_sequences = len(train_doc)\n",
    "print('# training sequences =', num_train_sequences)\n",
    "num_val_sequences = len(val_doc)\n",
    "print('# validation sequences =', num_val_sequences)\n",
    "# choose the number of epochs\n",
    "num_epochs = 25\n",
    "print ('# epochs =', num_epochs)"
   ]
  },
  {
   "cell_type": "code",
   "execution_count": 46,
   "metadata": {},
   "outputs": [
    {
     "name": "stdout",
     "output_type": "stream",
     "text": [
      "WARNING:tensorflow:`period` argument is deprecated. Please use `save_freq` to specify the frequency in number of batches seen.\n"
     ]
    }
   ],
   "source": [
    "train_generator = generatorLSTM(train_path, train_doc, batch_size)\n",
    "val_generator = generatorLSTM(val_path, val_doc, batch_size)\n",
    "\n",
    "model_name = 'model_init' + '_' + str(curr_dt_time).replace(' ','').replace(':','_') + '/'\n",
    "    \n",
    "if not os.path.exists(model_name):\n",
    "    os.mkdir(model_name)\n",
    "        \n",
    "filepath = model_name + 'model-{epoch:05d}-{loss:.5f}-{categorical_accuracy:.5f}-{val_loss:.5f}-{val_categorical_accuracy:.5f}.h5'\n",
    "\n",
    "checkpoint = ModelCheckpoint(filepath, monitor='val_loss', verbose=1, save_best_only=False, save_weights_only=False, mode='auto', period=1)\n",
    "\n",
    "# write the REducelronplateau code here\n",
    "LR = ReduceLROnPlateau(monitor='val_loss', factor=0.2, patience=4)\n",
    "\n",
    "callbacks_list = [checkpoint, LR]\n",
    "\n",
    "if (num_train_sequences%batch_size) == 0:\n",
    "    steps_per_epoch = int(num_train_sequences/batch_size)\n",
    "else:\n",
    "    steps_per_epoch = (num_train_sequences//batch_size) + 1\n",
    "\n",
    "if (num_val_sequences%batch_size) == 0:\n",
    "    validation_steps = int(num_val_sequences/batch_size)\n",
    "else:\n",
    "    validation_steps = (num_val_sequences//batch_size) + 1"
   ]
  },
  {
   "cell_type": "code",
   "execution_count": 48,
   "metadata": {},
   "outputs": [
    {
     "name": "stderr",
     "output_type": "stream",
     "text": [
      "/tmp/ipykernel_203/2772065864.py:1: UserWarning: `Model.fit_generator` is deprecated and will be removed in a future version. Please use `Model.fit`, which supports generators.\n",
      "  history = CNNlstm_4.fit_generator(train_generator, steps_per_epoch=steps_per_epoch, epochs=num_epochs, verbose=1,\n"
     ]
    },
    {
     "name": "stdout",
     "output_type": "stream",
     "text": [
      "Source path =  /datasets/Project_data/train ; batch size = 20\n",
      "Epoch 1/25\n",
      "34/34 [==============================] - ETA: 0s - loss: 1.6526 - categorical_accuracy: 0.4178Source path =  /datasets/Project_data/val ; batch size = 20\n",
      "\n",
      "Epoch 00001: saving model to model_init_2024-11-0421_18_33.766009/model-00001-1.65260-0.41780-1.80539-0.26000.h5\n",
      "34/34 [==============================] - 50s 1s/step - loss: 1.6526 - categorical_accuracy: 0.4178 - val_loss: 1.8054 - val_categorical_accuracy: 0.2600 - lr: 0.0010\n",
      "Epoch 2/25\n",
      "34/34 [==============================] - ETA: 0s - loss: 1.2464 - categorical_accuracy: 0.5400\n",
      "Epoch 00002: saving model to model_init_2024-11-0421_18_33.766009/model-00002-1.24637-0.53997-2.49667-0.24000.h5\n",
      "34/34 [==============================] - 47s 1s/step - loss: 1.2464 - categorical_accuracy: 0.5400 - val_loss: 2.4967 - val_categorical_accuracy: 0.2400 - lr: 0.0010\n",
      "Epoch 3/25\n",
      "34/34 [==============================] - ETA: 0s - loss: 1.0215 - categorical_accuracy: 0.6018\n",
      "Epoch 00003: saving model to model_init_2024-11-0421_18_33.766009/model-00003-1.02153-0.60181-5.05378-0.18000.h5\n",
      "34/34 [==============================] - 47s 1s/step - loss: 1.0215 - categorical_accuracy: 0.6018 - val_loss: 5.0538 - val_categorical_accuracy: 0.1800 - lr: 0.0010\n",
      "Epoch 4/25\n",
      "34/34 [==============================] - ETA: 0s - loss: 0.9465 - categorical_accuracy: 0.6531\n",
      "Epoch 00004: saving model to model_init_2024-11-0421_18_33.766009/model-00004-0.94650-0.65309-2.46816-0.22000.h5\n",
      "34/34 [==============================] - 47s 1s/step - loss: 0.9465 - categorical_accuracy: 0.6531 - val_loss: 2.4682 - val_categorical_accuracy: 0.2200 - lr: 0.0010\n",
      "Epoch 5/25\n",
      "34/34 [==============================] - ETA: 0s - loss: 0.8109 - categorical_accuracy: 0.7149\n",
      "Epoch 00005: saving model to model_init_2024-11-0421_18_33.766009/model-00005-0.81085-0.71493-2.29107-0.19000.h5\n",
      "34/34 [==============================] - 47s 1s/step - loss: 0.8109 - categorical_accuracy: 0.7149 - val_loss: 2.2911 - val_categorical_accuracy: 0.1900 - lr: 0.0010\n",
      "Epoch 6/25\n",
      "34/34 [==============================] - ETA: 0s - loss: 0.6230 - categorical_accuracy: 0.7466\n",
      "Epoch 00006: saving model to model_init_2024-11-0421_18_33.766009/model-00006-0.62300-0.74661-2.43989-0.25000.h5\n",
      "34/34 [==============================] - 47s 1s/step - loss: 0.6230 - categorical_accuracy: 0.7466 - val_loss: 2.4399 - val_categorical_accuracy: 0.2500 - lr: 2.0000e-04\n",
      "Epoch 7/25\n",
      "34/34 [==============================] - ETA: 0s - loss: 0.4980 - categorical_accuracy: 0.8250\n",
      "Epoch 00007: saving model to model_init_2024-11-0421_18_33.766009/model-00007-0.49801-0.82504-2.26151-0.33000.h5\n",
      "34/34 [==============================] - 46s 1s/step - loss: 0.4980 - categorical_accuracy: 0.8250 - val_loss: 2.2615 - val_categorical_accuracy: 0.3300 - lr: 2.0000e-04\n",
      "Epoch 8/25\n",
      "34/34 [==============================] - ETA: 0s - loss: 0.4215 - categorical_accuracy: 0.8356\n",
      "Epoch 00008: saving model to model_init_2024-11-0421_18_33.766009/model-00008-0.42149-0.83560-2.58011-0.24000.h5\n",
      "34/34 [==============================] - 47s 1s/step - loss: 0.4215 - categorical_accuracy: 0.8356 - val_loss: 2.5801 - val_categorical_accuracy: 0.2400 - lr: 2.0000e-04\n",
      "Epoch 9/25\n",
      "34/34 [==============================] - ETA: 0s - loss: 0.3803 - categorical_accuracy: 0.8673\n",
      "Epoch 00009: saving model to model_init_2024-11-0421_18_33.766009/model-00009-0.38025-0.86727-2.62776-0.25000.h5\n",
      "34/34 [==============================] - 47s 1s/step - loss: 0.3803 - categorical_accuracy: 0.8673 - val_loss: 2.6278 - val_categorical_accuracy: 0.2500 - lr: 2.0000e-04\n",
      "Epoch 10/25\n",
      "34/34 [==============================] - ETA: 0s - loss: 0.3627 - categorical_accuracy: 0.8658\n",
      "Epoch 00010: saving model to model_init_2024-11-0421_18_33.766009/model-00010-0.36269-0.86576-2.46057-0.28000.h5\n",
      "34/34 [==============================] - 47s 1s/step - loss: 0.3627 - categorical_accuracy: 0.8658 - val_loss: 2.4606 - val_categorical_accuracy: 0.2800 - lr: 4.0000e-05\n",
      "Epoch 11/25\n",
      "34/34 [==============================] - ETA: 0s - loss: 0.3500 - categorical_accuracy: 0.8733\n",
      "Epoch 00011: saving model to model_init_2024-11-0421_18_33.766009/model-00011-0.35005-0.87330-2.21453-0.30000.h5\n",
      "34/34 [==============================] - 47s 1s/step - loss: 0.3500 - categorical_accuracy: 0.8733 - val_loss: 2.2145 - val_categorical_accuracy: 0.3000 - lr: 4.0000e-05\n",
      "Epoch 12/25\n",
      "34/34 [==============================] - ETA: 0s - loss: 0.3720 - categorical_accuracy: 0.8839\n",
      "Epoch 00012: saving model to model_init_2024-11-0421_18_33.766009/model-00012-0.37200-0.88386-2.01390-0.32000.h5\n",
      "34/34 [==============================] - 47s 1s/step - loss: 0.3720 - categorical_accuracy: 0.8839 - val_loss: 2.0139 - val_categorical_accuracy: 0.3200 - lr: 4.0000e-05\n",
      "Epoch 13/25\n",
      "34/34 [==============================] - ETA: 0s - loss: 0.3774 - categorical_accuracy: 0.8612\n",
      "Epoch 00013: saving model to model_init_2024-11-0421_18_33.766009/model-00013-0.37741-0.86124-1.62745-0.40000.h5\n",
      "34/34 [==============================] - 47s 1s/step - loss: 0.3774 - categorical_accuracy: 0.8612 - val_loss: 1.6274 - val_categorical_accuracy: 0.4000 - lr: 4.0000e-05\n",
      "Epoch 14/25\n",
      "34/34 [==============================] - ETA: 0s - loss: 0.3458 - categorical_accuracy: 0.8688\n",
      "Epoch 00014: saving model to model_init_2024-11-0421_18_33.766009/model-00014-0.34581-0.86878-1.67655-0.46000.h5\n",
      "34/34 [==============================] - 48s 1s/step - loss: 0.3458 - categorical_accuracy: 0.8688 - val_loss: 1.6765 - val_categorical_accuracy: 0.4600 - lr: 4.0000e-05\n",
      "Epoch 15/25\n",
      "34/34 [==============================] - ETA: 0s - loss: 0.3629 - categorical_accuracy: 0.8612\n",
      "Epoch 00015: saving model to model_init_2024-11-0421_18_33.766009/model-00015-0.36285-0.86124-1.11870-0.63000.h5\n",
      "34/34 [==============================] - 48s 1s/step - loss: 0.3629 - categorical_accuracy: 0.8612 - val_loss: 1.1187 - val_categorical_accuracy: 0.6300 - lr: 4.0000e-05\n",
      "Epoch 16/25\n",
      "34/34 [==============================] - ETA: 0s - loss: 0.3297 - categorical_accuracy: 0.8929\n",
      "Epoch 00016: saving model to model_init_2024-11-0421_18_33.766009/model-00016-0.32973-0.89291-1.05641-0.62000.h5\n",
      "34/34 [==============================] - 49s 1s/step - loss: 0.3297 - categorical_accuracy: 0.8929 - val_loss: 1.0564 - val_categorical_accuracy: 0.6200 - lr: 4.0000e-05\n",
      "Epoch 17/25\n",
      "34/34 [==============================] - ETA: 0s - loss: 0.3473 - categorical_accuracy: 0.8959\n",
      "Epoch 00017: saving model to model_init_2024-11-0421_18_33.766009/model-00017-0.34726-0.89593-0.89064-0.68000.h5\n",
      "34/34 [==============================] - 47s 1s/step - loss: 0.3473 - categorical_accuracy: 0.8959 - val_loss: 0.8906 - val_categorical_accuracy: 0.6800 - lr: 4.0000e-05\n",
      "Epoch 18/25\n",
      "34/34 [==============================] - ETA: 0s - loss: 0.3412 - categorical_accuracy: 0.8824\n",
      "Epoch 00018: saving model to model_init_2024-11-0421_18_33.766009/model-00018-0.34117-0.88235-0.71990-0.75000.h5\n",
      "34/34 [==============================] - 46s 1s/step - loss: 0.3412 - categorical_accuracy: 0.8824 - val_loss: 0.7199 - val_categorical_accuracy: 0.7500 - lr: 4.0000e-05\n",
      "Epoch 19/25\n",
      "34/34 [==============================] - ETA: 0s - loss: 0.3161 - categorical_accuracy: 0.8989\n",
      "Epoch 00019: saving model to model_init_2024-11-0421_18_33.766009/model-00019-0.31609-0.89894-0.76736-0.68000.h5\n",
      "34/34 [==============================] - 47s 1s/step - loss: 0.3161 - categorical_accuracy: 0.8989 - val_loss: 0.7674 - val_categorical_accuracy: 0.6800 - lr: 4.0000e-05\n",
      "Epoch 20/25\n",
      "34/34 [==============================] - ETA: 0s - loss: 0.2820 - categorical_accuracy: 0.9065\n",
      "Epoch 00020: saving model to model_init_2024-11-0421_18_33.766009/model-00020-0.28199-0.90649-0.65667-0.79000.h5\n",
      "34/34 [==============================] - 47s 1s/step - loss: 0.2820 - categorical_accuracy: 0.9065 - val_loss: 0.6567 - val_categorical_accuracy: 0.7900 - lr: 4.0000e-05\n",
      "Epoch 21/25\n",
      "34/34 [==============================] - ETA: 0s - loss: 0.3347 - categorical_accuracy: 0.8824\n",
      "Epoch 00021: saving model to model_init_2024-11-0421_18_33.766009/model-00021-0.33469-0.88235-0.61986-0.76000.h5\n",
      "34/34 [==============================] - 47s 1s/step - loss: 0.3347 - categorical_accuracy: 0.8824 - val_loss: 0.6199 - val_categorical_accuracy: 0.7600 - lr: 4.0000e-05\n",
      "Epoch 22/25\n",
      "34/34 [==============================] - ETA: 0s - loss: 0.2627 - categorical_accuracy: 0.9050\n",
      "Epoch 00022: saving model to model_init_2024-11-0421_18_33.766009/model-00022-0.26272-0.90498-0.57832-0.76000.h5\n",
      "34/34 [==============================] - 47s 1s/step - loss: 0.2627 - categorical_accuracy: 0.9050 - val_loss: 0.5783 - val_categorical_accuracy: 0.7600 - lr: 4.0000e-05\n",
      "Epoch 23/25\n",
      "34/34 [==============================] - ETA: 0s - loss: 0.2281 - categorical_accuracy: 0.9216\n",
      "Epoch 00023: saving model to model_init_2024-11-0421_18_33.766009/model-00023-0.22809-0.92157-0.55412-0.76000.h5\n",
      "34/34 [==============================] - 46s 1s/step - loss: 0.2281 - categorical_accuracy: 0.9216 - val_loss: 0.5541 - val_categorical_accuracy: 0.7600 - lr: 4.0000e-05\n",
      "Epoch 24/25\n",
      "34/34 [==============================] - ETA: 0s - loss: 0.2516 - categorical_accuracy: 0.9170\n",
      "Epoch 00024: saving model to model_init_2024-11-0421_18_33.766009/model-00024-0.25163-0.91704-0.46573-0.79000.h5\n",
      "34/34 [==============================] - 47s 1s/step - loss: 0.2516 - categorical_accuracy: 0.9170 - val_loss: 0.4657 - val_categorical_accuracy: 0.7900 - lr: 4.0000e-05\n",
      "Epoch 25/25\n",
      "34/34 [==============================] - ETA: 0s - loss: 0.3358 - categorical_accuracy: 0.8658\n",
      "Epoch 00025: saving model to model_init_2024-11-0421_18_33.766009/model-00025-0.33578-0.86576-0.45202-0.81000.h5\n",
      "34/34 [==============================] - 47s 1s/step - loss: 0.3358 - categorical_accuracy: 0.8658 - val_loss: 0.4520 - val_categorical_accuracy: 0.8100 - lr: 4.0000e-05\n"
     ]
    }
   ],
   "source": [
    "history = CNNlstm_4.fit_generator(train_generator, steps_per_epoch=steps_per_epoch, epochs=num_epochs, verbose=1, \n",
    "                    callbacks=callbacks_list, validation_data=val_generator, \n",
    "                    validation_steps=validation_steps, class_weight=None, workers=1, initial_epoch=0)"
   ]
  },
  {
   "cell_type": "code",
   "execution_count": 49,
   "metadata": {},
   "outputs": [
    {
     "data": {
      "image/png": "[encoded data removed]",
      "text/plain": [
       "<Figure size 432x288 with 1 Axes>"
      ]
     },
     "metadata": {
      "needs_background": "light"
     },
     "output_type": "display_data"
    },
    {
     "data": {
      "image/png": "[encoded data removed]",
      "text/plain": [
       "<Figure size 432x288 with 1 Axes>"
      ]
     },
     "metadata": {
      "needs_background": "light"
     },
     "output_type": "display_data"
    }
   ],
   "source": [
    "# Plotting the result of Model 9 :\n",
    "\n",
    "# summarize history for accuracy\n",
    "plt.plot(history.history['categorical_accuracy'])\n",
    "plt.plot(history.history['val_categorical_accuracy'])\n",
    "plt.title('model accuracy')\n",
    "plt.ylabel('accuracy')\n",
    "plt.xlabel('epoch')\n",
    "plt.legend(['train', 'test'], loc='upper left')\n",
    "plt.show()\n",
    "\n",
    "# summarize history for loss\n",
    "plt.plot(history.history['loss'])\n",
    "plt.plot(history.history['val_loss'])\n",
    "plt.title('model loss')\n",
    "plt.ylabel('loss')\n",
    "plt.xlabel('epoch')\n",
    "plt.legend(['train', 'test'], loc='upper left')\n",
    "plt.show()\n"
   ]
  },
  {
   "cell_type": "markdown",
   "metadata": {},
   "source": [
    "### Got best test accuracy of 86.58% and validation accuracy of 81% "
   ]
  },
  {
   "cell_type": "markdown",
   "metadata": {},
   "source": [
    "# Model 10.\n",
    "## CNN LSTM with GRU"
   ]
  },
  {
   "cell_type": "code",
   "execution_count": 50,
   "metadata": {},
   "outputs": [
    {
     "name": "stdout",
     "output_type": "stream",
     "text": [
      "Model: \"sequential_6\"\n",
      "_________________________________________________________________\n",
      " Layer (type)                Output Shape              Param #   \n",
      "=================================================================\n",
      " time_distributed_32 (TimeDi  (None, 30, 120, 120, 16)  448      \n",
      " stributed)                                                      \n",
      "                                                                 \n",
      " time_distributed_33 (TimeDi  (None, 30, 120, 120, 16)  64       \n",
      " stributed)                                                      \n",
      "                                                                 \n",
      " time_distributed_34 (TimeDi  (None, 30, 60, 60, 16)   0         \n",
      " stributed)                                                      \n",
      "                                                                 \n",
      " time_distributed_35 (TimeDi  (None, 30, 60, 60, 32)   4640      \n",
      " stributed)                                                      \n",
      "                                                                 \n",
      " time_distributed_36 (TimeDi  (None, 30, 60, 60, 32)   128       \n",
      " stributed)                                                      \n",
      "                                                                 \n",
      " time_distributed_37 (TimeDi  (None, 30, 30, 30, 32)   0         \n",
      " stributed)                                                      \n",
      "                                                                 \n",
      " time_distributed_38 (TimeDi  (None, 30, 30, 30, 64)   18496     \n",
      " stributed)                                                      \n",
      "                                                                 \n",
      " time_distributed_39 (TimeDi  (None, 30, 30, 30, 64)   256       \n",
      " stributed)                                                      \n",
      "                                                                 \n",
      " time_distributed_40 (TimeDi  (None, 30, 15, 15, 64)   0         \n",
      " stributed)                                                      \n",
      "                                                                 \n",
      " time_distributed_41 (TimeDi  (None, 30, 15, 15, 128)  73856     \n",
      " stributed)                                                      \n",
      "                                                                 \n",
      " time_distributed_42 (TimeDi  (None, 30, 15, 15, 128)  512       \n",
      " stributed)                                                      \n",
      "                                                                 \n",
      " time_distributed_43 (TimeDi  (None, 30, 7, 7, 128)    0         \n",
      " stributed)                                                      \n",
      "                                                                 \n",
      " time_distributed_44 (TimeDi  (None, 30, 6272)         0         \n",
      " stributed)                                                      \n",
      "                                                                 \n",
      " gru (GRU)                   (None, 128)               2457984   \n",
      "                                                                 \n",
      " dropout_13 (Dropout)        (None, 128)               0         \n",
      "                                                                 \n",
      " dense_16 (Dense)            (None, 128)               16512     \n",
      "                                                                 \n",
      " dropout_14 (Dropout)        (None, 128)               0         \n",
      "                                                                 \n",
      " dense_17 (Dense)            (None, 5)                 645       \n",
      "                                                                 \n",
      "=================================================================\n",
      "Total params: 2,573,541\n",
      "Trainable params: 2,573,061\n",
      "Non-trainable params: 480\n",
      "_________________________________________________________________\n",
      "None\n"
     ]
    }
   ],
   "source": [
    "input_shape=(30,120,120,3)\n",
    "\n",
    "GRU_lstm = Sequential()\n",
    "\n",
    "GRU_lstm.add(TimeDistributed(Conv2D(16, (3, 3) , padding='same', activation='relu'),\n",
    "                          input_shape=(input_shape)))\n",
    "GRU_lstm.add(TimeDistributed(BatchNormalization()))\n",
    "GRU_lstm.add(TimeDistributed(MaxPooling2D((2, 2))))\n",
    "\n",
    "GRU_lstm.add(TimeDistributed(Conv2D(32, (3, 3) , padding='same', activation='relu')))\n",
    "GRU_lstm.add(TimeDistributed(BatchNormalization()))\n",
    "GRU_lstm.add(TimeDistributed(MaxPooling2D((2, 2))))\n",
    "\n",
    "GRU_lstm.add(TimeDistributed(Conv2D(64, (3, 3) , padding='same', activation='relu')))\n",
    "GRU_lstm.add(TimeDistributed(BatchNormalization()))\n",
    "GRU_lstm.add(TimeDistributed(MaxPooling2D((2, 2))))\n",
    "\n",
    "GRU_lstm.add(TimeDistributed(Conv2D(128, (3, 3) , padding='same', activation='relu')))\n",
    "GRU_lstm.add(TimeDistributed(BatchNormalization()))\n",
    "GRU_lstm.add(TimeDistributed(MaxPooling2D((2, 2))))\n",
    "\n",
    "\n",
    "GRU_lstm.add(TimeDistributed(Flatten()))\n",
    "\n",
    "\n",
    "GRU_lstm.add(GRU(128))\n",
    "GRU_lstm.add(Dropout(0.25))\n",
    "\n",
    "GRU_lstm.add(Dense(128,activation='relu'))\n",
    "GRU_lstm.add(Dropout(0.25))\n",
    "\n",
    "GRU_lstm.add(Dense(5, activation='softmax'))\n",
    "optimiser = tf.keras.optimizers.Adam()\n",
    "GRU_lstm.compile(optimizer=optimiser, loss='categorical_crossentropy', metrics=['categorical_accuracy'])\n",
    "print (GRU_lstm.summary())"
   ]
  },
  {
   "cell_type": "code",
   "execution_count": 51,
   "metadata": {},
   "outputs": [
    {
     "name": "stdout",
     "output_type": "stream",
     "text": [
      "Total Params in model: 2573541\n"
     ]
    }
   ],
   "source": [
    "print(\"Total Params in model:\", GRU_lstm.count_params())"
   ]
  },
  {
   "cell_type": "code",
   "execution_count": 52,
   "metadata": {},
   "outputs": [
    {
     "name": "stdout",
     "output_type": "stream",
     "text": [
      "# training sequences = 663\n",
      "# validation sequences = 100\n",
      "# epochs = 20\n"
     ]
    }
   ],
   "source": [
    "batch_size = 20\n",
    "curr_dt_time = datetime.datetime.now()\n",
    "train_path = '/datasets/Project_data/train'\n",
    "val_path = '/datasets/Project_data/val'\n",
    "num_train_sequences = len(train_doc)\n",
    "print('# training sequences =', num_train_sequences)\n",
    "num_val_sequences = len(val_doc)\n",
    "print('# validation sequences =', num_val_sequences)\n",
    "# choose the number of epochs\n",
    "num_epochs = 20\n",
    "print ('# epochs =', num_epochs)"
   ]
  },
  {
   "cell_type": "code",
   "execution_count": 53,
   "metadata": {},
   "outputs": [
    {
     "name": "stdout",
     "output_type": "stream",
     "text": [
      "WARNING:tensorflow:`period` argument is deprecated. Please use `save_freq` to specify the frequency in number of batches seen.\n"
     ]
    }
   ],
   "source": [
    "train_generator = generatorLSTM(train_path, train_doc, batch_size)\n",
    "val_generator = generatorLSTM(val_path, val_doc, batch_size)\n",
    "\n",
    "model_name = 'model_init' + '_' + str(curr_dt_time).replace(' ','').replace(':','_') + '/'\n",
    "    \n",
    "if not os.path.exists(model_name):\n",
    "    os.mkdir(model_name)\n",
    "        \n",
    "filepath = model_name + 'model-{epoch:05d}-{loss:.5f}-{categorical_accuracy:.5f}-{val_loss:.5f}-{val_categorical_accuracy:.5f}.h5'\n",
    "\n",
    "checkpoint = ModelCheckpoint(filepath, monitor='val_loss', verbose=1, save_best_only=False, save_weights_only=False, mode='auto', period=1)\n",
    "\n",
    "# write the REducelronplateau code here\n",
    "LR = ReduceLROnPlateau(monitor='val_loss', factor=0.2, patience=4)\n",
    "\n",
    "callbacks_list = [checkpoint, LR]\n",
    "\n",
    "if (num_train_sequences%batch_size) == 0:\n",
    "    steps_per_epoch = int(num_train_sequences/batch_size)\n",
    "else:\n",
    "    steps_per_epoch = (num_train_sequences//batch_size) + 1\n",
    "\n",
    "if (num_val_sequences%batch_size) == 0:\n",
    "    validation_steps = int(num_val_sequences/batch_size)\n",
    "else:\n",
    "    validation_steps = (num_val_sequences//batch_size) + 1"
   ]
  },
  {
   "cell_type": "code",
   "execution_count": 54,
   "metadata": {},
   "outputs": [
    {
     "name": "stderr",
     "output_type": "stream",
     "text": [
      "/tmp/ipykernel_203/3182088282.py:1: UserWarning: `Model.fit_generator` is deprecated and will be removed in a future version. Please use `Model.fit`, which supports generators.\n",
      "  history = GRU_lstm.fit_generator(train_generator, steps_per_epoch=steps_per_epoch, epochs=num_epochs, verbose=1,\n"
     ]
    },
    {
     "name": "stdout",
     "output_type": "stream",
     "text": [
      "Source path =  /datasets/Project_data/train ; batch size = 20\n",
      "Epoch 1/20\n",
      "34/34 [==============================] - ETA: 0s - loss: 1.5041 - categorical_accuracy: 0.3529Source path =  /datasets/Project_data/val ; batch size = 20\n",
      "\n",
      "Epoch 00001: saving model to model_init_2024-11-0421_39_56.053200/model-00001-1.50414-0.35294-1.73302-0.24000.h5\n",
      "34/34 [==============================] - 51s 1s/step - loss: 1.5041 - categorical_accuracy: 0.3529 - val_loss: 1.7330 - val_categorical_accuracy: 0.2400 - lr: 0.0010\n",
      "Epoch 2/20\n",
      "34/34 [==============================] - ETA: 0s - loss: 1.1813 - categorical_accuracy: 0.4932\n",
      "Epoch 00002: saving model to model_init_2024-11-0421_39_56.053200/model-00002-1.18129-0.49321-1.98680-0.16000.h5\n",
      "34/34 [==============================] - 48s 1s/step - loss: 1.1813 - categorical_accuracy: 0.4932 - val_loss: 1.9868 - val_categorical_accuracy: 0.1600 - lr: 0.0010\n",
      "Epoch 3/20\n",
      "34/34 [==============================] - ETA: 0s - loss: 1.0681 - categorical_accuracy: 0.5641\n",
      "Epoch 00003: saving model to model_init_2024-11-0421_39_56.053200/model-00003-1.06813-0.56410-2.05599-0.24000.h5\n",
      "34/34 [==============================] - 47s 1s/step - loss: 1.0681 - categorical_accuracy: 0.5641 - val_loss: 2.0560 - val_categorical_accuracy: 0.2400 - lr: 0.0010\n",
      "Epoch 4/20\n",
      "34/34 [==============================] - ETA: 0s - loss: 0.9508 - categorical_accuracy: 0.5807\n",
      "Epoch 00004: saving model to model_init_2024-11-0421_39_56.053200/model-00004-0.95080-0.58069-1.88732-0.22000.h5\n",
      "34/34 [==============================] - 48s 1s/step - loss: 0.9508 - categorical_accuracy: 0.5807 - val_loss: 1.8873 - val_categorical_accuracy: 0.2200 - lr: 0.0010\n",
      "Epoch 5/20\n",
      "34/34 [==============================] - ETA: 0s - loss: 0.8626 - categorical_accuracy: 0.6425\n",
      "Epoch 00005: saving model to model_init_2024-11-0421_39_56.053200/model-00005-0.86258-0.64253-2.29981-0.26000.h5\n",
      "34/34 [==============================] - 47s 1s/step - loss: 0.8626 - categorical_accuracy: 0.6425 - val_loss: 2.2998 - val_categorical_accuracy: 0.2600 - lr: 0.0010\n",
      "Epoch 6/20\n",
      "34/34 [==============================] - ETA: 0s - loss: 0.7249 - categorical_accuracy: 0.6968\n",
      "Epoch 00006: saving model to model_init_2024-11-0421_39_56.053200/model-00006-0.72489-0.69683-2.46915-0.24000.h5\n",
      "34/34 [==============================] - 47s 1s/step - loss: 0.7249 - categorical_accuracy: 0.6968 - val_loss: 2.4691 - val_categorical_accuracy: 0.2400 - lr: 2.0000e-04\n",
      "Epoch 7/20\n",
      "34/34 [==============================] - ETA: 0s - loss: 0.6404 - categorical_accuracy: 0.7541\n",
      "Epoch 00007: saving model to model_init_2024-11-0421_39_56.053200/model-00007-0.64040-0.75415-2.52314-0.23000.h5\n",
      "34/34 [==============================] - 46s 1s/step - loss: 0.6404 - categorical_accuracy: 0.7541 - val_loss: 2.5231 - val_categorical_accuracy: 0.2300 - lr: 2.0000e-04\n",
      "Epoch 8/20\n",
      "34/34 [==============================] - ETA: 0s - loss: 0.5424 - categorical_accuracy: 0.7934\n",
      "Epoch 00008: saving model to model_init_2024-11-0421_39_56.053200/model-00008-0.54238-0.79336-2.21314-0.33000.h5\n",
      "34/34 [==============================] - 47s 1s/step - loss: 0.5424 - categorical_accuracy: 0.7934 - val_loss: 2.2131 - val_categorical_accuracy: 0.3300 - lr: 2.0000e-04\n",
      "Epoch 9/20\n",
      "34/34 [==============================] - ETA: 0s - loss: 0.5045 - categorical_accuracy: 0.8160\n",
      "Epoch 00009: saving model to model_init_2024-11-0421_39_56.053200/model-00009-0.50454-0.81599-2.44341-0.26000.h5\n",
      "34/34 [==============================] - 47s 1s/step - loss: 0.5045 - categorical_accuracy: 0.8160 - val_loss: 2.4434 - val_categorical_accuracy: 0.2600 - lr: 2.0000e-04\n",
      "Epoch 10/20\n",
      "34/34 [==============================] - ETA: 0s - loss: 0.4579 - categorical_accuracy: 0.8326\n",
      "Epoch 00010: saving model to model_init_2024-11-0421_39_56.053200/model-00010-0.45786-0.83258-2.14733-0.35000.h5\n",
      "34/34 [==============================] - 49s 1s/step - loss: 0.4579 - categorical_accuracy: 0.8326 - val_loss: 2.1473 - val_categorical_accuracy: 0.3500 - lr: 4.0000e-05\n",
      "Epoch 11/20\n",
      "34/34 [==============================] - ETA: 0s - loss: 0.4259 - categorical_accuracy: 0.8627\n",
      "Epoch 00011: saving model to model_init_2024-11-0421_39_56.053200/model-00011-0.42593-0.86275-2.07935-0.37000.h5\n",
      "34/34 [==============================] - 48s 1s/step - loss: 0.4259 - categorical_accuracy: 0.8627 - val_loss: 2.0794 - val_categorical_accuracy: 0.3700 - lr: 4.0000e-05\n",
      "Epoch 12/20\n",
      "34/34 [==============================] - ETA: 0s - loss: 0.4226 - categorical_accuracy: 0.8446\n",
      "Epoch 00012: saving model to model_init_2024-11-0421_39_56.053200/model-00012-0.42257-0.84465-1.79871-0.42000.h5\n",
      "34/34 [==============================] - 46s 1s/step - loss: 0.4226 - categorical_accuracy: 0.8446 - val_loss: 1.7987 - val_categorical_accuracy: 0.4200 - lr: 4.0000e-05\n",
      "Epoch 13/20\n",
      "34/34 [==============================] - ETA: 0s - loss: 0.4017 - categorical_accuracy: 0.8552\n",
      "Epoch 00013: saving model to model_init_2024-11-0421_39_56.053200/model-00013-0.40169-0.85520-1.40125-0.40000.h5\n",
      "34/34 [==============================] - 47s 1s/step - loss: 0.4017 - categorical_accuracy: 0.8552 - val_loss: 1.4012 - val_categorical_accuracy: 0.4000 - lr: 4.0000e-05\n",
      "Epoch 14/20\n",
      "34/34 [==============================] - ETA: 0s - loss: 0.3990 - categorical_accuracy: 0.8627\n",
      "Epoch 00014: saving model to model_init_2024-11-0421_39_56.053200/model-00014-0.39895-0.86275-1.31727-0.57000.h5\n",
      "34/34 [==============================] - 47s 1s/step - loss: 0.3990 - categorical_accuracy: 0.8627 - val_loss: 1.3173 - val_categorical_accuracy: 0.5700 - lr: 4.0000e-05\n",
      "Epoch 15/20\n",
      "34/34 [==============================] - ETA: 0s - loss: 0.4015 - categorical_accuracy: 0.8627\n",
      "Epoch 00015: saving model to model_init_2024-11-0421_39_56.053200/model-00015-0.40147-0.86275-1.11831-0.60000.h5\n",
      "34/34 [==============================] - 47s 1s/step - loss: 0.4015 - categorical_accuracy: 0.8627 - val_loss: 1.1183 - val_categorical_accuracy: 0.6000 - lr: 4.0000e-05\n",
      "Epoch 16/20\n",
      "34/34 [==============================] - ETA: 0s - loss: 0.3677 - categorical_accuracy: 0.8884\n",
      "Epoch 00016: saving model to model_init_2024-11-0421_39_56.053200/model-00016-0.36775-0.88839-0.98148-0.62000.h5\n",
      "34/34 [==============================] - 48s 1s/step - loss: 0.3677 - categorical_accuracy: 0.8884 - val_loss: 0.9815 - val_categorical_accuracy: 0.6200 - lr: 4.0000e-05\n",
      "Epoch 17/20\n",
      "34/34 [==============================] - ETA: 0s - loss: 0.3726 - categorical_accuracy: 0.8763\n",
      "Epoch 00017: saving model to model_init_2024-11-0421_39_56.053200/model-00017-0.37263-0.87632-1.02811-0.66000.h5\n",
      "34/34 [==============================] - 48s 1s/step - loss: 0.3726 - categorical_accuracy: 0.8763 - val_loss: 1.0281 - val_categorical_accuracy: 0.6600 - lr: 4.0000e-05\n",
      "Epoch 18/20\n",
      "34/34 [==============================] - ETA: 0s - loss: 0.3550 - categorical_accuracy: 0.8914\n",
      "Epoch 00018: saving model to model_init_2024-11-0421_39_56.053200/model-00018-0.35498-0.89140-0.70518-0.74000.h5\n",
      "34/34 [==============================] - 47s 1s/step - loss: 0.3550 - categorical_accuracy: 0.8914 - val_loss: 0.7052 - val_categorical_accuracy: 0.7400 - lr: 4.0000e-05\n",
      "Epoch 19/20\n",
      "34/34 [==============================] - ETA: 0s - loss: 0.3123 - categorical_accuracy: 0.9035\n",
      "Epoch 00019: saving model to model_init_2024-11-0421_39_56.053200/model-00019-0.31231-0.90347-0.71179-0.66000.h5\n",
      "34/34 [==============================] - 48s 1s/step - loss: 0.3123 - categorical_accuracy: 0.9035 - val_loss: 0.7118 - val_categorical_accuracy: 0.6600 - lr: 4.0000e-05\n",
      "Epoch 20/20\n",
      "34/34 [==============================] - ETA: 0s - loss: 0.3290 - categorical_accuracy: 0.8929\n",
      "Epoch 00020: saving model to model_init_2024-11-0421_39_56.053200/model-00020-0.32901-0.89291-0.67610-0.72000.h5\n",
      "34/34 [==============================] - 51s 2s/step - loss: 0.3290 - categorical_accuracy: 0.8929 - val_loss: 0.6761 - val_categorical_accuracy: 0.7200 - lr: 4.0000e-05\n"
     ]
    }
   ],
   "source": [
    "history = GRU_lstm.fit_generator(train_generator, steps_per_epoch=steps_per_epoch, epochs=num_epochs, verbose=1, \n",
    "                    callbacks=callbacks_list, validation_data=val_generator, \n",
    "                    validation_steps=validation_steps, class_weight=None, workers=1, initial_epoch=0)"
   ]
  },
  {
   "cell_type": "code",
   "execution_count": 55,
   "metadata": {},
   "outputs": [
    {
     "data": {
      "image/png": "[encoded data removed]",
      "text/plain": [
       "<Figure size 432x288 with 1 Axes>"
      ]
     },
     "metadata": {
      "needs_background": "light"
     },
     "output_type": "display_data"
    },
    {
     "data": {
      "image/png": "[encoded data removed]",
      "text/plain": [
       "<Figure size 432x288 with 1 Axes>"
      ]
     },
     "metadata": {
      "needs_background": "light"
     },
     "output_type": "display_data"
    }
   ],
   "source": [
    "# Plotting the result of Model 10 :\n",
    "\n",
    "# summarize history for accuracy\n",
    "plt.plot(history.history['categorical_accuracy'])\n",
    "plt.plot(history.history['val_categorical_accuracy'])\n",
    "plt.title('model accuracy')\n",
    "plt.ylabel('accuracy')\n",
    "plt.xlabel('epoch')\n",
    "plt.legend(['train', 'test'], loc='upper left')\n",
    "plt.show()\n",
    "\n",
    "# summarize history for loss\n",
    "plt.plot(history.history['loss'])\n",
    "plt.plot(history.history['val_loss'])\n",
    "plt.title('model loss')\n",
    "plt.ylabel('loss')\n",
    "plt.xlabel('epoch')\n",
    "plt.legend(['train', 'test'], loc='upper left')\n",
    "plt.show()\n"
   ]
  },
  {
   "cell_type": "markdown",
   "metadata": {},
   "source": [
    "### We have got best test accuracy of 89.29 % and val accuracy of 72 %"
   ]
  },
  {
   "cell_type": "markdown",
   "metadata": {},
   "source": [
    "# Model 11\n",
    "## Model with Transfer Learning"
   ]
  },
  {
   "cell_type": "code",
   "execution_count": 57,
   "metadata": {},
   "outputs": [
    {
     "name": "stdout",
     "output_type": "stream",
     "text": [
      "WARNING:tensorflow:`input_shape` is undefined or non-square, or `rows` is not in [128, 160, 192, 224]. Weights for input shape (224, 224) will be loaded as the default.\n"
     ]
    }
   ],
   "source": [
    "# Importing the transfer learning model:\n",
    "from keras.applications import mobilenet\n",
    "\n",
    "mobilenet_transfer = mobilenet.MobileNet(weights='imagenet', include_top=False)"
   ]
  },
  {
   "cell_type": "code",
   "execution_count": null,
   "metadata": {},
   "outputs": [],
   "source": [
    "# MobileNet V2 model accepts one of the following formats: (96, 96), (128, 128), (160, 160),(192, 192), or (224, 224).\n",
    "# Hence, we have got this warning for the input as we have not specified the input size while import."
   ]
  },
  {
   "cell_type": "code",
   "execution_count": 58,
   "metadata": {},
   "outputs": [
    {
     "name": "stdout",
     "output_type": "stream",
     "text": [
      "Model: \"sequential_8\"\n",
      "_________________________________________________________________\n",
      " Layer (type)                Output Shape              Param #   \n",
      "=================================================================\n",
      " time_distributed_45 (TimeDi  (None, 18, 3, 3, 1024)   3228864   \n",
      " stributed)                                                      \n",
      "                                                                 \n",
      " time_distributed_46 (TimeDi  (None, 18, 3, 3, 1024)   4096      \n",
      " stributed)                                                      \n",
      "                                                                 \n",
      " time_distributed_47 (TimeDi  (None, 18, 1, 1, 1024)   0         \n",
      " stributed)                                                      \n",
      "                                                                 \n",
      " time_distributed_48 (TimeDi  (None, 18, 1024)         0         \n",
      " stributed)                                                      \n",
      "                                                                 \n",
      " lstm_2 (LSTM)               (None, 128)               590336    \n",
      "                                                                 \n",
      " dropout_15 (Dropout)        (None, 128)               0         \n",
      "                                                                 \n",
      " dense_18 (Dense)            (None, 128)               16512     \n",
      "                                                                 \n",
      " dropout_16 (Dropout)        (None, 128)               0         \n",
      "                                                                 \n",
      " dense_19 (Dense)            (None, 5)                 645       \n",
      "                                                                 \n",
      "=================================================================\n",
      "Total params: 3,840,453\n",
      "Trainable params: 609,541\n",
      "Non-trainable params: 3,230,912\n",
      "_________________________________________________________________\n",
      "None\n"
     ]
    }
   ],
   "source": [
    "# Building the model :\n",
    "\n",
    "input_shape = (18,120,120,3)\n",
    "        \n",
    "mobileNetModel= Sequential()\n",
    "mobileNetModel.add(TimeDistributed(mobilenet_transfer,input_shape=(input_shape)))\n",
    "\n",
    "\n",
    "for layer in mobileNetModel.layers:\n",
    "    layer.trainable = False\n",
    "\n",
    "\n",
    "mobileNetModel.add(TimeDistributed(BatchNormalization()))\n",
    "mobileNetModel.add(TimeDistributed(MaxPooling2D((2, 2))))\n",
    "mobileNetModel.add(TimeDistributed(Flatten()))\n",
    "\n",
    "mobileNetModel.add(LSTM(128))\n",
    "mobileNetModel.add(Dropout(0.25))\n",
    "\n",
    "mobileNetModel.add(Dense(128,activation='relu'))\n",
    "mobileNetModel.add(Dropout(0.25))\n",
    "\n",
    "mobileNetModel.add(Dense(5, activation='softmax'))\n",
    "\n",
    "\n",
    "optimiser = tf.keras.optimizers.Adam()\n",
    "mobileNetModel.compile(optimizer=optimiser, loss='categorical_crossentropy', metrics=['categorical_accuracy'])\n",
    "print (mobileNetModel.summary())"
   ]
  },
  {
   "cell_type": "code",
   "execution_count": 59,
   "metadata": {},
   "outputs": [
    {
     "name": "stdout",
     "output_type": "stream",
     "text": [
      "Total Params in model: 3840453\n"
     ]
    }
   ],
   "source": [
    "print(\"Total Params in model:\", mobileNetModel.count_params())"
   ]
  },
  {
   "cell_type": "code",
   "execution_count": 60,
   "metadata": {},
   "outputs": [],
   "source": [
    "def generatorMobileNet(source_path, folder_list, batch_size):\n",
    "    print( 'Source path = ', source_path, '; batch size =', batch_size)\n",
    "    \n",
    "    #create a list of image numbers you want to use for a particular video\n",
    "    img_idx = [1,2,4,6,7,8,10,12,14,16,18,20,21,22,24,26,27,29]\n",
    "    #list(range(0,29,2))\n",
    "    \n",
    "    while True:\n",
    "        t = np.random.permutation(folder_list)\n",
    "        \n",
    "# calculate the number of batches\n",
    "        num_batches = int(len(t)/batch_size)\n",
    "        \n",
    "# we iterate over the number of batches\n",
    "        for batch in range(num_batches): \n",
    "            \n",
    "# x is the number of images you use for each video, (y,z) is the final size of the input images and 3 is the number of channels RGB          \n",
    "            batch_data = np.zeros((batch_size,18,120,120,3))\n",
    "# batch_labels is the one hot representation of the output\n",
    "            batch_labels = np.zeros((batch_size,5))\n",
    "\n",
    "# iterate over the batch_size    \n",
    "            for folder in range(batch_size): \n",
    "# read all the images in the folder        \n",
    "                imgs = os.listdir(source_path+'/'+ t[folder + (batch*batch_size)].split(';')[0]) \n",
    "#  Iterate over the frames/images of a folder to read them in    \n",
    "                for idx,item in enumerate(img_idx):\n",
    "                    image = cv2.imread(source_path+'/'+ t[folder + (batch*batch_size)].strip().split(';')[0]+'/'+imgs[item],cv2.IMREAD_UNCHANGED).astype(np.float32)\n",
    "                    \n",
    "#crop the images and resize them. Note that the images are of 2 different shape \n",
    "#and the conv3D will throw error if the inputs in a batch have different shapes\n",
    "                    if image.shape[1] == 160:\n",
    "                        image = cv2.resize(image[:,20:140,:],(120,120),interpolation = cv2.INTER_AREA).astype(np.float32)\n",
    "                    else:\n",
    "                        image = cv2.resize(image,(120,120),interpolation = cv2.INTER_AREA).astype(np.float32)\n",
    "                                \n",
    "#normalise and feed in the image\n",
    "\n",
    "                    batch_data[folder,idx,:,:,0] = (image[:,:,0])/255\n",
    "                    batch_data[folder,idx,:,:,1] = (image[:,:,1])/255\n",
    "                    batch_data[folder,idx,:,:,2] = (image[:,:,2])/255\n",
    "                    \n",
    "                batch_labels[folder, int(t[folder + (batch*batch_size)].strip().split(';')[2])] = 1\n",
    "#you yield the batch_data and the batch_labels, remember what does yield do                \n",
    "            yield batch_data, batch_labels \n",
    "\n",
    "        \n",
    "# write the code for the remaining data points which are left after full batches\n",
    "        if (len(t)%batch_size) != 0:\n",
    "            batch_data = np.zeros((len(t)%batch_size,18,120,120,3))\n",
    "            batch_labels = np.zeros((len(t)%batch_size,5))\n",
    "            for folder in range(len(t)%batch_size):\n",
    "                imgs = os.listdir(source_path+'/'+ t[folder + (num_batches*batch_size)].split(';')[0])\n",
    "                for idx,item in enumerate(img_idx):\n",
    "                    image = cv2.imread(source_path+'/'+ t[folder + (num_batches*batch_size)].strip().split(';')[0]+'/'+imgs[item],cv2.IMREAD_UNCHANGED).astype(np.float32)\n",
    "                    if image.shape[1] == 160:\n",
    "                        image = cv2.resize(image[:,20:140,:],(120,120),interpolation = cv2.INTER_AREA).astype(np.float32)\n",
    "                    else:\n",
    "                        image = cv2.resize(image,(120,120),interpolation = cv2.INTER_AREA).astype(np.float32)\n",
    "\n",
    "                    batch_data[folder,idx,:,:,0] = (image[:,:,0])/255\n",
    "                    batch_data[folder,idx,:,:,1] = (image[:,:,1])/255\n",
    "                    batch_data[folder,idx,:,:,2] = (image[:,:,2])/255\n",
    "\n",
    "                batch_labels[folder, int(t[folder + (num_batches*batch_size)].strip().split(';')[2])] = 1\n",
    "\n",
    "            yield batch_data, batch_labels"
   ]
  },
  {
   "cell_type": "code",
   "execution_count": 61,
   "metadata": {},
   "outputs": [
    {
     "name": "stdout",
     "output_type": "stream",
     "text": [
      "# training sequences = 663\n",
      "# validation sequences = 100\n",
      "# epochs = 20\n"
     ]
    }
   ],
   "source": [
    "batch_size = 5\n",
    "curr_dt_time = datetime.datetime.now()\n",
    "train_path = '/datasets/Project_data/train'\n",
    "val_path = '/datasets/Project_data/val'\n",
    "num_train_sequences = len(train_doc)\n",
    "print('# training sequences =', num_train_sequences)\n",
    "num_val_sequences = len(val_doc)\n",
    "print('# validation sequences =', num_val_sequences)\n",
    "# choose the number of epochs\n",
    "num_epochs = 20\n",
    "print ('# epochs =', num_epochs)"
   ]
  },
  {
   "cell_type": "code",
   "execution_count": 62,
   "metadata": {},
   "outputs": [
    {
     "name": "stdout",
     "output_type": "stream",
     "text": [
      "WARNING:tensorflow:`period` argument is deprecated. Please use `save_freq` to specify the frequency in number of batches seen.\n"
     ]
    }
   ],
   "source": [
    "train_generator = generatorMobileNet(train_path, train_doc, batch_size)\n",
    "val_generator = generatorMobileNet(val_path, val_doc, batch_size)\n",
    "\n",
    "model_name = 'model_init' + '_' + str(curr_dt_time).replace(' ','').replace(':','_') + '/'\n",
    "    \n",
    "if not os.path.exists(model_name):\n",
    "    os.mkdir(model_name)\n",
    "        \n",
    "filepath = model_name + 'model-{epoch:05d}-{loss:.5f}-{categorical_accuracy:.5f}-{val_loss:.5f}-{val_categorical_accuracy:.5f}.h5'\n",
    "\n",
    "checkpoint = ModelCheckpoint(filepath, monitor='val_loss', verbose=1, save_best_only=False, save_weights_only=False, mode='auto', period=1)\n",
    "\n",
    "# write the REducelronplateau code here\n",
    "LR = ReduceLROnPlateau(monitor='val_loss', factor=0.2, patience=4)\n",
    "\n",
    "callbacks_list = [checkpoint, LR]\n",
    "\n",
    "if (num_train_sequences%batch_size) == 0:\n",
    "    steps_per_epoch = int(num_train_sequences/batch_size)\n",
    "else:\n",
    "    steps_per_epoch = (num_train_sequences//batch_size) + 1\n",
    "\n",
    "if (num_val_sequences%batch_size) == 0:\n",
    "    validation_steps = int(num_val_sequences/batch_size)\n",
    "else:\n",
    "    validation_steps = (num_val_sequences//batch_size) + 1"
   ]
  },
  {
   "cell_type": "code",
   "execution_count": 63,
   "metadata": {},
   "outputs": [
    {
     "name": "stderr",
     "output_type": "stream",
     "text": [
      "/tmp/ipykernel_203/3268031849.py:1: UserWarning: `Model.fit_generator` is deprecated and will be removed in a future version. Please use `Model.fit`, which supports generators.\n",
      "  history = mobileNetModel.fit_generator(train_generator, steps_per_epoch=steps_per_epoch, epochs=num_epochs, verbose=1,\n"
     ]
    },
    {
     "name": "stdout",
     "output_type": "stream",
     "text": [
      "Source path =  /datasets/Project_data/train ; batch size = 5\n",
      "Epoch 1/20\n",
      "133/133 [==============================] - ETA: 0s - loss: 1.4340 - categorical_accuracy: 0.3816Source path =  /datasets/Project_data/val ; batch size = 5\n",
      "\n",
      "Epoch 00001: saving model to model_init_2024-11-0421_57_47.183680/model-00001-1.43400-0.38160-1.03039-0.57000.h5\n",
      "133/133 [==============================] - 39s 267ms/step - loss: 1.4340 - categorical_accuracy: 0.3816 - val_loss: 1.0304 - val_categorical_accuracy: 0.5700 - lr: 0.0010\n",
      "Epoch 2/20\n",
      "133/133 [==============================] - ETA: 0s - loss: 0.8597 - categorical_accuracy: 0.6667\n",
      "Epoch 00002: saving model to model_init_2024-11-0421_57_47.183680/model-00002-0.85970-0.66667-0.85979-0.67000.h5\n",
      "133/133 [==============================] - 32s 240ms/step - loss: 0.8597 - categorical_accuracy: 0.6667 - val_loss: 0.8598 - val_categorical_accuracy: 0.6700 - lr: 0.0010\n",
      "Epoch 3/20\n",
      "133/133 [==============================] - ETA: 0s - loss: 0.5210 - categorical_accuracy: 0.8100\n",
      "Epoch 00003: saving model to model_init_2024-11-0421_57_47.183680/model-00003-0.52098-0.80995-0.71090-0.71000.h5\n",
      "133/133 [==============================] - 32s 239ms/step - loss: 0.5210 - categorical_accuracy: 0.8100 - val_loss: 0.7109 - val_categorical_accuracy: 0.7100 - lr: 0.0010\n",
      "Epoch 4/20\n",
      "133/133 [==============================] - ETA: 0s - loss: 0.4483 - categorical_accuracy: 0.8371\n",
      "Epoch 00004: saving model to model_init_2024-11-0421_57_47.183680/model-00004-0.44828-0.83710-0.67958-0.80000.h5\n",
      "133/133 [==============================] - 32s 242ms/step - loss: 0.4483 - categorical_accuracy: 0.8371 - val_loss: 0.6796 - val_categorical_accuracy: 0.8000 - lr: 0.0010\n",
      "Epoch 5/20\n",
      "133/133 [==============================] - ETA: 0s - loss: 0.3033 - categorical_accuracy: 0.8944\n",
      "Epoch 00005: saving model to model_init_2024-11-0421_57_47.183680/model-00005-0.30325-0.89442-0.74784-0.73000.h5\n",
      "133/133 [==============================] - 32s 240ms/step - loss: 0.3033 - categorical_accuracy: 0.8944 - val_loss: 0.7478 - val_categorical_accuracy: 0.7300 - lr: 0.0010\n",
      "Epoch 6/20\n",
      "133/133 [==============================] - ETA: 0s - loss: 0.1995 - categorical_accuracy: 0.9231\n",
      "Epoch 00006: saving model to model_init_2024-11-0421_57_47.183680/model-00006-0.19948-0.92308-0.92706-0.71000.h5\n",
      "133/133 [==============================] - 32s 238ms/step - loss: 0.1995 - categorical_accuracy: 0.9231 - val_loss: 0.9271 - val_categorical_accuracy: 0.7100 - lr: 0.0010\n",
      "Epoch 7/20\n",
      "133/133 [==============================] - ETA: 0s - loss: 0.1775 - categorical_accuracy: 0.9442\n",
      "Epoch 00007: saving model to model_init_2024-11-0421_57_47.183680/model-00007-0.17755-0.94419-0.64354-0.80000.h5\n",
      "133/133 [==============================] - 32s 238ms/step - loss: 0.1775 - categorical_accuracy: 0.9442 - val_loss: 0.6435 - val_categorical_accuracy: 0.8000 - lr: 0.0010\n",
      "Epoch 8/20\n",
      "133/133 [==============================] - ETA: 0s - loss: 0.1111 - categorical_accuracy: 0.9698\n",
      "Epoch 00008: saving model to model_init_2024-11-0421_57_47.183680/model-00008-0.11112-0.96983-1.00237-0.77000.h5\n",
      "133/133 [==============================] - 32s 241ms/step - loss: 0.1111 - categorical_accuracy: 0.9698 - val_loss: 1.0024 - val_categorical_accuracy: 0.7700 - lr: 0.0010\n",
      "Epoch 9/20\n",
      "133/133 [==============================] - ETA: 0s - loss: 0.0849 - categorical_accuracy: 0.9774\n",
      "Epoch 00009: saving model to model_init_2024-11-0421_57_47.183680/model-00009-0.08492-0.97738-1.02360-0.69000.h5\n",
      "133/133 [==============================] - 31s 237ms/step - loss: 0.0849 - categorical_accuracy: 0.9774 - val_loss: 1.0236 - val_categorical_accuracy: 0.6900 - lr: 0.0010\n",
      "Epoch 10/20\n",
      "133/133 [==============================] - ETA: 0s - loss: 0.0816 - categorical_accuracy: 0.9744\n",
      "Epoch 00010: saving model to model_init_2024-11-0421_57_47.183680/model-00010-0.08159-0.97436-0.64970-0.77000.h5\n",
      "133/133 [==============================] - 32s 242ms/step - loss: 0.0816 - categorical_accuracy: 0.9744 - val_loss: 0.6497 - val_categorical_accuracy: 0.7700 - lr: 0.0010\n",
      "Epoch 11/20\n",
      "133/133 [==============================] - ETA: 0s - loss: 0.0830 - categorical_accuracy: 0.9744\n",
      "Epoch 00011: saving model to model_init_2024-11-0421_57_47.183680/model-00011-0.08301-0.97436-1.00652-0.70000.h5\n",
      "133/133 [==============================] - 32s 239ms/step - loss: 0.0830 - categorical_accuracy: 0.9744 - val_loss: 1.0065 - val_categorical_accuracy: 0.7000 - lr: 0.0010\n",
      "Epoch 12/20\n",
      "133/133 [==============================] - ETA: 0s - loss: 0.0824 - categorical_accuracy: 0.9744\n",
      "Epoch 00012: saving model to model_init_2024-11-0421_57_47.183680/model-00012-0.08238-0.97436-0.95402-0.75000.h5\n",
      "133/133 [==============================] - 32s 238ms/step - loss: 0.0824 - categorical_accuracy: 0.9744 - val_loss: 0.9540 - val_categorical_accuracy: 0.7500 - lr: 2.0000e-04\n",
      "Epoch 13/20\n",
      "133/133 [==============================] - ETA: 0s - loss: 0.0398 - categorical_accuracy: 0.9879\n",
      "Epoch 00013: saving model to model_init_2024-11-0421_57_47.183680/model-00013-0.03985-0.98793-0.93213-0.74000.h5\n",
      "133/133 [==============================] - 32s 239ms/step - loss: 0.0398 - categorical_accuracy: 0.9879 - val_loss: 0.9321 - val_categorical_accuracy: 0.7400 - lr: 2.0000e-04\n",
      "Epoch 14/20\n",
      "133/133 [==============================] - ETA: 0s - loss: 0.0206 - categorical_accuracy: 0.9955\n",
      "Epoch 00014: saving model to model_init_2024-11-0421_57_47.183680/model-00014-0.02061-0.99548-1.26915-0.66000.h5\n",
      "133/133 [==============================] - 32s 240ms/step - loss: 0.0206 - categorical_accuracy: 0.9955 - val_loss: 1.2691 - val_categorical_accuracy: 0.6600 - lr: 2.0000e-04\n",
      "Epoch 15/20\n",
      "133/133 [==============================] - ETA: 0s - loss: 0.0227 - categorical_accuracy: 0.9970\n",
      "Epoch 00015: saving model to model_init_2024-11-0421_57_47.183680/model-00015-0.02269-0.99698-0.98010-0.77000.h5\n",
      "133/133 [==============================] - 32s 239ms/step - loss: 0.0227 - categorical_accuracy: 0.9970 - val_loss: 0.9801 - val_categorical_accuracy: 0.7700 - lr: 2.0000e-04\n",
      "Epoch 16/20\n",
      "133/133 [==============================] - ETA: 0s - loss: 0.0270 - categorical_accuracy: 0.9940\n",
      "Epoch 00016: saving model to model_init_2024-11-0421_57_47.183680/model-00016-0.02701-0.99397-0.94056-0.71000.h5\n",
      "133/133 [==============================] - 31s 233ms/step - loss: 0.0270 - categorical_accuracy: 0.9940 - val_loss: 0.9406 - val_categorical_accuracy: 0.7100 - lr: 4.0000e-05\n",
      "Epoch 17/20\n",
      "133/133 [==============================] - ETA: 0s - loss: 0.0297 - categorical_accuracy: 0.9910\n",
      "Epoch 00017: saving model to model_init_2024-11-0421_57_47.183680/model-00017-0.02967-0.99095-1.12659-0.73000.h5\n",
      "133/133 [==============================] - 32s 240ms/step - loss: 0.0297 - categorical_accuracy: 0.9910 - val_loss: 1.1266 - val_categorical_accuracy: 0.7300 - lr: 4.0000e-05\n",
      "Epoch 18/20\n",
      "133/133 [==============================] - ETA: 0s - loss: 0.0265 - categorical_accuracy: 0.9925\n",
      "Epoch 00018: saving model to model_init_2024-11-0421_57_47.183680/model-00018-0.02650-0.99246-0.89194-0.73000.h5\n",
      "133/133 [==============================] - 31s 236ms/step - loss: 0.0265 - categorical_accuracy: 0.9925 - val_loss: 0.8919 - val_categorical_accuracy: 0.7300 - lr: 4.0000e-05\n",
      "Epoch 19/20\n",
      "133/133 [==============================] - ETA: 0s - loss: 0.0185 - categorical_accuracy: 0.9955\n",
      "Epoch 00019: saving model to model_init_2024-11-0421_57_47.183680/model-00019-0.01849-0.99548-0.95093-0.76000.h5\n",
      "133/133 [==============================] - 32s 241ms/step - loss: 0.0185 - categorical_accuracy: 0.9955 - val_loss: 0.9509 - val_categorical_accuracy: 0.7600 - lr: 4.0000e-05\n",
      "Epoch 20/20\n",
      "133/133 [==============================] - ETA: 0s - loss: 0.0143 - categorical_accuracy: 0.9985\n",
      "Epoch 00020: saving model to model_init_2024-11-0421_57_47.183680/model-00020-0.01426-0.99849-1.05065-0.72000.h5\n",
      "133/133 [==============================] - 30s 229ms/step - loss: 0.0143 - categorical_accuracy: 0.9985 - val_loss: 1.0506 - val_categorical_accuracy: 0.7200 - lr: 8.0000e-06\n"
     ]
    }
   ],
   "source": [
    "history = mobileNetModel.fit_generator(train_generator, steps_per_epoch=steps_per_epoch, epochs=num_epochs, verbose=1, \n",
    "                    callbacks=callbacks_list, validation_data=val_generator, \n",
    "                    validation_steps=validation_steps, class_weight=None, workers=1, initial_epoch=0)"
   ]
  },
  {
   "cell_type": "code",
   "execution_count": 64,
   "metadata": {},
   "outputs": [
    {
     "data": {
      "image/png": "[encoded data removed]",
      "text/plain": [
       "<Figure size 432x288 with 1 Axes>"
      ]
     },
     "metadata": {
      "needs_background": "light"
     },
     "output_type": "display_data"
    },
    {
     "data": {
      "image/png": "[encoded data removed]",
      "text/plain": [
       "<Figure size 432x288 with 1 Axes>"
      ]
     },
     "metadata": {
      "needs_background": "light"
     },
     "output_type": "display_data"
    }
   ],
   "source": [
    "# Plotting the result of Model 11:\n",
    "\n",
    "# summarize history for accuracy\n",
    "plt.plot(history.history['categorical_accuracy'])\n",
    "plt.plot(history.history['val_categorical_accuracy'])\n",
    "plt.title('model accuracy')\n",
    "plt.ylabel('accuracy')\n",
    "plt.xlabel('epoch')\n",
    "plt.legend(['train', 'test'], loc='upper left')\n",
    "plt.show()\n",
    "\n",
    "# summarize history for loss\n",
    "plt.plot(history.history['loss'])\n",
    "plt.plot(history.history['val_loss'])\n",
    "plt.title('model loss')\n",
    "plt.ylabel('loss')\n",
    "plt.xlabel('epoch')\n",
    "plt.legend(['train', 'test'], loc='upper left')\n",
    "plt.show()"
   ]
  },
  {
   "cell_type": "markdown",
   "metadata": {},
   "source": [
    "### train accuracy of 99.85 % and val accuracy of 72 %.\n",
    "### We are not training the mobilenet weights and we see validation accuracy is not good compare to train accuracy. Let's train them as well and observe if there is performance improvement."
   ]
  },
  {
   "cell_type": "markdown",
   "metadata": {},
   "source": [
    "# Model 12.\n",
    "## Transfer Learning with GRU and training all weights"
   ]
  },
  {
   "cell_type": "code",
   "execution_count": 65,
   "metadata": {},
   "outputs": [
    {
     "name": "stdout",
     "output_type": "stream",
     "text": [
      "WARNING:tensorflow:`input_shape` is undefined or non-square, or `rows` is not in [128, 160, 192, 224]. Weights for input shape (224, 224) will be loaded as the default.\n",
      "Model: \"sequential_8\"\n",
      "_________________________________________________________________\n",
      " Layer (type)                Output Shape              Param #   \n",
      "=================================================================\n",
      " time_distributed_45 (TimeDi  (None, 18, 3, 3, 1024)   3228864   \n",
      " stributed)                                                      \n",
      "                                                                 \n",
      " time_distributed_46 (TimeDi  (None, 18, 3, 3, 1024)   4096      \n",
      " stributed)                                                      \n",
      "                                                                 \n",
      " time_distributed_47 (TimeDi  (None, 18, 1, 1, 1024)   0         \n",
      " stributed)                                                      \n",
      "                                                                 \n",
      " time_distributed_48 (TimeDi  (None, 18, 1024)         0         \n",
      " stributed)                                                      \n",
      "                                                                 \n",
      " lstm_2 (LSTM)               (None, 128)               590336    \n",
      "                                                                 \n",
      " dropout_15 (Dropout)        (None, 128)               0         \n",
      "                                                                 \n",
      " dense_18 (Dense)            (None, 128)               16512     \n",
      "                                                                 \n",
      " dropout_16 (Dropout)        (None, 128)               0         \n",
      "                                                                 \n",
      " dense_19 (Dense)            (None, 5)                 645       \n",
      "                                                                 \n",
      "=================================================================\n",
      "Total params: 3,840,453\n",
      "Trainable params: 609,541\n",
      "Non-trainable params: 3,230,912\n",
      "_________________________________________________________________\n",
      "None\n"
     ]
    }
   ],
   "source": [
    "from keras.applications import mobilenet\n",
    "\n",
    "mobilenet_transfer = mobilenet.MobileNet(weights='imagenet', include_top=False)\n",
    "\n",
    "input_shape = (18,120,120,3)\n",
    "        \n",
    "mobileNetModelWeight = Sequential()\n",
    "mobileNetModelWeight.add(TimeDistributed(mobilenet_transfer,input_shape=(input_shape)))\n",
    "\n",
    "\n",
    "mobileNetModelWeight.add(TimeDistributed(BatchNormalization()))\n",
    "mobileNetModelWeight.add(TimeDistributed(MaxPooling2D((2, 2))))\n",
    "mobileNetModelWeight.add(TimeDistributed(Flatten()))\n",
    "\n",
    "mobileNetModelWeight.add(GRU(128))\n",
    "mobileNetModelWeight.add(Dropout(0.25))\n",
    "\n",
    "mobileNetModelWeight.add(Dense(128,activation='relu'))\n",
    "mobileNetModelWeight.add(Dropout(0.25))\n",
    "\n",
    "mobileNetModelWeight.add(Dense(5, activation='softmax'))\n",
    "\n",
    "\n",
    "optimiser = tf.keras.optimizers.Adam()\n",
    "mobileNetModelWeight.compile(optimizer=optimiser, loss='categorical_crossentropy', metrics=['categorical_accuracy'])\n",
    "print (mobileNetModel.summary())"
   ]
  },
  {
   "cell_type": "code",
   "execution_count": 66,
   "metadata": {},
   "outputs": [
    {
     "name": "stdout",
     "output_type": "stream",
     "text": [
      "Total Params in model: 3840453\n"
     ]
    }
   ],
   "source": [
    "print(\"Total Params in model:\", mobileNetModel.count_params())"
   ]
  },
  {
   "cell_type": "code",
   "execution_count": 67,
   "metadata": {},
   "outputs": [
    {
     "name": "stdout",
     "output_type": "stream",
     "text": [
      "# training sequences = 663\n",
      "# validation sequences = 100\n",
      "# epochs = 20\n"
     ]
    }
   ],
   "source": [
    "batch_size = 5\n",
    "curr_dt_time = datetime.datetime.now()\n",
    "train_path = '/datasets/Project_data/train'\n",
    "val_path = '/datasets/Project_data/val'\n",
    "num_train_sequences = len(train_doc)\n",
    "print('# training sequences =', num_train_sequences)\n",
    "num_val_sequences = len(val_doc)\n",
    "print('# validation sequences =', num_val_sequences)\n",
    "# choose the number of epochs\n",
    "num_epochs = 20\n",
    "print ('# epochs =', num_epochs)"
   ]
  },
  {
   "cell_type": "code",
   "execution_count": null,
   "metadata": {},
   "outputs": [],
   "source": []
  },
  {
   "cell_type": "code",
   "execution_count": 69,
   "metadata": {},
   "outputs": [
    {
     "name": "stdout",
     "output_type": "stream",
     "text": [
      "WARNING:tensorflow:`period` argument is deprecated. Please use `save_freq` to specify the frequency in number of batches seen.\n"
     ]
    }
   ],
   "source": [
    "train_generator = generatorMobileNet(train_path, train_doc, batch_size)\n",
    "val_generator = generatorMobileNet(val_path, val_doc, batch_size)\n",
    "\n",
    "model_name = 'model_init' + '_' + str(curr_dt_time).replace(' ','').replace(':','_') + '/'\n",
    "    \n",
    "if not os.path.exists(model_name):\n",
    "    os.mkdir(model_name)\n",
    "        \n",
    "filepath = model_name + 'model-{epoch:05d}-{loss:.5f}-{categorical_accuracy:.5f}-{val_loss:.5f}-{val_categorical_accuracy:.5f}.h5'\n",
    "\n",
    "checkpoint = ModelCheckpoint(filepath, monitor='val_loss', verbose=1, save_best_only=False, save_weights_only=False, mode='auto', period=1)\n",
    "\n",
    "# write the REducelronplateau code here\n",
    "LR = ReduceLROnPlateau(monitor='val_loss', factor=0.2, patience=4)\n",
    "\n",
    "callbacks_list = [checkpoint, LR]\n",
    "\n",
    "if (num_train_sequences%batch_size) == 0:\n",
    "    steps_per_epoch = int(num_train_sequences/batch_size)\n",
    "else:\n",
    "    steps_per_epoch = (num_train_sequences//batch_size) + 1\n",
    "\n",
    "if (num_val_sequences%batch_size) == 0:\n",
    "    validation_steps = int(num_val_sequences/batch_size)\n",
    "else:\n",
    "    validation_steps = (num_val_sequences//batch_size) + 1"
   ]
  },
  {
   "cell_type": "code",
   "execution_count": 70,
   "metadata": {},
   "outputs": [
    {
     "name": "stderr",
     "output_type": "stream",
     "text": [
      "/tmp/ipykernel_203/950158795.py:1: UserWarning: `Model.fit_generator` is deprecated and will be removed in a future version. Please use `Model.fit`, which supports generators.\n",
      "  history = mobileNetModelWeight.fit_generator(train_generator, steps_per_epoch=steps_per_epoch, epochs=num_epochs, verbose=1,\n"
     ]
    },
    {
     "name": "stdout",
     "output_type": "stream",
     "text": [
      "Source path =  /datasets/Project_data/train ; batch size = 5\n",
      "Epoch 1/20\n",
      "133/133 [==============================] - ETA: 0s - loss: 1.4538 - categorical_accuracy: 0.3922Source path =  /datasets/Project_data/val ; batch size = 5\n",
      "\n",
      "Epoch 00001: saving model to model_init_2024-11-0422_10_35.628466/model-00001-1.45379-0.39216-0.90233-0.66000.h5\n",
      "133/133 [==============================] - 40s 270ms/step - loss: 1.4538 - categorical_accuracy: 0.3922 - val_loss: 0.9023 - val_categorical_accuracy: 0.6600 - lr: 0.0010\n",
      "Epoch 2/20\n",
      "133/133 [==============================] - ETA: 0s - loss: 0.9056 - categorical_accuracy: 0.6606\n",
      "Epoch 00002: saving model to model_init_2024-11-0422_10_35.628466/model-00002-0.90564-0.66063-0.83649-0.58000.h5\n",
      "133/133 [==============================] - 34s 257ms/step - loss: 0.9056 - categorical_accuracy: 0.6606 - val_loss: 0.8365 - val_categorical_accuracy: 0.5800 - lr: 0.0010\n",
      "Epoch 3/20\n",
      "133/133 [==============================] - ETA: 0s - loss: 0.7355 - categorical_accuracy: 0.7044\n",
      "Epoch 00003: saving model to model_init_2024-11-0422_10_35.628466/model-00003-0.73553-0.70437-0.47343-0.84000.h5\n",
      "133/133 [==============================] - 35s 265ms/step - loss: 0.7355 - categorical_accuracy: 0.7044 - val_loss: 0.4734 - val_categorical_accuracy: 0.8400 - lr: 0.0010\n",
      "Epoch 4/20\n",
      "133/133 [==============================] - ETA: 0s - loss: 0.5128 - categorical_accuracy: 0.8205\n",
      "Epoch 00004: saving model to model_init_2024-11-0422_10_35.628466/model-00004-0.51282-0.82051-0.42205-0.84000.h5\n",
      "133/133 [==============================] - 34s 259ms/step - loss: 0.5128 - categorical_accuracy: 0.8205 - val_loss: 0.4220 - val_categorical_accuracy: 0.8400 - lr: 0.0010\n",
      "Epoch 5/20\n",
      "133/133 [==============================] - ETA: 0s - loss: 0.4930 - categorical_accuracy: 0.8462\n",
      "Epoch 00005: saving model to model_init_2024-11-0422_10_35.628466/model-00005-0.49295-0.84615-0.57061-0.79000.h5\n",
      "133/133 [==============================] - 34s 256ms/step - loss: 0.4930 - categorical_accuracy: 0.8462 - val_loss: 0.5706 - val_categorical_accuracy: 0.7900 - lr: 0.0010\n",
      "Epoch 6/20\n",
      "133/133 [==============================] - ETA: 0s - loss: 0.4235 - categorical_accuracy: 0.8431\n",
      "Epoch 00006: saving model to model_init_2024-11-0422_10_35.628466/model-00006-0.42352-0.84314-0.51036-0.81000.h5\n",
      "133/133 [==============================] - 34s 255ms/step - loss: 0.4235 - categorical_accuracy: 0.8431 - val_loss: 0.5104 - val_categorical_accuracy: 0.8100 - lr: 0.0010\n",
      "Epoch 7/20\n",
      "133/133 [==============================] - ETA: 0s - loss: 0.3863 - categorical_accuracy: 0.8537\n",
      "Epoch 00007: saving model to model_init_2024-11-0422_10_35.628466/model-00007-0.38631-0.85370-2.20467-0.58000.h5\n",
      "133/133 [==============================] - 35s 266ms/step - loss: 0.3863 - categorical_accuracy: 0.8537 - val_loss: 2.2047 - val_categorical_accuracy: 0.5800 - lr: 0.0010\n",
      "Epoch 8/20\n",
      "133/133 [==============================] - ETA: 0s - loss: 0.6237 - categorical_accuracy: 0.7783\n",
      "Epoch 00008: saving model to model_init_2024-11-0422_10_35.628466/model-00008-0.62367-0.77828-1.56068-0.43000.h5\n",
      "133/133 [==============================] - 34s 255ms/step - loss: 0.6237 - categorical_accuracy: 0.7783 - val_loss: 1.5607 - val_categorical_accuracy: 0.4300 - lr: 0.0010\n",
      "Epoch 9/20\n",
      "133/133 [==============================] - ETA: 0s - loss: 0.3194 - categorical_accuracy: 0.8733\n",
      "Epoch 00009: saving model to model_init_2024-11-0422_10_35.628466/model-00009-0.31940-0.87330-0.26863-0.90000.h5\n",
      "133/133 [==============================] - 34s 258ms/step - loss: 0.3194 - categorical_accuracy: 0.8733 - val_loss: 0.2686 - val_categorical_accuracy: 0.9000 - lr: 2.0000e-04\n",
      "Epoch 10/20\n",
      "133/133 [==============================] - ETA: 0s - loss: 0.2436 - categorical_accuracy: 0.9065\n",
      "Epoch 00010: saving model to model_init_2024-11-0422_10_35.628466/model-00010-0.24357-0.90649-0.33785-0.87000.h5\n",
      "133/133 [==============================] - 34s 252ms/step - loss: 0.2436 - categorical_accuracy: 0.9065 - val_loss: 0.3378 - val_categorical_accuracy: 0.8700 - lr: 2.0000e-04\n",
      "Epoch 11/20\n",
      "133/133 [==============================] - ETA: 0s - loss: 0.2244 - categorical_accuracy: 0.9170\n",
      "Epoch 00011: saving model to model_init_2024-11-0422_10_35.628466/model-00011-0.22439-0.91704-0.18803-0.93000.h5\n",
      "133/133 [==============================] - 34s 255ms/step - loss: 0.2244 - categorical_accuracy: 0.9170 - val_loss: 0.1880 - val_categorical_accuracy: 0.9300 - lr: 2.0000e-04\n",
      "Epoch 12/20\n",
      "133/133 [==============================] - ETA: 0s - loss: 0.1776 - categorical_accuracy: 0.9397\n",
      "Epoch 00012: saving model to model_init_2024-11-0422_10_35.628466/model-00012-0.17764-0.93967-0.25311-0.94000.h5\n",
      "133/133 [==============================] - 34s 258ms/step - loss: 0.1776 - categorical_accuracy: 0.9397 - val_loss: 0.2531 - val_categorical_accuracy: 0.9400 - lr: 2.0000e-04\n",
      "Epoch 13/20\n",
      "133/133 [==============================] - ETA: 0s - loss: 0.1698 - categorical_accuracy: 0.9321\n",
      "Epoch 00013: saving model to model_init_2024-11-0422_10_35.628466/model-00013-0.16984-0.93213-0.19782-0.94000.h5\n",
      "133/133 [==============================] - 35s 267ms/step - loss: 0.1698 - categorical_accuracy: 0.9321 - val_loss: 0.1978 - val_categorical_accuracy: 0.9400 - lr: 2.0000e-04\n",
      "Epoch 14/20\n",
      "133/133 [==============================] - ETA: 0s - loss: 0.1381 - categorical_accuracy: 0.9472\n",
      "Epoch 00014: saving model to model_init_2024-11-0422_10_35.628466/model-00014-0.13810-0.94721-0.21812-0.95000.h5\n",
      "133/133 [==============================] - 32s 243ms/step - loss: 0.1381 - categorical_accuracy: 0.9472 - val_loss: 0.2181 - val_categorical_accuracy: 0.9500 - lr: 2.0000e-04\n",
      "Epoch 15/20\n",
      "133/133 [==============================] - ETA: 0s - loss: 0.1232 - categorical_accuracy: 0.9608\n",
      "Epoch 00015: saving model to model_init_2024-11-0422_10_35.628466/model-00015-0.12323-0.96078-0.20144-0.93000.h5\n",
      "133/133 [==============================] - 34s 259ms/step - loss: 0.1232 - categorical_accuracy: 0.9608 - val_loss: 0.2014 - val_categorical_accuracy: 0.9300 - lr: 2.0000e-04\n",
      "Epoch 16/20\n",
      "133/133 [==============================] - ETA: 0s - loss: 0.0781 - categorical_accuracy: 0.9698\n",
      "Epoch 00016: saving model to model_init_2024-11-0422_10_35.628466/model-00016-0.07808-0.96983-0.22221-0.94000.h5\n",
      "133/133 [==============================] - 32s 241ms/step - loss: 0.0781 - categorical_accuracy: 0.9698 - val_loss: 0.2222 - val_categorical_accuracy: 0.9400 - lr: 4.0000e-05\n",
      "Epoch 17/20\n",
      "133/133 [==============================] - ETA: 0s - loss: 0.0609 - categorical_accuracy: 0.9879\n",
      "Epoch 00017: saving model to model_init_2024-11-0422_10_35.628466/model-00017-0.06091-0.98793-0.15201-0.96000.h5\n",
      "133/133 [==============================] - 33s 251ms/step - loss: 0.0609 - categorical_accuracy: 0.9879 - val_loss: 0.1520 - val_categorical_accuracy: 0.9600 - lr: 4.0000e-05\n",
      "Epoch 18/20\n",
      "133/133 [==============================] - ETA: 0s - loss: 0.0589 - categorical_accuracy: 0.9819\n",
      "Epoch 00018: saving model to model_init_2024-11-0422_10_35.628466/model-00018-0.05889-0.98190-0.17314-0.94000.h5\n",
      "133/133 [==============================] - 34s 260ms/step - loss: 0.0589 - categorical_accuracy: 0.9819 - val_loss: 0.1731 - val_categorical_accuracy: 0.9400 - lr: 4.0000e-05\n",
      "Epoch 19/20\n",
      "133/133 [==============================] - ETA: 0s - loss: 0.0417 - categorical_accuracy: 0.9879\n",
      "Epoch 00019: saving model to model_init_2024-11-0422_10_35.628466/model-00019-0.04165-0.98793-0.15285-0.96000.h5\n",
      "133/133 [==============================] - 34s 253ms/step - loss: 0.0417 - categorical_accuracy: 0.9879 - val_loss: 0.1528 - val_categorical_accuracy: 0.9600 - lr: 4.0000e-05\n",
      "Epoch 20/20\n",
      "133/133 [==============================] - ETA: 0s - loss: 0.0497 - categorical_accuracy: 0.9879\n",
      "Epoch 00020: saving model to model_init_2024-11-0422_10_35.628466/model-00020-0.04974-0.98793-0.17111-0.96000.h5\n",
      "133/133 [==============================] - 34s 258ms/step - loss: 0.0497 - categorical_accuracy: 0.9879 - val_loss: 0.1711 - val_categorical_accuracy: 0.9600 - lr: 4.0000e-05\n"
     ]
    }
   ],
   "source": [
    "history = mobileNetModelWeight.fit_generator(train_generator, steps_per_epoch=steps_per_epoch, epochs=num_epochs, verbose=1, \n",
    "                    callbacks=callbacks_list, validation_data=val_generator, \n",
    "                    validation_steps=validation_steps, class_weight=None, workers=1, initial_epoch=0)"
   ]
  },
  {
   "cell_type": "code",
   "execution_count": 71,
   "metadata": {},
   "outputs": [
    {
     "data": {
      "image/png": "[encoded data removed]",
      "text/plain": [
       "<Figure size 432x288 with 1 Axes>"
      ]
     },
     "metadata": {
      "needs_background": "light"
     },
     "output_type": "display_data"
    },
    {
     "data": {
      "image/png": "[encoded data removed]",
      "text/plain": [
       "<Figure size 432x288 with 1 Axes>"
      ]
     },
     "metadata": {
      "needs_background": "light"
     },
     "output_type": "display_data"
    }
   ],
   "source": [
    "# Plotting the result of Model 12:\n",
    "\n",
    "# summarize history for accuracy\n",
    "plt.plot(history.history['categorical_accuracy'])\n",
    "plt.plot(history.history['val_categorical_accuracy'])\n",
    "plt.title('model accuracy')\n",
    "plt.ylabel('accuracy')\n",
    "plt.xlabel('epoch')\n",
    "plt.legend(['train', 'test'], loc='upper left')\n",
    "plt.show()\n",
    "\n",
    "# summarize history for loss\n",
    "plt.plot(history.history['loss'])\n",
    "plt.plot(history.history['val_loss'])\n",
    "plt.title('model loss')\n",
    "plt.ylabel('loss')\n",
    "plt.xlabel('epoch')\n",
    "plt.legend(['train', 'test'], loc='upper left')\n",
    "plt.show()"
   ]
  },
  {
   "cell_type": "markdown",
   "metadata": {},
   "source": [
    "### Got the best test accuracy of 98.79 % and val accuracy of 96 %."
   ]
  },
  {
   "cell_type": "markdown",
   "metadata": {},
   "source": [
    "# Final Model Choosen :\n",
    "\n",
    "## Transfer Learning with GRU and training all weights\n",
    "### model name : model_init_2024-11-0422_10_35.628466/model-00020-0.04974-0.98793-0.17111-0.96000.h5\n",
    "### This has completed training with good accuracy of 96 % over validation data."
   ]
  },
  {
   "cell_type": "code",
   "execution_count": null,
   "metadata": {},
   "outputs": [],
   "source": []
  }
 ],
 "metadata": {
  "kernelspec": {
   "display_name": "Python 3 (ipykernel)",
   "language": "python",
   "name": "python3"
  },
  "language_info": {
   "codemirror_mode": {
    "name": "ipython",
    "version": 3
   },
   "file_extension": ".py",
   "mimetype": "text/x-python",
   "name": "python",
   "nbconvert_exporter": "python",
   "pygments_lexer": "ipython3",
   "version": "3.8.10"
  }
 },
 "nbformat": 4,
 "nbformat_minor": 4
}
